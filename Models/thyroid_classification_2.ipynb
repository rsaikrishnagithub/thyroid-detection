{
  "nbformat": 4,
  "nbformat_minor": 0,
  "metadata": {
    "kernelspec": {
      "display_name": "Python 3",
      "language": "python",
      "name": "python3"
    },
    "language_info": {
      "codemirror_mode": {
        "name": "ipython",
        "version": 3
      },
      "file_extension": ".py",
      "mimetype": "text/x-python",
      "name": "python",
      "nbconvert_exporter": "python",
      "pygments_lexer": "ipython3",
      "version": "3.7.6"
    },
    "papermill": {
      "duration": 448.50645,
      "end_time": "2021-03-26T17:27:24.676836",
      "environment_variables": {},
      "exception": null,
      "input_path": "__notebook__.ipynb",
      "output_path": "__notebook__.ipynb",
      "parameters": {},
      "start_time": "2021-03-26T17:19:56.170386",
      "version": "2.1.0"
    },
    "colab": {
      "name": "thyroid-classification.ipynb",
      "provenance": [],
      "collapsed_sections": []
    }
  },
  "cells": [
    {
      "cell_type": "markdown",
      "metadata": {
        "id": "n2rNgxE1oCo0"
      },
      "source": [
        "### Download data set from here\n",
        "#### https://www.kaggle.com/dariomandarino/hypothyroid-multi-dataset"
      ]
    },
    {
      "cell_type": "code",
      "metadata": {
        "colab": {
          "base_uri": "https://localhost:8080/"
        },
        "id": "SqOmyGF3ZvqJ",
        "outputId": "15e424cc-1e91-41da-c997-d566c43544b3"
      },
      "source": [
        "!pip install catboost"
      ],
      "execution_count": 1,
      "outputs": [
        {
          "output_type": "stream",
          "name": "stdout",
          "text": [
            "Requirement already satisfied: catboost in /usr/local/lib/python3.7/dist-packages (1.0.1)\n",
            "Requirement already satisfied: pandas>=0.24.0 in /usr/local/lib/python3.7/dist-packages (from catboost) (1.1.5)\n",
            "Requirement already satisfied: scipy in /usr/local/lib/python3.7/dist-packages (from catboost) (1.4.1)\n",
            "Requirement already satisfied: plotly in /usr/local/lib/python3.7/dist-packages (from catboost) (4.4.1)\n",
            "Requirement already satisfied: numpy>=1.16.0 in /usr/local/lib/python3.7/dist-packages (from catboost) (1.19.5)\n",
            "Requirement already satisfied: graphviz in /usr/local/lib/python3.7/dist-packages (from catboost) (0.10.1)\n",
            "Requirement already satisfied: matplotlib in /usr/local/lib/python3.7/dist-packages (from catboost) (3.2.2)\n",
            "Requirement already satisfied: six in /usr/local/lib/python3.7/dist-packages (from catboost) (1.15.0)\n",
            "Requirement already satisfied: pytz>=2017.2 in /usr/local/lib/python3.7/dist-packages (from pandas>=0.24.0->catboost) (2018.9)\n",
            "Requirement already satisfied: python-dateutil>=2.7.3 in /usr/local/lib/python3.7/dist-packages (from pandas>=0.24.0->catboost) (2.8.2)\n",
            "Requirement already satisfied: pyparsing!=2.0.4,!=2.1.2,!=2.1.6,>=2.0.1 in /usr/local/lib/python3.7/dist-packages (from matplotlib->catboost) (2.4.7)\n",
            "Requirement already satisfied: cycler>=0.10 in /usr/local/lib/python3.7/dist-packages (from matplotlib->catboost) (0.10.0)\n",
            "Requirement already satisfied: kiwisolver>=1.0.1 in /usr/local/lib/python3.7/dist-packages (from matplotlib->catboost) (1.3.2)\n",
            "Requirement already satisfied: retrying>=1.3.3 in /usr/local/lib/python3.7/dist-packages (from plotly->catboost) (1.3.3)\n"
          ]
        }
      ]
    },
    {
      "cell_type": "code",
      "metadata": {
        "_cell_guid": "b1076dfc-b9ad-4769-8c92-a6c4dae69d19",
        "_uuid": "8f2839f25d086af736a60e9eeb907d3b93b6e0e5",
        "execution": {
          "iopub.execute_input": "2021-03-26T17:20:01.128618Z",
          "iopub.status.busy": "2021-03-26T17:20:01.127751Z",
          "iopub.status.idle": "2021-03-26T17:20:03.797693Z",
          "shell.execute_reply": "2021-03-26T17:20:03.797100Z"
        },
        "papermill": {
          "duration": 2.72433,
          "end_time": "2021-03-26T17:20:03.797815",
          "exception": false,
          "start_time": "2021-03-26T17:20:01.073485",
          "status": "completed"
        },
        "tags": [],
        "colab": {
          "base_uri": "https://localhost:8080/"
        },
        "id": "DhyYQP_qZUC_",
        "outputId": "caee9cef-8610-407a-f977-14b5d1bad838"
      },
      "source": [
        "# This Python 3 environment comes with many helpful analytics libraries installed\n",
        "# It is defined by the kaggle/python Docker image: https://github.com/kaggle/docker-python\n",
        "# For example, here's several helpful packages to load\n",
        "\n",
        "import numpy as np # linear algebra\n",
        "import pandas as pd # data processing, CSV file I/O (e.g. pd.read_csv)\n",
        "from sklearn.model_selection import train_test_split\n",
        "from sklearn.metrics import confusion_matrix\n",
        "from  xgboost import XGBClassifier\n",
        "from sklearn.neural_network import MLPClassifier\n",
        "from imblearn.over_sampling import SMOTE\n",
        "from sklearn.utils import resample\n",
        "from scipy import stats\n",
        "from sklearn import metrics\n",
        "from catboost import CatBoostClassifier\n",
        "from sklearn.tree import DecisionTreeClassifier \n",
        "from sklearn.neighbors import KNeighborsClassifier\n",
        "from sklearn.preprocessing import LabelEncoder\n",
        "from sklearn.ensemble import RandomForestClassifier\n",
        "from sklearn.ensemble import ExtraTreesClassifier\n",
        "\n",
        "\n",
        "import os\n"
      ],
      "execution_count": 2,
      "outputs": [
        {
          "output_type": "stream",
          "name": "stderr",
          "text": [
            "/usr/local/lib/python3.7/dist-packages/sklearn/externals/six.py:31: FutureWarning: The module is deprecated in version 0.21 and will be removed in version 0.23 since we've dropped support for Python 2.7. Please rely on the official version of six (https://pypi.org/project/six/).\n",
            "  \"(https://pypi.org/project/six/).\", FutureWarning)\n",
            "/usr/local/lib/python3.7/dist-packages/sklearn/utils/deprecation.py:144: FutureWarning: The sklearn.neighbors.base module is  deprecated in version 0.22 and will be removed in version 0.24. The corresponding classes / functions should instead be imported from sklearn.neighbors. Anything that cannot be imported from sklearn.neighbors is now part of the private API.\n",
            "  warnings.warn(message, FutureWarning)\n"
          ]
        }
      ]
    },
    {
      "cell_type": "markdown",
      "metadata": {
        "papermill": {
          "duration": 0.041439,
          "end_time": "2021-03-26T17:20:03.881813",
          "exception": false,
          "start_time": "2021-03-26T17:20:03.840374",
          "status": "completed"
        },
        "tags": [],
        "id": "9egTbC9WZUDH"
      },
      "source": [
        "# Introduction\n",
        "### In this notebook I want to study thyroid problems and I want to train and prepare some classifiers that could recognize any kind of thyroid problem in a patient.<br>To do this, I will use six datasets I got from -> https://archive.ics.uci.edu/ml/datasets/Thyroid+Disease:\n",
        "* allhyperTestEDIT and allhyperTrainEDIT present classes'hyperthyroid','T3 toxic','goitre','secondary toxic' and 'negative'\n",
        "* allhypoDATA and allhypoTEST present classes 'hypothyroid','primary hypothyroid','compensated hypothyroid','secondary hypothyroid' and 'negative'\n",
        "* hypothyroid present classes 'hypothyroid' and 'negative'\n",
        "* sick-euthyroid present classes 'sick-euthyroid' and 'negative'\n",
        "* thyroid0387 present classes hyperthyroid conditions (A, B, C, D), hypothyroid conditions (E, F, G, H), binding protein (I, J), general health (K), replacement therapy (L, M, N), discordant results (R) \n",
        "* ann-test and ann-train present classes normal (not hypothyroid), hyperfunction and subnormal functioning\n",
        "\n",
        "### <br> You can find the full documentation on the link above. I want to build a dataset, merging these six above, which present only three classes: hypothyroid, hyperthyroid and negative. Once this work is done, I will go on with the data pre processing and then I will train and test the classifiers."
      ]
    },
    {
      "cell_type": "markdown",
      "metadata": {
        "papermill": {
          "duration": 0.041127,
          "end_time": "2021-03-26T17:20:03.964537",
          "exception": false,
          "start_time": "2021-03-26T17:20:03.923410",
          "status": "completed"
        },
        "tags": [],
        "id": "jpYMFwdDZUDZ"
      },
      "source": [
        "# Part 1: Data Integration\n",
        "### I have to integrate these six different datasets. I will start from the 'all' series because they have the same scheme. "
      ]
    },
    {
      "cell_type": "code",
      "metadata": {
        "_cell_guid": "79c7e3d0-c299-4dcb-8224-4455121ee9b0",
        "_uuid": "d629ff2d2480ee46fbb7e2d37f6b5fab8052498a",
        "execution": {
          "iopub.execute_input": "2021-03-26T17:20:04.056508Z",
          "iopub.status.busy": "2021-03-26T17:20:04.055749Z",
          "iopub.status.idle": "2021-03-26T17:20:04.200320Z",
          "shell.execute_reply": "2021-03-26T17:20:04.200849Z"
        },
        "papermill": {
          "duration": 0.194547,
          "end_time": "2021-03-26T17:20:04.201005",
          "exception": false,
          "start_time": "2021-03-26T17:20:04.006458",
          "status": "completed"
        },
        "tags": [],
        "colab": {
          "base_uri": "https://localhost:8080/",
          "height": 914
        },
        "id": "jD3JnDvdZUDb",
        "outputId": "f55b2094-3b6d-4a9e-9113-10e4a367c1c0"
      },
      "source": [
        "allHyperTest = pd.read_csv(\"allhyperTestEDIT.CSV\")\n",
        "allHyperTrain = pd.read_csv(\"allhyperTrainEDIT.CSV\")\n",
        "allHypoTest = pd.read_csv(\"allhypoTEST.csv\")\n",
        "allHypoTrain = pd.read_csv(\"allhypoDATA.CSV\")\n",
        "\n",
        "display(allHypoTest.head(10))\n",
        "display(allHypoTrain.dtypes)"
      ],
      "execution_count": 3,
      "outputs": [
        {
          "output_type": "display_data",
          "data": {
            "text/html": [
              "<div>\n",
              "<style scoped>\n",
              "    .dataframe tbody tr th:only-of-type {\n",
              "        vertical-align: middle;\n",
              "    }\n",
              "\n",
              "    .dataframe tbody tr th {\n",
              "        vertical-align: top;\n",
              "    }\n",
              "\n",
              "    .dataframe thead th {\n",
              "        text-align: right;\n",
              "    }\n",
              "</style>\n",
              "<table border=\"1\" class=\"dataframe\">\n",
              "  <thead>\n",
              "    <tr style=\"text-align: right;\">\n",
              "      <th></th>\n",
              "      <th>age</th>\n",
              "      <th>sex</th>\n",
              "      <th>on_thyroxine</th>\n",
              "      <th>query_on_thyroxine</th>\n",
              "      <th>on_antithyroid_medication</th>\n",
              "      <th>sick</th>\n",
              "      <th>pregnant</th>\n",
              "      <th>thyroid_surgery</th>\n",
              "      <th>I131_treatment</th>\n",
              "      <th>query_hypothyroid</th>\n",
              "      <th>query_hyperthyroid</th>\n",
              "      <th>lithium</th>\n",
              "      <th>goitre</th>\n",
              "      <th>tumor</th>\n",
              "      <th>hypopituitary</th>\n",
              "      <th>psych</th>\n",
              "      <th>TSH_measured</th>\n",
              "      <th>TSH</th>\n",
              "      <th>T3_measured</th>\n",
              "      <th>T3</th>\n",
              "      <th>TT4_measured</th>\n",
              "      <th>TT4</th>\n",
              "      <th>T4U_measured</th>\n",
              "      <th>T4U</th>\n",
              "      <th>FTI_measured</th>\n",
              "      <th>FTI</th>\n",
              "      <th>TBG_measured</th>\n",
              "      <th>TBG</th>\n",
              "      <th>referral_source</th>\n",
              "      <th>Target</th>\n",
              "      <th>ID</th>\n",
              "    </tr>\n",
              "  </thead>\n",
              "  <tbody>\n",
              "    <tr>\n",
              "      <th>0</th>\n",
              "      <td>35</td>\n",
              "      <td>F</td>\n",
              "      <td>f</td>\n",
              "      <td>f</td>\n",
              "      <td>f</td>\n",
              "      <td>f</td>\n",
              "      <td>f</td>\n",
              "      <td>f</td>\n",
              "      <td>f</td>\n",
              "      <td>f</td>\n",
              "      <td>f</td>\n",
              "      <td>f</td>\n",
              "      <td>f</td>\n",
              "      <td>f</td>\n",
              "      <td>f</td>\n",
              "      <td>f</td>\n",
              "      <td>f</td>\n",
              "      <td>?</td>\n",
              "      <td>f</td>\n",
              "      <td>?</td>\n",
              "      <td>f</td>\n",
              "      <td>?</td>\n",
              "      <td>f</td>\n",
              "      <td>?</td>\n",
              "      <td>f</td>\n",
              "      <td>?</td>\n",
              "      <td>f</td>\n",
              "      <td>?</td>\n",
              "      <td>other</td>\n",
              "      <td>negative</td>\n",
              "      <td>219</td>\n",
              "    </tr>\n",
              "    <tr>\n",
              "      <th>1</th>\n",
              "      <td>63</td>\n",
              "      <td>M</td>\n",
              "      <td>f</td>\n",
              "      <td>f</td>\n",
              "      <td>f</td>\n",
              "      <td>f</td>\n",
              "      <td>f</td>\n",
              "      <td>f</td>\n",
              "      <td>f</td>\n",
              "      <td>f</td>\n",
              "      <td>f</td>\n",
              "      <td>f</td>\n",
              "      <td>f</td>\n",
              "      <td>f</td>\n",
              "      <td>f</td>\n",
              "      <td>f</td>\n",
              "      <td>t</td>\n",
              "      <td>3.5</td>\n",
              "      <td>t</td>\n",
              "      <td>2.5</td>\n",
              "      <td>t</td>\n",
              "      <td>108</td>\n",
              "      <td>t</td>\n",
              "      <td>0.96</td>\n",
              "      <td>t</td>\n",
              "      <td>113</td>\n",
              "      <td>f</td>\n",
              "      <td>?</td>\n",
              "      <td>SVI</td>\n",
              "      <td>negative</td>\n",
              "      <td>2059</td>\n",
              "    </tr>\n",
              "    <tr>\n",
              "      <th>2</th>\n",
              "      <td>25</td>\n",
              "      <td>F</td>\n",
              "      <td>f</td>\n",
              "      <td>f</td>\n",
              "      <td>f</td>\n",
              "      <td>f</td>\n",
              "      <td>f</td>\n",
              "      <td>f</td>\n",
              "      <td>f</td>\n",
              "      <td>f</td>\n",
              "      <td>f</td>\n",
              "      <td>f</td>\n",
              "      <td>f</td>\n",
              "      <td>f</td>\n",
              "      <td>f</td>\n",
              "      <td>f</td>\n",
              "      <td>t</td>\n",
              "      <td>4.6</td>\n",
              "      <td>t</td>\n",
              "      <td>2.4</td>\n",
              "      <td>t</td>\n",
              "      <td>61</td>\n",
              "      <td>t</td>\n",
              "      <td>0.82</td>\n",
              "      <td>t</td>\n",
              "      <td>75</td>\n",
              "      <td>f</td>\n",
              "      <td>?</td>\n",
              "      <td>SVHD</td>\n",
              "      <td>negative</td>\n",
              "      <td>399</td>\n",
              "    </tr>\n",
              "    <tr>\n",
              "      <th>3</th>\n",
              "      <td>53</td>\n",
              "      <td>F</td>\n",
              "      <td>f</td>\n",
              "      <td>f</td>\n",
              "      <td>f</td>\n",
              "      <td>f</td>\n",
              "      <td>f</td>\n",
              "      <td>f</td>\n",
              "      <td>f</td>\n",
              "      <td>t</td>\n",
              "      <td>f</td>\n",
              "      <td>f</td>\n",
              "      <td>f</td>\n",
              "      <td>f</td>\n",
              "      <td>f</td>\n",
              "      <td>f</td>\n",
              "      <td>t</td>\n",
              "      <td>0.25</td>\n",
              "      <td>t</td>\n",
              "      <td>2.1</td>\n",
              "      <td>t</td>\n",
              "      <td>145</td>\n",
              "      <td>t</td>\n",
              "      <td>1.03</td>\n",
              "      <td>t</td>\n",
              "      <td>141</td>\n",
              "      <td>f</td>\n",
              "      <td>?</td>\n",
              "      <td>other</td>\n",
              "      <td>negative</td>\n",
              "      <td>1911</td>\n",
              "    </tr>\n",
              "    <tr>\n",
              "      <th>4</th>\n",
              "      <td>92</td>\n",
              "      <td>F</td>\n",
              "      <td>f</td>\n",
              "      <td>f</td>\n",
              "      <td>f</td>\n",
              "      <td>f</td>\n",
              "      <td>f</td>\n",
              "      <td>f</td>\n",
              "      <td>f</td>\n",
              "      <td>f</td>\n",
              "      <td>f</td>\n",
              "      <td>f</td>\n",
              "      <td>f</td>\n",
              "      <td>f</td>\n",
              "      <td>f</td>\n",
              "      <td>f</td>\n",
              "      <td>t</td>\n",
              "      <td>0.7</td>\n",
              "      <td>t</td>\n",
              "      <td>1.3</td>\n",
              "      <td>t</td>\n",
              "      <td>120</td>\n",
              "      <td>t</td>\n",
              "      <td>0.84</td>\n",
              "      <td>t</td>\n",
              "      <td>143</td>\n",
              "      <td>f</td>\n",
              "      <td>?</td>\n",
              "      <td>SVI</td>\n",
              "      <td>negative</td>\n",
              "      <td>487</td>\n",
              "    </tr>\n",
              "    <tr>\n",
              "      <th>5</th>\n",
              "      <td>67</td>\n",
              "      <td>M</td>\n",
              "      <td>f</td>\n",
              "      <td>f</td>\n",
              "      <td>f</td>\n",
              "      <td>f</td>\n",
              "      <td>f</td>\n",
              "      <td>f</td>\n",
              "      <td>f</td>\n",
              "      <td>t</td>\n",
              "      <td>f</td>\n",
              "      <td>f</td>\n",
              "      <td>f</td>\n",
              "      <td>f</td>\n",
              "      <td>f</td>\n",
              "      <td>f</td>\n",
              "      <td>t</td>\n",
              "      <td>0.81</td>\n",
              "      <td>f</td>\n",
              "      <td>?</td>\n",
              "      <td>t</td>\n",
              "      <td>84</td>\n",
              "      <td>t</td>\n",
              "      <td>0.83</td>\n",
              "      <td>t</td>\n",
              "      <td>101</td>\n",
              "      <td>f</td>\n",
              "      <td>?</td>\n",
              "      <td>other</td>\n",
              "      <td>negative</td>\n",
              "      <td>1234</td>\n",
              "    </tr>\n",
              "    <tr>\n",
              "      <th>6</th>\n",
              "      <td>60</td>\n",
              "      <td>F</td>\n",
              "      <td>f</td>\n",
              "      <td>f</td>\n",
              "      <td>f</td>\n",
              "      <td>f</td>\n",
              "      <td>f</td>\n",
              "      <td>f</td>\n",
              "      <td>f</td>\n",
              "      <td>f</td>\n",
              "      <td>f</td>\n",
              "      <td>f</td>\n",
              "      <td>f</td>\n",
              "      <td>f</td>\n",
              "      <td>f</td>\n",
              "      <td>f</td>\n",
              "      <td>t</td>\n",
              "      <td>1.2</td>\n",
              "      <td>t</td>\n",
              "      <td>2.6</td>\n",
              "      <td>t</td>\n",
              "      <td>117</td>\n",
              "      <td>t</td>\n",
              "      <td>1.31</td>\n",
              "      <td>t</td>\n",
              "      <td>90</td>\n",
              "      <td>f</td>\n",
              "      <td>?</td>\n",
              "      <td>other</td>\n",
              "      <td>negative</td>\n",
              "      <td>1113</td>\n",
              "    </tr>\n",
              "    <tr>\n",
              "      <th>7</th>\n",
              "      <td>60</td>\n",
              "      <td>F</td>\n",
              "      <td>f</td>\n",
              "      <td>f</td>\n",
              "      <td>f</td>\n",
              "      <td>f</td>\n",
              "      <td>f</td>\n",
              "      <td>f</td>\n",
              "      <td>f</td>\n",
              "      <td>f</td>\n",
              "      <td>f</td>\n",
              "      <td>f</td>\n",
              "      <td>f</td>\n",
              "      <td>f</td>\n",
              "      <td>f</td>\n",
              "      <td>f</td>\n",
              "      <td>t</td>\n",
              "      <td>27</td>\n",
              "      <td>t</td>\n",
              "      <td>1.8</td>\n",
              "      <td>t</td>\n",
              "      <td>65</td>\n",
              "      <td>t</td>\n",
              "      <td>0.99</td>\n",
              "      <td>t</td>\n",
              "      <td>66</td>\n",
              "      <td>f</td>\n",
              "      <td>?</td>\n",
              "      <td>SVI</td>\n",
              "      <td>compensated_hypothyroid</td>\n",
              "      <td>1344</td>\n",
              "    </tr>\n",
              "    <tr>\n",
              "      <th>8</th>\n",
              "      <td>48</td>\n",
              "      <td>F</td>\n",
              "      <td>f</td>\n",
              "      <td>f</td>\n",
              "      <td>f</td>\n",
              "      <td>f</td>\n",
              "      <td>f</td>\n",
              "      <td>f</td>\n",
              "      <td>f</td>\n",
              "      <td>f</td>\n",
              "      <td>f</td>\n",
              "      <td>f</td>\n",
              "      <td>f</td>\n",
              "      <td>f</td>\n",
              "      <td>f</td>\n",
              "      <td>f</td>\n",
              "      <td>t</td>\n",
              "      <td>2.8</td>\n",
              "      <td>f</td>\n",
              "      <td>?</td>\n",
              "      <td>t</td>\n",
              "      <td>112</td>\n",
              "      <td>t</td>\n",
              "      <td>0.92</td>\n",
              "      <td>t</td>\n",
              "      <td>121</td>\n",
              "      <td>f</td>\n",
              "      <td>?</td>\n",
              "      <td>other</td>\n",
              "      <td>negative</td>\n",
              "      <td>2758</td>\n",
              "    </tr>\n",
              "    <tr>\n",
              "      <th>9</th>\n",
              "      <td>27</td>\n",
              "      <td>F</td>\n",
              "      <td>f</td>\n",
              "      <td>f</td>\n",
              "      <td>f</td>\n",
              "      <td>f</td>\n",
              "      <td>f</td>\n",
              "      <td>f</td>\n",
              "      <td>f</td>\n",
              "      <td>f</td>\n",
              "      <td>f</td>\n",
              "      <td>f</td>\n",
              "      <td>f</td>\n",
              "      <td>f</td>\n",
              "      <td>f</td>\n",
              "      <td>f</td>\n",
              "      <td>t</td>\n",
              "      <td>2.6</td>\n",
              "      <td>t</td>\n",
              "      <td>2.2</td>\n",
              "      <td>t</td>\n",
              "      <td>94</td>\n",
              "      <td>t</td>\n",
              "      <td>0.89</td>\n",
              "      <td>t</td>\n",
              "      <td>106</td>\n",
              "      <td>f</td>\n",
              "      <td>?</td>\n",
              "      <td>SVI</td>\n",
              "      <td>negative</td>\n",
              "      <td>3230</td>\n",
              "    </tr>\n",
              "  </tbody>\n",
              "</table>\n",
              "</div>"
            ],
            "text/plain": [
              "   age sex on_thyroxine  ... referral_source                   Target    ID\n",
              "0   35   F            f  ...           other                 negative   219\n",
              "1   63   M            f  ...             SVI                 negative  2059\n",
              "2   25   F            f  ...            SVHD                 negative   399\n",
              "3   53   F            f  ...           other                 negative  1911\n",
              "4   92   F            f  ...             SVI                 negative   487\n",
              "5   67   M            f  ...           other                 negative  1234\n",
              "6   60   F            f  ...           other                 negative  1113\n",
              "7   60   F            f  ...             SVI  compensated_hypothyroid  1344\n",
              "8   48   F            f  ...           other                 negative  2758\n",
              "9   27   F            f  ...             SVI                 negative  3230\n",
              "\n",
              "[10 rows x 31 columns]"
            ]
          },
          "metadata": {}
        },
        {
          "output_type": "display_data",
          "data": {
            "text/plain": [
              "age                          object\n",
              "sex                          object\n",
              "on_thyroxine                 object\n",
              "query_on_thyroxine           object\n",
              "on_antithyroid_medication    object\n",
              "sick                         object\n",
              "pregnant                     object\n",
              "thyroid_surgery              object\n",
              "I131_treatment               object\n",
              "query_hypothyroid            object\n",
              "query_hyperthyroid           object\n",
              "lithium                      object\n",
              "goitre                       object\n",
              "tumor                        object\n",
              "hypopituitary                object\n",
              "psych                        object\n",
              "TSH_measured                 object\n",
              "TSH                          object\n",
              "T3_measured                  object\n",
              "T3                           object\n",
              "TT4_measured                 object\n",
              "TT4                          object\n",
              "T4U_measured                 object\n",
              "T4U                          object\n",
              "FTI_measured                 object\n",
              "FTI                          object\n",
              "TBG_measured                 object\n",
              "TBG                          object\n",
              "referral_source              object\n",
              "Target                       object\n",
              "ID                            int64\n",
              "dtype: object"
            ]
          },
          "metadata": {}
        }
      ]
    },
    {
      "cell_type": "markdown",
      "metadata": {
        "papermill": {
          "duration": 0.043085,
          "end_time": "2021-03-26T17:20:04.289471",
          "exception": false,
          "start_time": "2021-03-26T17:20:04.246386",
          "status": "completed"
        },
        "tags": [],
        "id": "8YsTcu1BZUDd"
      },
      "source": [
        "### ID is an identificator, so I have to check if there are any istances with the same value for this attribute:"
      ]
    },
    {
      "cell_type": "code",
      "metadata": {
        "execution": {
          "iopub.execute_input": "2021-03-26T17:20:04.389251Z",
          "iopub.status.busy": "2021-03-26T17:20:04.386096Z",
          "iopub.status.idle": "2021-03-26T17:20:04.397693Z",
          "shell.execute_reply": "2021-03-26T17:20:04.396523Z"
        },
        "papermill": {
          "duration": 0.064466,
          "end_time": "2021-03-26T17:20:04.397869",
          "exception": false,
          "start_time": "2021-03-26T17:20:04.333403",
          "status": "completed"
        },
        "tags": [],
        "colab": {
          "base_uri": "https://localhost:8080/"
        },
        "id": "x4hVbCScZUDe",
        "outputId": "37de102b-5dac-41f1-baae-913df7eb8809"
      },
      "source": [
        "def handleDuplicated(df):\n",
        "    if df[\"ID\"].duplicated().sum() == 0 :\n",
        "        print(\"There aren't duplicates\")\n",
        "    elif (df[\"ID\"].duplicated().sum()) < len(df) / 100:\n",
        "        df[\"ID\"].drop_duplicates(keep=\"first\", inplace=True)\n",
        "        print(\"duplicates were less than the 1% of all the data, they have been dropped\")\n",
        "    else:\n",
        "        index_duplicated = df[\"ID\"].duplicated().index\n",
        "        print(\"duplicates are more than the 1% of all the data, they have been preserved\")\n",
        "        print(index_duplicated)\n",
        "\n",
        "handleDuplicated(allHyperTest)\n",
        "handleDuplicated(allHyperTrain)\n",
        "handleDuplicated(allHypoTest)\n",
        "handleDuplicated(allHypoTrain)"
      ],
      "execution_count": 4,
      "outputs": [
        {
          "output_type": "stream",
          "name": "stdout",
          "text": [
            "There aren't duplicates\n",
            "There aren't duplicates\n",
            "There aren't duplicates\n",
            "There aren't duplicates\n"
          ]
        }
      ]
    },
    {
      "cell_type": "markdown",
      "metadata": {
        "papermill": {
          "duration": 0.044773,
          "end_time": "2021-03-26T17:20:04.487766",
          "exception": false,
          "start_time": "2021-03-26T17:20:04.442993",
          "status": "completed"
        },
        "tags": [],
        "id": "Psq2tUDcZUDf"
      },
      "source": [
        " ### Now it's possible to drop the ID attribute because it's useless for the classification:"
      ]
    },
    {
      "cell_type": "code",
      "metadata": {
        "execution": {
          "iopub.execute_input": "2021-03-26T17:20:04.586086Z",
          "iopub.status.busy": "2021-03-26T17:20:04.585440Z",
          "iopub.status.idle": "2021-03-26T17:20:04.588640Z",
          "shell.execute_reply": "2021-03-26T17:20:04.587975Z"
        },
        "papermill": {
          "duration": 0.056846,
          "end_time": "2021-03-26T17:20:04.588758",
          "exception": false,
          "start_time": "2021-03-26T17:20:04.531912",
          "status": "completed"
        },
        "tags": [],
        "id": "49bX7jNxZUDg"
      },
      "source": [
        "del allHyperTest[\"ID\"]\n",
        "del allHyperTrain[\"ID\"]\n",
        "del allHypoTest[\"ID\"]\n",
        "del allHypoTrain[\"ID\"]"
      ],
      "execution_count": 5,
      "outputs": []
    },
    {
      "cell_type": "markdown",
      "metadata": {
        "papermill": {
          "duration": 0.043727,
          "end_time": "2021-03-26T17:20:04.676570",
          "exception": false,
          "start_time": "2021-03-26T17:20:04.632843",
          "status": "completed"
        },
        "tags": [],
        "id": "HgxBrkn3ZUDh"
      },
      "source": [
        "### From these four datasets I will obtain all the istances presentig a class that's different from 'negative':"
      ]
    },
    {
      "cell_type": "code",
      "metadata": {
        "execution": {
          "iopub.execute_input": "2021-03-26T17:20:04.779610Z",
          "iopub.status.busy": "2021-03-26T17:20:04.778726Z",
          "iopub.status.idle": "2021-03-26T17:20:04.804894Z",
          "shell.execute_reply": "2021-03-26T17:20:04.805441Z"
        },
        "papermill": {
          "duration": 0.084288,
          "end_time": "2021-03-26T17:20:04.805613",
          "exception": false,
          "start_time": "2021-03-26T17:20:04.721325",
          "status": "completed"
        },
        "tags": [],
        "colab": {
          "base_uri": "https://localhost:8080/"
        },
        "id": "kskA9BGEZUDi",
        "outputId": "efec00fb-9901-4044-ac89-e3a0eb30cfa2"
      },
      "source": [
        "def notCorrect_TargetFilter(df,correct_Target,target):\n",
        "    df = df[df.Target.isin(correct_Target)]\n",
        "    df.replace(correct_Target,target,inplace = True)\n",
        "    return df\n",
        "    \n",
        "allHyperTest = notCorrect_TargetFilter(allHyperTest,[\"hyperthyroid\",\"T3_toxic\",\"goitre\",\"secondary_toxic\"],\"hyperthyroid\")\n",
        "allHyperTrain = notCorrect_TargetFilter(allHyperTrain,[\"hyperthyroid\",\"T3_toxic\",\"goitre\",\"secondary_toxic\"],\"hyperthyroid\")\n",
        "allHypoTest = notCorrect_TargetFilter(allHypoTest,[\"hypothyroid\", \"primary_hypothyroid\", \"compensated_hypothyroid\", \"secondary_hypothyroid\"],\"hypothyroid\")\n",
        "allHypoTrain = notCorrect_TargetFilter(allHypoTrain,[\"hypothyroid\", \"primary_hypothyroid\", \"compensated_hypothyroid\", \"secondary_hypothyroid\"],\"hypothyroid\")"
      ],
      "execution_count": 6,
      "outputs": [
        {
          "output_type": "stream",
          "name": "stderr",
          "text": [
            "/usr/local/lib/python3.7/dist-packages/pandas/core/frame.py:4389: SettingWithCopyWarning: \n",
            "A value is trying to be set on a copy of a slice from a DataFrame\n",
            "\n",
            "See the caveats in the documentation: https://pandas.pydata.org/pandas-docs/stable/user_guide/indexing.html#returning-a-view-versus-a-copy\n",
            "  method=method,\n"
          ]
        }
      ]
    },
    {
      "cell_type": "markdown",
      "metadata": {
        "papermill": {
          "duration": 0.044364,
          "end_time": "2021-03-26T17:20:04.894449",
          "exception": false,
          "start_time": "2021-03-26T17:20:04.850085",
          "status": "completed"
        },
        "tags": [],
        "id": "C-yideDTZUDl"
      },
      "source": [
        "### Now I will merge the four datasets:"
      ]
    },
    {
      "cell_type": "code",
      "metadata": {
        "execution": {
          "iopub.execute_input": "2021-03-26T17:20:04.989963Z",
          "iopub.status.busy": "2021-03-26T17:20:04.988969Z",
          "iopub.status.idle": "2021-03-26T17:20:04.998496Z",
          "shell.execute_reply": "2021-03-26T17:20:04.997794Z"
        },
        "papermill": {
          "duration": 0.059734,
          "end_time": "2021-03-26T17:20:04.998619",
          "exception": false,
          "start_time": "2021-03-26T17:20:04.938885",
          "status": "completed"
        },
        "tags": [],
        "colab": {
          "base_uri": "https://localhost:8080/",
          "height": 34
        },
        "id": "q7feWHbeZUDm",
        "outputId": "daf9f703-f214-407d-fc2d-026f6e3ab6d0"
      },
      "source": [
        "allDataset = pd.concat([allHyperTest,allHyperTrain,allHypoTest,allHypoTrain], ignore_index = True)\n",
        "display(allDataset.shape)"
      ],
      "execution_count": 7,
      "outputs": [
        {
          "output_type": "display_data",
          "data": {
            "text/plain": [
              "(393, 30)"
            ]
          },
          "metadata": {}
        }
      ]
    },
    {
      "cell_type": "markdown",
      "metadata": {
        "papermill": {
          "duration": 0.046008,
          "end_time": "2021-03-26T17:20:05.089560",
          "exception": false,
          "start_time": "2021-03-26T17:20:05.043552",
          "status": "completed"
        },
        "tags": [],
        "id": "1BuPevaTZUDn"
      },
      "source": [
        "### That's all for the 'all' series. Let's go on with thyroid0387:"
      ]
    },
    {
      "cell_type": "code",
      "metadata": {
        "execution": {
          "iopub.execute_input": "2021-03-26T17:20:05.187881Z",
          "iopub.status.busy": "2021-03-26T17:20:05.187226Z",
          "iopub.status.idle": "2021-03-26T17:20:05.270544Z",
          "shell.execute_reply": "2021-03-26T17:20:05.271013Z"
        },
        "papermill": {
          "duration": 0.135863,
          "end_time": "2021-03-26T17:20:05.271172",
          "exception": false,
          "start_time": "2021-03-26T17:20:05.135309",
          "status": "completed"
        },
        "tags": [],
        "colab": {
          "base_uri": "https://localhost:8080/",
          "height": 914
        },
        "id": "LWB0jz_3ZUDn",
        "outputId": "77d094c5-63b4-44a0-f672-487131a522e2"
      },
      "source": [
        "thyroid0387 = pd.read_csv(\"thyroid0387EDIT.CSV\")\n",
        "display(thyroid0387.head(10))\n",
        "display(thyroid0387.dtypes)"
      ],
      "execution_count": 8,
      "outputs": [
        {
          "output_type": "display_data",
          "data": {
            "text/html": [
              "<div>\n",
              "<style scoped>\n",
              "    .dataframe tbody tr th:only-of-type {\n",
              "        vertical-align: middle;\n",
              "    }\n",
              "\n",
              "    .dataframe tbody tr th {\n",
              "        vertical-align: top;\n",
              "    }\n",
              "\n",
              "    .dataframe thead th {\n",
              "        text-align: right;\n",
              "    }\n",
              "</style>\n",
              "<table border=\"1\" class=\"dataframe\">\n",
              "  <thead>\n",
              "    <tr style=\"text-align: right;\">\n",
              "      <th></th>\n",
              "      <th>age</th>\n",
              "      <th>sex</th>\n",
              "      <th>on_thyroxine</th>\n",
              "      <th>query_on_thyroxine</th>\n",
              "      <th>on_antithyroid_medication</th>\n",
              "      <th>sick</th>\n",
              "      <th>pregnant</th>\n",
              "      <th>thyroid_surgery</th>\n",
              "      <th>I131_treatment</th>\n",
              "      <th>query_hypothyroid</th>\n",
              "      <th>query_hyperthyroid</th>\n",
              "      <th>lithium</th>\n",
              "      <th>goitre</th>\n",
              "      <th>tumor</th>\n",
              "      <th>hypopituitary</th>\n",
              "      <th>psych</th>\n",
              "      <th>TSH_measured</th>\n",
              "      <th>TSH</th>\n",
              "      <th>T3_measured</th>\n",
              "      <th>T3</th>\n",
              "      <th>TT4_measured</th>\n",
              "      <th>TT4</th>\n",
              "      <th>T4U_measured</th>\n",
              "      <th>T4U</th>\n",
              "      <th>FTI_measured</th>\n",
              "      <th>FTI</th>\n",
              "      <th>TBG_measured</th>\n",
              "      <th>TBG</th>\n",
              "      <th>referral_source</th>\n",
              "      <th>Target</th>\n",
              "      <th>ID</th>\n",
              "    </tr>\n",
              "  </thead>\n",
              "  <tbody>\n",
              "    <tr>\n",
              "      <th>0</th>\n",
              "      <td>29</td>\n",
              "      <td>F</td>\n",
              "      <td>f</td>\n",
              "      <td>f</td>\n",
              "      <td>f</td>\n",
              "      <td>f</td>\n",
              "      <td>f</td>\n",
              "      <td>f</td>\n",
              "      <td>f</td>\n",
              "      <td>t</td>\n",
              "      <td>f</td>\n",
              "      <td>f</td>\n",
              "      <td>f</td>\n",
              "      <td>f</td>\n",
              "      <td>f</td>\n",
              "      <td>f</td>\n",
              "      <td>t</td>\n",
              "      <td>0.3</td>\n",
              "      <td>f</td>\n",
              "      <td>?</td>\n",
              "      <td>f</td>\n",
              "      <td>?</td>\n",
              "      <td>f</td>\n",
              "      <td>?</td>\n",
              "      <td>f</td>\n",
              "      <td>?</td>\n",
              "      <td>f</td>\n",
              "      <td>?</td>\n",
              "      <td>other</td>\n",
              "      <td>-</td>\n",
              "      <td>840801013</td>\n",
              "    </tr>\n",
              "    <tr>\n",
              "      <th>1</th>\n",
              "      <td>29</td>\n",
              "      <td>F</td>\n",
              "      <td>f</td>\n",
              "      <td>f</td>\n",
              "      <td>f</td>\n",
              "      <td>f</td>\n",
              "      <td>f</td>\n",
              "      <td>f</td>\n",
              "      <td>f</td>\n",
              "      <td>f</td>\n",
              "      <td>f</td>\n",
              "      <td>f</td>\n",
              "      <td>f</td>\n",
              "      <td>f</td>\n",
              "      <td>f</td>\n",
              "      <td>f</td>\n",
              "      <td>t</td>\n",
              "      <td>1.6</td>\n",
              "      <td>t</td>\n",
              "      <td>1.9</td>\n",
              "      <td>t</td>\n",
              "      <td>128</td>\n",
              "      <td>f</td>\n",
              "      <td>?</td>\n",
              "      <td>f</td>\n",
              "      <td>?</td>\n",
              "      <td>f</td>\n",
              "      <td>?</td>\n",
              "      <td>other</td>\n",
              "      <td>-</td>\n",
              "      <td>840801014</td>\n",
              "    </tr>\n",
              "    <tr>\n",
              "      <th>2</th>\n",
              "      <td>41</td>\n",
              "      <td>F</td>\n",
              "      <td>f</td>\n",
              "      <td>f</td>\n",
              "      <td>f</td>\n",
              "      <td>f</td>\n",
              "      <td>f</td>\n",
              "      <td>f</td>\n",
              "      <td>f</td>\n",
              "      <td>f</td>\n",
              "      <td>t</td>\n",
              "      <td>f</td>\n",
              "      <td>f</td>\n",
              "      <td>f</td>\n",
              "      <td>f</td>\n",
              "      <td>f</td>\n",
              "      <td>f</td>\n",
              "      <td>?</td>\n",
              "      <td>f</td>\n",
              "      <td>?</td>\n",
              "      <td>f</td>\n",
              "      <td>?</td>\n",
              "      <td>f</td>\n",
              "      <td>?</td>\n",
              "      <td>f</td>\n",
              "      <td>?</td>\n",
              "      <td>t</td>\n",
              "      <td>11</td>\n",
              "      <td>other</td>\n",
              "      <td>-</td>\n",
              "      <td>840801042</td>\n",
              "    </tr>\n",
              "    <tr>\n",
              "      <th>3</th>\n",
              "      <td>36</td>\n",
              "      <td>F</td>\n",
              "      <td>f</td>\n",
              "      <td>f</td>\n",
              "      <td>f</td>\n",
              "      <td>f</td>\n",
              "      <td>f</td>\n",
              "      <td>f</td>\n",
              "      <td>f</td>\n",
              "      <td>f</td>\n",
              "      <td>f</td>\n",
              "      <td>f</td>\n",
              "      <td>f</td>\n",
              "      <td>f</td>\n",
              "      <td>f</td>\n",
              "      <td>f</td>\n",
              "      <td>f</td>\n",
              "      <td>?</td>\n",
              "      <td>f</td>\n",
              "      <td>?</td>\n",
              "      <td>f</td>\n",
              "      <td>?</td>\n",
              "      <td>f</td>\n",
              "      <td>?</td>\n",
              "      <td>f</td>\n",
              "      <td>?</td>\n",
              "      <td>t</td>\n",
              "      <td>26</td>\n",
              "      <td>other</td>\n",
              "      <td>-</td>\n",
              "      <td>840803046</td>\n",
              "    </tr>\n",
              "    <tr>\n",
              "      <th>4</th>\n",
              "      <td>32</td>\n",
              "      <td>F</td>\n",
              "      <td>f</td>\n",
              "      <td>f</td>\n",
              "      <td>f</td>\n",
              "      <td>f</td>\n",
              "      <td>f</td>\n",
              "      <td>f</td>\n",
              "      <td>f</td>\n",
              "      <td>f</td>\n",
              "      <td>f</td>\n",
              "      <td>f</td>\n",
              "      <td>f</td>\n",
              "      <td>f</td>\n",
              "      <td>f</td>\n",
              "      <td>f</td>\n",
              "      <td>f</td>\n",
              "      <td>?</td>\n",
              "      <td>f</td>\n",
              "      <td>?</td>\n",
              "      <td>f</td>\n",
              "      <td>?</td>\n",
              "      <td>f</td>\n",
              "      <td>?</td>\n",
              "      <td>f</td>\n",
              "      <td>?</td>\n",
              "      <td>t</td>\n",
              "      <td>36</td>\n",
              "      <td>other</td>\n",
              "      <td>S</td>\n",
              "      <td>840803047</td>\n",
              "    </tr>\n",
              "    <tr>\n",
              "      <th>5</th>\n",
              "      <td>60</td>\n",
              "      <td>F</td>\n",
              "      <td>f</td>\n",
              "      <td>f</td>\n",
              "      <td>f</td>\n",
              "      <td>f</td>\n",
              "      <td>f</td>\n",
              "      <td>f</td>\n",
              "      <td>f</td>\n",
              "      <td>f</td>\n",
              "      <td>f</td>\n",
              "      <td>f</td>\n",
              "      <td>f</td>\n",
              "      <td>f</td>\n",
              "      <td>f</td>\n",
              "      <td>f</td>\n",
              "      <td>f</td>\n",
              "      <td>?</td>\n",
              "      <td>f</td>\n",
              "      <td>?</td>\n",
              "      <td>f</td>\n",
              "      <td>?</td>\n",
              "      <td>f</td>\n",
              "      <td>?</td>\n",
              "      <td>f</td>\n",
              "      <td>?</td>\n",
              "      <td>t</td>\n",
              "      <td>26</td>\n",
              "      <td>other</td>\n",
              "      <td>-</td>\n",
              "      <td>840803048</td>\n",
              "    </tr>\n",
              "    <tr>\n",
              "      <th>6</th>\n",
              "      <td>77</td>\n",
              "      <td>F</td>\n",
              "      <td>f</td>\n",
              "      <td>f</td>\n",
              "      <td>f</td>\n",
              "      <td>f</td>\n",
              "      <td>f</td>\n",
              "      <td>f</td>\n",
              "      <td>f</td>\n",
              "      <td>f</td>\n",
              "      <td>f</td>\n",
              "      <td>f</td>\n",
              "      <td>f</td>\n",
              "      <td>f</td>\n",
              "      <td>f</td>\n",
              "      <td>f</td>\n",
              "      <td>f</td>\n",
              "      <td>?</td>\n",
              "      <td>f</td>\n",
              "      <td>?</td>\n",
              "      <td>f</td>\n",
              "      <td>?</td>\n",
              "      <td>f</td>\n",
              "      <td>?</td>\n",
              "      <td>f</td>\n",
              "      <td>?</td>\n",
              "      <td>t</td>\n",
              "      <td>21</td>\n",
              "      <td>other</td>\n",
              "      <td>-</td>\n",
              "      <td>840803068</td>\n",
              "    </tr>\n",
              "    <tr>\n",
              "      <th>7</th>\n",
              "      <td>28</td>\n",
              "      <td>F</td>\n",
              "      <td>f</td>\n",
              "      <td>f</td>\n",
              "      <td>f</td>\n",
              "      <td>f</td>\n",
              "      <td>f</td>\n",
              "      <td>f</td>\n",
              "      <td>f</td>\n",
              "      <td>f</td>\n",
              "      <td>f</td>\n",
              "      <td>f</td>\n",
              "      <td>f</td>\n",
              "      <td>f</td>\n",
              "      <td>f</td>\n",
              "      <td>f</td>\n",
              "      <td>t</td>\n",
              "      <td>0.7</td>\n",
              "      <td>t</td>\n",
              "      <td>2.6</td>\n",
              "      <td>t</td>\n",
              "      <td>116</td>\n",
              "      <td>f</td>\n",
              "      <td>?</td>\n",
              "      <td>f</td>\n",
              "      <td>?</td>\n",
              "      <td>f</td>\n",
              "      <td>?</td>\n",
              "      <td>SVI</td>\n",
              "      <td>-</td>\n",
              "      <td>840807019</td>\n",
              "    </tr>\n",
              "    <tr>\n",
              "      <th>8</th>\n",
              "      <td>28</td>\n",
              "      <td>F</td>\n",
              "      <td>f</td>\n",
              "      <td>f</td>\n",
              "      <td>f</td>\n",
              "      <td>f</td>\n",
              "      <td>f</td>\n",
              "      <td>f</td>\n",
              "      <td>f</td>\n",
              "      <td>f</td>\n",
              "      <td>f</td>\n",
              "      <td>f</td>\n",
              "      <td>f</td>\n",
              "      <td>f</td>\n",
              "      <td>f</td>\n",
              "      <td>f</td>\n",
              "      <td>t</td>\n",
              "      <td>1.2</td>\n",
              "      <td>t</td>\n",
              "      <td>1.8</td>\n",
              "      <td>t</td>\n",
              "      <td>76</td>\n",
              "      <td>f</td>\n",
              "      <td>?</td>\n",
              "      <td>f</td>\n",
              "      <td>?</td>\n",
              "      <td>f</td>\n",
              "      <td>?</td>\n",
              "      <td>other</td>\n",
              "      <td>-</td>\n",
              "      <td>840808060</td>\n",
              "    </tr>\n",
              "    <tr>\n",
              "      <th>9</th>\n",
              "      <td>28</td>\n",
              "      <td>F</td>\n",
              "      <td>f</td>\n",
              "      <td>f</td>\n",
              "      <td>f</td>\n",
              "      <td>f</td>\n",
              "      <td>f</td>\n",
              "      <td>f</td>\n",
              "      <td>f</td>\n",
              "      <td>f</td>\n",
              "      <td>f</td>\n",
              "      <td>f</td>\n",
              "      <td>f</td>\n",
              "      <td>f</td>\n",
              "      <td>f</td>\n",
              "      <td>f</td>\n",
              "      <td>t</td>\n",
              "      <td>1.9</td>\n",
              "      <td>t</td>\n",
              "      <td>1.7</td>\n",
              "      <td>t</td>\n",
              "      <td>83</td>\n",
              "      <td>f</td>\n",
              "      <td>?</td>\n",
              "      <td>f</td>\n",
              "      <td>?</td>\n",
              "      <td>f</td>\n",
              "      <td>?</td>\n",
              "      <td>other</td>\n",
              "      <td>-</td>\n",
              "      <td>840808073</td>\n",
              "    </tr>\n",
              "  </tbody>\n",
              "</table>\n",
              "</div>"
            ],
            "text/plain": [
              "   age sex on_thyroxine  ... referral_source Target         ID\n",
              "0   29   F            f  ...           other      -  840801013\n",
              "1   29   F            f  ...           other      -  840801014\n",
              "2   41   F            f  ...           other      -  840801042\n",
              "3   36   F            f  ...           other      -  840803046\n",
              "4   32   F            f  ...           other      S  840803047\n",
              "5   60   F            f  ...           other      -  840803048\n",
              "6   77   F            f  ...           other      -  840803068\n",
              "7   28   F            f  ...             SVI      -  840807019\n",
              "8   28   F            f  ...           other      -  840808060\n",
              "9   28   F            f  ...           other      -  840808073\n",
              "\n",
              "[10 rows x 31 columns]"
            ]
          },
          "metadata": {}
        },
        {
          "output_type": "display_data",
          "data": {
            "text/plain": [
              "age                           int64\n",
              "sex                          object\n",
              "on_thyroxine                 object\n",
              "query_on_thyroxine           object\n",
              "on_antithyroid_medication    object\n",
              "sick                         object\n",
              "pregnant                     object\n",
              "thyroid_surgery              object\n",
              "I131_treatment               object\n",
              "query_hypothyroid            object\n",
              "query_hyperthyroid           object\n",
              "lithium                      object\n",
              "goitre                       object\n",
              "tumor                        object\n",
              "hypopituitary                object\n",
              "psych                        object\n",
              "TSH_measured                 object\n",
              "TSH                          object\n",
              "T3_measured                  object\n",
              "T3                           object\n",
              "TT4_measured                 object\n",
              "TT4                          object\n",
              "T4U_measured                 object\n",
              "T4U                          object\n",
              "FTI_measured                 object\n",
              "FTI                          object\n",
              "TBG_measured                 object\n",
              "TBG                          object\n",
              "referral_source              object\n",
              "Target                       object\n",
              "ID                            int64\n",
              "dtype: object"
            ]
          },
          "metadata": {}
        }
      ]
    },
    {
      "cell_type": "markdown",
      "metadata": {
        "papermill": {
          "duration": 0.046366,
          "end_time": "2021-03-26T17:20:05.364482",
          "exception": false,
          "start_time": "2021-03-26T17:20:05.318116",
          "status": "completed"
        },
        "tags": [],
        "id": "B96buF0jZUDo"
      },
      "source": [
        "### We have the ID attribute here too, so:"
      ]
    },
    {
      "cell_type": "code",
      "metadata": {
        "execution": {
          "iopub.execute_input": "2021-03-26T17:20:05.461966Z",
          "iopub.status.busy": "2021-03-26T17:20:05.461336Z",
          "iopub.status.idle": "2021-03-26T17:20:05.468409Z",
          "shell.execute_reply": "2021-03-26T17:20:05.467507Z"
        },
        "papermill": {
          "duration": 0.056803,
          "end_time": "2021-03-26T17:20:05.468568",
          "exception": false,
          "start_time": "2021-03-26T17:20:05.411765",
          "status": "completed"
        },
        "tags": [],
        "colab": {
          "base_uri": "https://localhost:8080/"
        },
        "id": "PktLnbT8ZUDp",
        "outputId": "673872ad-835d-4293-d938-7bd5d7494086"
      },
      "source": [
        "handleDuplicated(thyroid0387)"
      ],
      "execution_count": 9,
      "outputs": [
        {
          "output_type": "stream",
          "name": "stdout",
          "text": [
            "There aren't duplicates\n"
          ]
        }
      ]
    },
    {
      "cell_type": "code",
      "metadata": {
        "execution": {
          "iopub.execute_input": "2021-03-26T17:20:05.574400Z",
          "iopub.status.busy": "2021-03-26T17:20:05.573659Z",
          "iopub.status.idle": "2021-03-26T17:20:05.576776Z",
          "shell.execute_reply": "2021-03-26T17:20:05.577492Z"
        },
        "papermill": {
          "duration": 0.061343,
          "end_time": "2021-03-26T17:20:05.577690",
          "exception": false,
          "start_time": "2021-03-26T17:20:05.516347",
          "status": "completed"
        },
        "tags": [],
        "id": "u9Vyz1H6ZUDp"
      },
      "source": [
        "del thyroid0387[\"ID\"]"
      ],
      "execution_count": 10,
      "outputs": []
    },
    {
      "cell_type": "markdown",
      "metadata": {
        "papermill": {
          "duration": 0.05547,
          "end_time": "2021-03-26T17:20:05.702098",
          "exception": false,
          "start_time": "2021-03-26T17:20:05.646628",
          "status": "completed"
        },
        "tags": [],
        "id": "_00EFrPXZUDq"
      },
      "source": [
        "### This dataset has different interesting classes: A,B,C,D,E,F,G,H. All the others should be considered as 'negative'. I have to be careful because 'F' and 'M' are used in the 'sex' attribute too, so before any sostitution, I have to handle this problem:"
      ]
    },
    {
      "cell_type": "code",
      "metadata": {
        "execution": {
          "iopub.execute_input": "2021-03-26T17:20:05.808814Z",
          "iopub.status.busy": "2021-03-26T17:20:05.807733Z",
          "iopub.status.idle": "2021-03-26T17:20:06.359427Z",
          "shell.execute_reply": "2021-03-26T17:20:06.358835Z"
        },
        "papermill": {
          "duration": 0.608909,
          "end_time": "2021-03-26T17:20:06.359571",
          "exception": false,
          "start_time": "2021-03-26T17:20:05.750662",
          "status": "completed"
        },
        "tags": [],
        "id": "KQR1QQW_ZUDq"
      },
      "source": [
        "thyroid0387['sex'] = thyroid0387['sex'].map({'F': 1, 'M': 0})\n",
        "\n",
        "thyroid0387.replace(['A','B','C','D'],\"hyperthyroid\",inplace = True)\n",
        "thyroid0387.replace(['E','F','G','H'],\"hypothyroid\",inplace = True)\n",
        "\n",
        "for value in set(thyroid0387['Target']):\n",
        "    if(value != 'hypothyroid' and value != 'hyperthyroid'):\n",
        "        thyroid0387.replace(value,'negative',inplace=True)"
      ],
      "execution_count": 11,
      "outputs": []
    },
    {
      "cell_type": "markdown",
      "metadata": {
        "papermill": {
          "duration": 0.046995,
          "end_time": "2021-03-26T17:20:06.453875",
          "exception": false,
          "start_time": "2021-03-26T17:20:06.406880",
          "status": "completed"
        },
        "tags": [],
        "id": "9rdaik7qZUDr"
      },
      "source": [
        "### Let's continue with the 'hypothyroid' dataset:"
      ]
    },
    {
      "cell_type": "code",
      "metadata": {
        "execution": {
          "iopub.execute_input": "2021-03-26T17:20:06.555721Z",
          "iopub.status.busy": "2021-03-26T17:20:06.554991Z",
          "iopub.status.idle": "2021-03-26T17:20:06.615509Z",
          "shell.execute_reply": "2021-03-26T17:20:06.614949Z"
        },
        "papermill": {
          "duration": 0.114381,
          "end_time": "2021-03-26T17:20:06.615618",
          "exception": false,
          "start_time": "2021-03-26T17:20:06.501237",
          "status": "completed"
        },
        "tags": [],
        "colab": {
          "base_uri": "https://localhost:8080/",
          "height": 864
        },
        "id": "OUv1ZY1zZUDs",
        "outputId": "8de1d465-a312-428e-9109-400b9eaac42f"
      },
      "source": [
        "hypothyroid = pd.read_csv(\"hypothyroid.csv\")\n",
        "display(hypothyroid.shape)\n",
        "display(hypothyroid.head(10))\n",
        "display(hypothyroid.dtypes)"
      ],
      "execution_count": 12,
      "outputs": [
        {
          "output_type": "display_data",
          "data": {
            "text/plain": [
              "(3163, 26)"
            ]
          },
          "metadata": {}
        },
        {
          "output_type": "display_data",
          "data": {
            "text/html": [
              "<div>\n",
              "<style scoped>\n",
              "    .dataframe tbody tr th:only-of-type {\n",
              "        vertical-align: middle;\n",
              "    }\n",
              "\n",
              "    .dataframe tbody tr th {\n",
              "        vertical-align: top;\n",
              "    }\n",
              "\n",
              "    .dataframe thead th {\n",
              "        text-align: right;\n",
              "    }\n",
              "</style>\n",
              "<table border=\"1\" class=\"dataframe\">\n",
              "  <thead>\n",
              "    <tr style=\"text-align: right;\">\n",
              "      <th></th>\n",
              "      <th>Unnamed: 0</th>\n",
              "      <th>Age</th>\n",
              "      <th>Sex</th>\n",
              "      <th>on_thyroxine</th>\n",
              "      <th>query_on_thyroxine</th>\n",
              "      <th>on_antithyroid_medication</th>\n",
              "      <th>thyroid_surgery</th>\n",
              "      <th>query_hypothyroid</th>\n",
              "      <th>query_hyperthyroid</th>\n",
              "      <th>pregnant</th>\n",
              "      <th>sick</th>\n",
              "      <th>tumor</th>\n",
              "      <th>lithium</th>\n",
              "      <th>goitre</th>\n",
              "      <th>TSH_measured</th>\n",
              "      <th>TSH</th>\n",
              "      <th>T3_measured</th>\n",
              "      <th>T3</th>\n",
              "      <th>TT4_measured</th>\n",
              "      <th>TT4</th>\n",
              "      <th>T4U_measured</th>\n",
              "      <th>T4U</th>\n",
              "      <th>FTI_measured</th>\n",
              "      <th>FTI</th>\n",
              "      <th>TBG_measured</th>\n",
              "      <th>TBG</th>\n",
              "    </tr>\n",
              "  </thead>\n",
              "  <tbody>\n",
              "    <tr>\n",
              "      <th>0</th>\n",
              "      <td>hypothyroid</td>\n",
              "      <td>72</td>\n",
              "      <td>M</td>\n",
              "      <td>f</td>\n",
              "      <td>f</td>\n",
              "      <td>f</td>\n",
              "      <td>f</td>\n",
              "      <td>f</td>\n",
              "      <td>f</td>\n",
              "      <td>f</td>\n",
              "      <td>f</td>\n",
              "      <td>f</td>\n",
              "      <td>f</td>\n",
              "      <td>f</td>\n",
              "      <td>y</td>\n",
              "      <td>30</td>\n",
              "      <td>y</td>\n",
              "      <td>0.6</td>\n",
              "      <td>y</td>\n",
              "      <td>15</td>\n",
              "      <td>y</td>\n",
              "      <td>1.48</td>\n",
              "      <td>y</td>\n",
              "      <td>10</td>\n",
              "      <td>n</td>\n",
              "      <td>?</td>\n",
              "    </tr>\n",
              "    <tr>\n",
              "      <th>1</th>\n",
              "      <td>hypothyroid</td>\n",
              "      <td>15</td>\n",
              "      <td>F</td>\n",
              "      <td>t</td>\n",
              "      <td>f</td>\n",
              "      <td>f</td>\n",
              "      <td>f</td>\n",
              "      <td>f</td>\n",
              "      <td>f</td>\n",
              "      <td>f</td>\n",
              "      <td>f</td>\n",
              "      <td>f</td>\n",
              "      <td>f</td>\n",
              "      <td>f</td>\n",
              "      <td>y</td>\n",
              "      <td>145</td>\n",
              "      <td>y</td>\n",
              "      <td>1.7</td>\n",
              "      <td>y</td>\n",
              "      <td>19</td>\n",
              "      <td>y</td>\n",
              "      <td>1.13</td>\n",
              "      <td>y</td>\n",
              "      <td>17</td>\n",
              "      <td>n</td>\n",
              "      <td>?</td>\n",
              "    </tr>\n",
              "    <tr>\n",
              "      <th>2</th>\n",
              "      <td>hypothyroid</td>\n",
              "      <td>24</td>\n",
              "      <td>M</td>\n",
              "      <td>f</td>\n",
              "      <td>f</td>\n",
              "      <td>f</td>\n",
              "      <td>f</td>\n",
              "      <td>f</td>\n",
              "      <td>f</td>\n",
              "      <td>f</td>\n",
              "      <td>f</td>\n",
              "      <td>f</td>\n",
              "      <td>f</td>\n",
              "      <td>f</td>\n",
              "      <td>y</td>\n",
              "      <td>0</td>\n",
              "      <td>y</td>\n",
              "      <td>0.2</td>\n",
              "      <td>y</td>\n",
              "      <td>4</td>\n",
              "      <td>y</td>\n",
              "      <td>1</td>\n",
              "      <td>y</td>\n",
              "      <td>0</td>\n",
              "      <td>n</td>\n",
              "      <td>?</td>\n",
              "    </tr>\n",
              "    <tr>\n",
              "      <th>3</th>\n",
              "      <td>hypothyroid</td>\n",
              "      <td>24</td>\n",
              "      <td>F</td>\n",
              "      <td>f</td>\n",
              "      <td>f</td>\n",
              "      <td>f</td>\n",
              "      <td>f</td>\n",
              "      <td>f</td>\n",
              "      <td>f</td>\n",
              "      <td>f</td>\n",
              "      <td>f</td>\n",
              "      <td>f</td>\n",
              "      <td>f</td>\n",
              "      <td>f</td>\n",
              "      <td>y</td>\n",
              "      <td>430</td>\n",
              "      <td>y</td>\n",
              "      <td>0.4</td>\n",
              "      <td>y</td>\n",
              "      <td>6</td>\n",
              "      <td>y</td>\n",
              "      <td>1.04</td>\n",
              "      <td>y</td>\n",
              "      <td>6</td>\n",
              "      <td>n</td>\n",
              "      <td>?</td>\n",
              "    </tr>\n",
              "    <tr>\n",
              "      <th>4</th>\n",
              "      <td>hypothyroid</td>\n",
              "      <td>77</td>\n",
              "      <td>M</td>\n",
              "      <td>f</td>\n",
              "      <td>f</td>\n",
              "      <td>f</td>\n",
              "      <td>f</td>\n",
              "      <td>f</td>\n",
              "      <td>f</td>\n",
              "      <td>f</td>\n",
              "      <td>f</td>\n",
              "      <td>f</td>\n",
              "      <td>f</td>\n",
              "      <td>f</td>\n",
              "      <td>y</td>\n",
              "      <td>7.3</td>\n",
              "      <td>y</td>\n",
              "      <td>1.2</td>\n",
              "      <td>y</td>\n",
              "      <td>57</td>\n",
              "      <td>y</td>\n",
              "      <td>1.28</td>\n",
              "      <td>y</td>\n",
              "      <td>44</td>\n",
              "      <td>n</td>\n",
              "      <td>?</td>\n",
              "    </tr>\n",
              "    <tr>\n",
              "      <th>5</th>\n",
              "      <td>hypothyroid</td>\n",
              "      <td>85</td>\n",
              "      <td>F</td>\n",
              "      <td>f</td>\n",
              "      <td>f</td>\n",
              "      <td>f</td>\n",
              "      <td>f</td>\n",
              "      <td>t</td>\n",
              "      <td>f</td>\n",
              "      <td>f</td>\n",
              "      <td>f</td>\n",
              "      <td>f</td>\n",
              "      <td>f</td>\n",
              "      <td>f</td>\n",
              "      <td>y</td>\n",
              "      <td>138</td>\n",
              "      <td>y</td>\n",
              "      <td>1.1</td>\n",
              "      <td>y</td>\n",
              "      <td>27</td>\n",
              "      <td>y</td>\n",
              "      <td>1.19</td>\n",
              "      <td>y</td>\n",
              "      <td>23</td>\n",
              "      <td>n</td>\n",
              "      <td>?</td>\n",
              "    </tr>\n",
              "    <tr>\n",
              "      <th>6</th>\n",
              "      <td>hypothyroid</td>\n",
              "      <td>64</td>\n",
              "      <td>F</td>\n",
              "      <td>f</td>\n",
              "      <td>f</td>\n",
              "      <td>f</td>\n",
              "      <td>t</td>\n",
              "      <td>f</td>\n",
              "      <td>f</td>\n",
              "      <td>f</td>\n",
              "      <td>f</td>\n",
              "      <td>f</td>\n",
              "      <td>f</td>\n",
              "      <td>f</td>\n",
              "      <td>y</td>\n",
              "      <td>7.7</td>\n",
              "      <td>y</td>\n",
              "      <td>1.3</td>\n",
              "      <td>y</td>\n",
              "      <td>54</td>\n",
              "      <td>y</td>\n",
              "      <td>0.86</td>\n",
              "      <td>y</td>\n",
              "      <td>63</td>\n",
              "      <td>n</td>\n",
              "      <td>?</td>\n",
              "    </tr>\n",
              "    <tr>\n",
              "      <th>7</th>\n",
              "      <td>hypothyroid</td>\n",
              "      <td>72</td>\n",
              "      <td>F</td>\n",
              "      <td>f</td>\n",
              "      <td>f</td>\n",
              "      <td>f</td>\n",
              "      <td>f</td>\n",
              "      <td>f</td>\n",
              "      <td>f</td>\n",
              "      <td>f</td>\n",
              "      <td>f</td>\n",
              "      <td>f</td>\n",
              "      <td>f</td>\n",
              "      <td>f</td>\n",
              "      <td>y</td>\n",
              "      <td>21</td>\n",
              "      <td>y</td>\n",
              "      <td>1.9</td>\n",
              "      <td>y</td>\n",
              "      <td>34</td>\n",
              "      <td>y</td>\n",
              "      <td>1.05</td>\n",
              "      <td>y</td>\n",
              "      <td>32</td>\n",
              "      <td>n</td>\n",
              "      <td>?</td>\n",
              "    </tr>\n",
              "    <tr>\n",
              "      <th>8</th>\n",
              "      <td>hypothyroid</td>\n",
              "      <td>20</td>\n",
              "      <td>F</td>\n",
              "      <td>f</td>\n",
              "      <td>f</td>\n",
              "      <td>f</td>\n",
              "      <td>f</td>\n",
              "      <td>t</td>\n",
              "      <td>f</td>\n",
              "      <td>f</td>\n",
              "      <td>f</td>\n",
              "      <td>f</td>\n",
              "      <td>f</td>\n",
              "      <td>f</td>\n",
              "      <td>y</td>\n",
              "      <td>92</td>\n",
              "      <td>n</td>\n",
              "      <td>?</td>\n",
              "      <td>y</td>\n",
              "      <td>39</td>\n",
              "      <td>y</td>\n",
              "      <td>1.21</td>\n",
              "      <td>y</td>\n",
              "      <td>32</td>\n",
              "      <td>n</td>\n",
              "      <td>?</td>\n",
              "    </tr>\n",
              "    <tr>\n",
              "      <th>9</th>\n",
              "      <td>hypothyroid</td>\n",
              "      <td>42</td>\n",
              "      <td>F</td>\n",
              "      <td>f</td>\n",
              "      <td>f</td>\n",
              "      <td>f</td>\n",
              "      <td>f</td>\n",
              "      <td>f</td>\n",
              "      <td>f</td>\n",
              "      <td>f</td>\n",
              "      <td>f</td>\n",
              "      <td>f</td>\n",
              "      <td>f</td>\n",
              "      <td>f</td>\n",
              "      <td>y</td>\n",
              "      <td>48</td>\n",
              "      <td>n</td>\n",
              "      <td>?</td>\n",
              "      <td>y</td>\n",
              "      <td>7.6</td>\n",
              "      <td>y</td>\n",
              "      <td>1.02</td>\n",
              "      <td>y</td>\n",
              "      <td>7.5</td>\n",
              "      <td>n</td>\n",
              "      <td>?</td>\n",
              "    </tr>\n",
              "  </tbody>\n",
              "</table>\n",
              "</div>"
            ],
            "text/plain": [
              "    Unnamed: 0 Age Sex on_thyroxine  ... FTI_measured  FTI TBG_measured TBG\n",
              "0  hypothyroid  72   M            f  ...            y   10            n   ?\n",
              "1  hypothyroid  15   F            t  ...            y   17            n   ?\n",
              "2  hypothyroid  24   M            f  ...            y    0            n   ?\n",
              "3  hypothyroid  24   F            f  ...            y    6            n   ?\n",
              "4  hypothyroid  77   M            f  ...            y   44            n   ?\n",
              "5  hypothyroid  85   F            f  ...            y   23            n   ?\n",
              "6  hypothyroid  64   F            f  ...            y   63            n   ?\n",
              "7  hypothyroid  72   F            f  ...            y   32            n   ?\n",
              "8  hypothyroid  20   F            f  ...            y   32            n   ?\n",
              "9  hypothyroid  42   F            f  ...            y  7.5            n   ?\n",
              "\n",
              "[10 rows x 26 columns]"
            ]
          },
          "metadata": {}
        },
        {
          "output_type": "display_data",
          "data": {
            "text/plain": [
              "Unnamed: 0                   object\n",
              "Age                          object\n",
              "Sex                          object\n",
              "on_thyroxine                 object\n",
              "query_on_thyroxine           object\n",
              "on_antithyroid_medication    object\n",
              "thyroid_surgery              object\n",
              "query_hypothyroid            object\n",
              "query_hyperthyroid           object\n",
              "pregnant                     object\n",
              "sick                         object\n",
              "tumor                        object\n",
              "lithium                      object\n",
              "goitre                       object\n",
              "TSH_measured                 object\n",
              "TSH                          object\n",
              "T3_measured                  object\n",
              "T3                           object\n",
              "TT4_measured                 object\n",
              "TT4                          object\n",
              "T4U_measured                 object\n",
              "T4U                          object\n",
              "FTI_measured                 object\n",
              "FTI                          object\n",
              "TBG_measured                 object\n",
              "TBG                          object\n",
              "dtype: object"
            ]
          },
          "metadata": {}
        }
      ]
    },
    {
      "cell_type": "markdown",
      "metadata": {
        "papermill": {
          "duration": 0.048838,
          "end_time": "2021-03-26T17:20:06.713555",
          "exception": false,
          "start_time": "2021-03-26T17:20:06.664717",
          "status": "completed"
        },
        "tags": [],
        "id": "BZDpqL2sZUDs"
      },
      "source": [
        "### The 'Unnamed' attribute indicate the class of the istance, so I have to rename it. Then I will filter the 'hypothyroid' class istances. For this dataset I don't have 'I131_treatment', 'hypopituitary', 'psych' and 'referral_source' attributes."
      ]
    },
    {
      "cell_type": "code",
      "metadata": {
        "execution": {
          "iopub.execute_input": "2021-03-26T17:20:06.821358Z",
          "iopub.status.busy": "2021-03-26T17:20:06.820638Z",
          "iopub.status.idle": "2021-03-26T17:20:06.824167Z",
          "shell.execute_reply": "2021-03-26T17:20:06.823637Z"
        },
        "papermill": {
          "duration": 0.061653,
          "end_time": "2021-03-26T17:20:06.824300",
          "exception": false,
          "start_time": "2021-03-26T17:20:06.762647",
          "status": "completed"
        },
        "tags": [],
        "id": "lqrrQRnWZUDv"
      },
      "source": [
        "hypothyroid = hypothyroid.rename(columns={hypothyroid.columns[0]:\"Target\",hypothyroid.columns[1]:\"age\",hypothyroid.columns[2]:\"sex\" })\n",
        "hypothyroid = hypothyroid[hypothyroid.Target.isin(['hypothyroid'])]"
      ],
      "execution_count": 13,
      "outputs": []
    },
    {
      "cell_type": "markdown",
      "metadata": {
        "papermill": {
          "duration": 0.04913,
          "end_time": "2021-03-26T17:20:06.922868",
          "exception": false,
          "start_time": "2021-03-26T17:20:06.873738",
          "status": "completed"
        },
        "tags": [],
        "id": "smhbpiBbZUDx"
      },
      "source": [
        "### For 'sick-euthyroid' I have to filter all the 'negative' istances:"
      ]
    },
    {
      "cell_type": "code",
      "metadata": {
        "execution": {
          "iopub.execute_input": "2021-03-26T17:20:07.030446Z",
          "iopub.status.busy": "2021-03-26T17:20:07.029771Z",
          "iopub.status.idle": "2021-03-26T17:20:07.092284Z",
          "shell.execute_reply": "2021-03-26T17:20:07.091738Z"
        },
        "papermill": {
          "duration": 0.120157,
          "end_time": "2021-03-26T17:20:07.092403",
          "exception": false,
          "start_time": "2021-03-26T17:20:06.972246",
          "status": "completed"
        },
        "tags": [],
        "colab": {
          "base_uri": "https://localhost:8080/",
          "height": 1000
        },
        "id": "EEgKFJlgZUDx",
        "outputId": "ef9ec87b-7107-4447-81ef-f70ca92a8ac2"
      },
      "source": [
        "sick_euthyroid = pd.read_csv(\"sick-euthyroid.CSV\")\n",
        "display(sick_euthyroid.shape)\n",
        "display(sick_euthyroid.head(10))\n",
        "display(sick_euthyroid.dtypes)"
      ],
      "execution_count": 14,
      "outputs": [
        {
          "output_type": "display_data",
          "data": {
            "text/plain": [
              "(3163, 26)"
            ]
          },
          "metadata": {}
        },
        {
          "output_type": "display_data",
          "data": {
            "text/html": [
              "<div>\n",
              "<style scoped>\n",
              "    .dataframe tbody tr th:only-of-type {\n",
              "        vertical-align: middle;\n",
              "    }\n",
              "\n",
              "    .dataframe tbody tr th {\n",
              "        vertical-align: top;\n",
              "    }\n",
              "\n",
              "    .dataframe thead th {\n",
              "        text-align: right;\n",
              "    }\n",
              "</style>\n",
              "<table border=\"1\" class=\"dataframe\">\n",
              "  <thead>\n",
              "    <tr style=\"text-align: right;\">\n",
              "      <th></th>\n",
              "      <th>Target</th>\n",
              "      <th>age</th>\n",
              "      <th>sex</th>\n",
              "      <th>on_thyroxine</th>\n",
              "      <th>query_on_thyroxine</th>\n",
              "      <th>on_antithyroid_medication</th>\n",
              "      <th>thyroid_surgery</th>\n",
              "      <th>query_hypothyroid</th>\n",
              "      <th>query_hyperthyroid</th>\n",
              "      <th>pregnant</th>\n",
              "      <th>sick</th>\n",
              "      <th>tumor</th>\n",
              "      <th>lithium</th>\n",
              "      <th>goitre</th>\n",
              "      <th>TSH_measured</th>\n",
              "      <th>TSH</th>\n",
              "      <th>T3_measured</th>\n",
              "      <th>T3</th>\n",
              "      <th>TT4_measured</th>\n",
              "      <th>TT4</th>\n",
              "      <th>T4U_measured</th>\n",
              "      <th>T4U</th>\n",
              "      <th>FTI_measured</th>\n",
              "      <th>FTI</th>\n",
              "      <th>TBG_measured</th>\n",
              "      <th>TBG</th>\n",
              "    </tr>\n",
              "  </thead>\n",
              "  <tbody>\n",
              "    <tr>\n",
              "      <th>0</th>\n",
              "      <td>sick-euthyroid</td>\n",
              "      <td>72</td>\n",
              "      <td>M</td>\n",
              "      <td>f</td>\n",
              "      <td>f</td>\n",
              "      <td>f</td>\n",
              "      <td>f</td>\n",
              "      <td>f</td>\n",
              "      <td>f</td>\n",
              "      <td>f</td>\n",
              "      <td>f</td>\n",
              "      <td>f</td>\n",
              "      <td>f</td>\n",
              "      <td>f</td>\n",
              "      <td>n</td>\n",
              "      <td>?</td>\n",
              "      <td>y</td>\n",
              "      <td>1</td>\n",
              "      <td>y</td>\n",
              "      <td>83</td>\n",
              "      <td>y</td>\n",
              "      <td>0.95</td>\n",
              "      <td>y</td>\n",
              "      <td>87</td>\n",
              "      <td>n</td>\n",
              "      <td>?</td>\n",
              "    </tr>\n",
              "    <tr>\n",
              "      <th>1</th>\n",
              "      <td>sick-euthyroid</td>\n",
              "      <td>45</td>\n",
              "      <td>F</td>\n",
              "      <td>f</td>\n",
              "      <td>f</td>\n",
              "      <td>f</td>\n",
              "      <td>f</td>\n",
              "      <td>f</td>\n",
              "      <td>f</td>\n",
              "      <td>f</td>\n",
              "      <td>f</td>\n",
              "      <td>f</td>\n",
              "      <td>f</td>\n",
              "      <td>f</td>\n",
              "      <td>y</td>\n",
              "      <td>1.90</td>\n",
              "      <td>y</td>\n",
              "      <td>1</td>\n",
              "      <td>y</td>\n",
              "      <td>82</td>\n",
              "      <td>y</td>\n",
              "      <td>0.73</td>\n",
              "      <td>y</td>\n",
              "      <td>112</td>\n",
              "      <td>n</td>\n",
              "      <td>?</td>\n",
              "    </tr>\n",
              "    <tr>\n",
              "      <th>2</th>\n",
              "      <td>sick-euthyroid</td>\n",
              "      <td>64</td>\n",
              "      <td>F</td>\n",
              "      <td>f</td>\n",
              "      <td>f</td>\n",
              "      <td>f</td>\n",
              "      <td>f</td>\n",
              "      <td>f</td>\n",
              "      <td>f</td>\n",
              "      <td>f</td>\n",
              "      <td>t</td>\n",
              "      <td>f</td>\n",
              "      <td>f</td>\n",
              "      <td>f</td>\n",
              "      <td>y</td>\n",
              "      <td>0.09</td>\n",
              "      <td>y</td>\n",
              "      <td>1</td>\n",
              "      <td>y</td>\n",
              "      <td>101</td>\n",
              "      <td>y</td>\n",
              "      <td>0.82</td>\n",
              "      <td>y</td>\n",
              "      <td>123</td>\n",
              "      <td>n</td>\n",
              "      <td>?</td>\n",
              "    </tr>\n",
              "    <tr>\n",
              "      <th>3</th>\n",
              "      <td>sick-euthyroid</td>\n",
              "      <td>56</td>\n",
              "      <td>M</td>\n",
              "      <td>f</td>\n",
              "      <td>f</td>\n",
              "      <td>f</td>\n",
              "      <td>f</td>\n",
              "      <td>f</td>\n",
              "      <td>f</td>\n",
              "      <td>f</td>\n",
              "      <td>f</td>\n",
              "      <td>f</td>\n",
              "      <td>f</td>\n",
              "      <td>f</td>\n",
              "      <td>y</td>\n",
              "      <td>0</td>\n",
              "      <td>y</td>\n",
              "      <td>0.80</td>\n",
              "      <td>y</td>\n",
              "      <td>76</td>\n",
              "      <td>y</td>\n",
              "      <td>0.77</td>\n",
              "      <td>y</td>\n",
              "      <td>99</td>\n",
              "      <td>n</td>\n",
              "      <td>?</td>\n",
              "    </tr>\n",
              "    <tr>\n",
              "      <th>4</th>\n",
              "      <td>sick-euthyroid</td>\n",
              "      <td>78</td>\n",
              "      <td>F</td>\n",
              "      <td>t</td>\n",
              "      <td>f</td>\n",
              "      <td>f</td>\n",
              "      <td>f</td>\n",
              "      <td>t</td>\n",
              "      <td>f</td>\n",
              "      <td>f</td>\n",
              "      <td>f</td>\n",
              "      <td>f</td>\n",
              "      <td>f</td>\n",
              "      <td>f</td>\n",
              "      <td>y</td>\n",
              "      <td>2.60</td>\n",
              "      <td>y</td>\n",
              "      <td>0.30</td>\n",
              "      <td>y</td>\n",
              "      <td>87</td>\n",
              "      <td>y</td>\n",
              "      <td>0.95</td>\n",
              "      <td>y</td>\n",
              "      <td>91</td>\n",
              "      <td>n</td>\n",
              "      <td>?</td>\n",
              "    </tr>\n",
              "    <tr>\n",
              "      <th>5</th>\n",
              "      <td>sick-euthyroid</td>\n",
              "      <td>80</td>\n",
              "      <td>M</td>\n",
              "      <td>f</td>\n",
              "      <td>f</td>\n",
              "      <td>f</td>\n",
              "      <td>f</td>\n",
              "      <td>f</td>\n",
              "      <td>f</td>\n",
              "      <td>f</td>\n",
              "      <td>f</td>\n",
              "      <td>f</td>\n",
              "      <td>f</td>\n",
              "      <td>f</td>\n",
              "      <td>y</td>\n",
              "      <td>1.40</td>\n",
              "      <td>y</td>\n",
              "      <td>0.80</td>\n",
              "      <td>y</td>\n",
              "      <td>105</td>\n",
              "      <td>y</td>\n",
              "      <td>0.88</td>\n",
              "      <td>y</td>\n",
              "      <td>120</td>\n",
              "      <td>n</td>\n",
              "      <td>?</td>\n",
              "    </tr>\n",
              "    <tr>\n",
              "      <th>6</th>\n",
              "      <td>sick-euthyroid</td>\n",
              "      <td>74</td>\n",
              "      <td>F</td>\n",
              "      <td>f</td>\n",
              "      <td>f</td>\n",
              "      <td>f</td>\n",
              "      <td>f</td>\n",
              "      <td>f</td>\n",
              "      <td>f</td>\n",
              "      <td>f</td>\n",
              "      <td>f</td>\n",
              "      <td>f</td>\n",
              "      <td>f</td>\n",
              "      <td>f</td>\n",
              "      <td>y</td>\n",
              "      <td>0</td>\n",
              "      <td>y</td>\n",
              "      <td>0.70</td>\n",
              "      <td>y</td>\n",
              "      <td>98</td>\n",
              "      <td>y</td>\n",
              "      <td>0.81</td>\n",
              "      <td>y</td>\n",
              "      <td>121</td>\n",
              "      <td>n</td>\n",
              "      <td>?</td>\n",
              "    </tr>\n",
              "    <tr>\n",
              "      <th>7</th>\n",
              "      <td>sick-euthyroid</td>\n",
              "      <td>?</td>\n",
              "      <td>F</td>\n",
              "      <td>f</td>\n",
              "      <td>f</td>\n",
              "      <td>f</td>\n",
              "      <td>f</td>\n",
              "      <td>f</td>\n",
              "      <td>f</td>\n",
              "      <td>f</td>\n",
              "      <td>f</td>\n",
              "      <td>f</td>\n",
              "      <td>f</td>\n",
              "      <td>f</td>\n",
              "      <td>y</td>\n",
              "      <td>1.40</td>\n",
              "      <td>y</td>\n",
              "      <td>1.10</td>\n",
              "      <td>y</td>\n",
              "      <td>121</td>\n",
              "      <td>y</td>\n",
              "      <td>1.11</td>\n",
              "      <td>y</td>\n",
              "      <td>109</td>\n",
              "      <td>n</td>\n",
              "      <td>?</td>\n",
              "    </tr>\n",
              "    <tr>\n",
              "      <th>8</th>\n",
              "      <td>sick-euthyroid</td>\n",
              "      <td>42</td>\n",
              "      <td>F</td>\n",
              "      <td>f</td>\n",
              "      <td>f</td>\n",
              "      <td>f</td>\n",
              "      <td>f</td>\n",
              "      <td>f</td>\n",
              "      <td>f</td>\n",
              "      <td>f</td>\n",
              "      <td>f</td>\n",
              "      <td>f</td>\n",
              "      <td>f</td>\n",
              "      <td>f</td>\n",
              "      <td>y</td>\n",
              "      <td>2.30</td>\n",
              "      <td>y</td>\n",
              "      <td>1.10</td>\n",
              "      <td>y</td>\n",
              "      <td>93</td>\n",
              "      <td>y</td>\n",
              "      <td>0.73</td>\n",
              "      <td>y</td>\n",
              "      <td>127</td>\n",
              "      <td>n</td>\n",
              "      <td>?</td>\n",
              "    </tr>\n",
              "    <tr>\n",
              "      <th>9</th>\n",
              "      <td>sick-euthyroid</td>\n",
              "      <td>89</td>\n",
              "      <td>M</td>\n",
              "      <td>f</td>\n",
              "      <td>f</td>\n",
              "      <td>f</td>\n",
              "      <td>f</td>\n",
              "      <td>f</td>\n",
              "      <td>f</td>\n",
              "      <td>f</td>\n",
              "      <td>f</td>\n",
              "      <td>f</td>\n",
              "      <td>f</td>\n",
              "      <td>f</td>\n",
              "      <td>y</td>\n",
              "      <td>0.80</td>\n",
              "      <td>y</td>\n",
              "      <td>0.80</td>\n",
              "      <td>y</td>\n",
              "      <td>111</td>\n",
              "      <td>y</td>\n",
              "      <td>0.68</td>\n",
              "      <td>y</td>\n",
              "      <td>165</td>\n",
              "      <td>n</td>\n",
              "      <td>?</td>\n",
              "    </tr>\n",
              "  </tbody>\n",
              "</table>\n",
              "</div>"
            ],
            "text/plain": [
              "           Target age sex on_thyroxine  ... FTI_measured  FTI TBG_measured TBG\n",
              "0  sick-euthyroid  72   M            f  ...            y   87            n   ?\n",
              "1  sick-euthyroid  45   F            f  ...            y  112            n   ?\n",
              "2  sick-euthyroid  64   F            f  ...            y  123            n   ?\n",
              "3  sick-euthyroid  56   M            f  ...            y   99            n   ?\n",
              "4  sick-euthyroid  78   F            t  ...            y   91            n   ?\n",
              "5  sick-euthyroid  80   M            f  ...            y  120            n   ?\n",
              "6  sick-euthyroid  74   F            f  ...            y  121            n   ?\n",
              "7  sick-euthyroid   ?   F            f  ...            y  109            n   ?\n",
              "8  sick-euthyroid  42   F            f  ...            y  127            n   ?\n",
              "9  sick-euthyroid  89   M            f  ...            y  165            n   ?\n",
              "\n",
              "[10 rows x 26 columns]"
            ]
          },
          "metadata": {}
        },
        {
          "output_type": "display_data",
          "data": {
            "text/plain": [
              "Target                       object\n",
              "age                          object\n",
              "sex                          object\n",
              "on_thyroxine                 object\n",
              "query_on_thyroxine           object\n",
              "on_antithyroid_medication    object\n",
              "thyroid_surgery              object\n",
              "query_hypothyroid            object\n",
              "query_hyperthyroid           object\n",
              "pregnant                     object\n",
              "sick                         object\n",
              "tumor                        object\n",
              "lithium                      object\n",
              "goitre                       object\n",
              "TSH_measured                 object\n",
              "TSH                          object\n",
              "T3_measured                  object\n",
              "T3                           object\n",
              "TT4_measured                 object\n",
              "TT4                          object\n",
              "T4U_measured                 object\n",
              "T4U                          object\n",
              "FTI_measured                 object\n",
              "FTI                          object\n",
              "TBG_measured                 object\n",
              "TBG                          object\n",
              "dtype: object"
            ]
          },
          "metadata": {}
        }
      ]
    },
    {
      "cell_type": "markdown",
      "metadata": {
        "papermill": {
          "duration": 0.052023,
          "end_time": "2021-03-26T17:20:07.196994",
          "exception": false,
          "start_time": "2021-03-26T17:20:07.144971",
          "status": "completed"
        },
        "tags": [],
        "id": "ITM9bTcmZUDy"
      },
      "source": [
        "### For this dataset I don't have 'I131_treatment', 'hypopituitary', 'psych' and 'referral_source' attributes."
      ]
    },
    {
      "cell_type": "code",
      "metadata": {
        "execution": {
          "iopub.execute_input": "2021-03-26T17:20:07.306307Z",
          "iopub.status.busy": "2021-03-26T17:20:07.304773Z",
          "iopub.status.idle": "2021-03-26T17:20:07.310233Z",
          "shell.execute_reply": "2021-03-26T17:20:07.309705Z"
        },
        "papermill": {
          "duration": 0.062041,
          "end_time": "2021-03-26T17:20:07.310348",
          "exception": false,
          "start_time": "2021-03-26T17:20:07.248307",
          "status": "completed"
        },
        "tags": [],
        "colab": {
          "base_uri": "https://localhost:8080/",
          "height": 34
        },
        "id": "zNV1P1RVZUDy",
        "outputId": "c2ae312f-50c4-48e4-ff5e-c90336168405"
      },
      "source": [
        "sick_euthyroid = sick_euthyroid[sick_euthyroid.Target.isin(['negative'])]\n",
        "display(sick_euthyroid.shape)"
      ],
      "execution_count": 15,
      "outputs": [
        {
          "output_type": "display_data",
          "data": {
            "text/plain": [
              "(2870, 26)"
            ]
          },
          "metadata": {}
        }
      ]
    },
    {
      "cell_type": "markdown",
      "metadata": {
        "papermill": {
          "duration": 0.051502,
          "end_time": "2021-03-26T17:20:07.413327",
          "exception": false,
          "start_time": "2021-03-26T17:20:07.361825",
          "status": "completed"
        },
        "tags": [],
        "id": "SLt9NQ6QZUDz"
      },
      "source": [
        "### Now it's time to work on the \"ann\" series:"
      ]
    },
    {
      "cell_type": "code",
      "metadata": {
        "execution": {
          "iopub.execute_input": "2021-03-26T17:20:07.523432Z",
          "iopub.status.busy": "2021-03-26T17:20:07.522797Z",
          "iopub.status.idle": "2021-03-26T17:20:07.591138Z",
          "shell.execute_reply": "2021-03-26T17:20:07.591858Z"
        },
        "papermill": {
          "duration": 0.126977,
          "end_time": "2021-03-26T17:20:07.592006",
          "exception": false,
          "start_time": "2021-03-26T17:20:07.465029",
          "status": "completed"
        },
        "tags": [],
        "colab": {
          "base_uri": "https://localhost:8080/",
          "height": 763
        },
        "id": "BF9wzJxfZUDz",
        "outputId": "727f2e1b-559a-4efe-d274-62f5dcbd634b"
      },
      "source": [
        "ann_train = pd.read_csv(\"ann-train.CSV\")\n",
        "ann_test = pd.read_csv(\"ann-test.CSV\")\n",
        "display(ann_test.head(10))\n",
        "display(ann_test.dtypes)"
      ],
      "execution_count": 16,
      "outputs": [
        {
          "output_type": "display_data",
          "data": {
            "text/html": [
              "<div>\n",
              "<style scoped>\n",
              "    .dataframe tbody tr th:only-of-type {\n",
              "        vertical-align: middle;\n",
              "    }\n",
              "\n",
              "    .dataframe tbody tr th {\n",
              "        vertical-align: top;\n",
              "    }\n",
              "\n",
              "    .dataframe thead th {\n",
              "        text-align: right;\n",
              "    }\n",
              "</style>\n",
              "<table border=\"1\" class=\"dataframe\">\n",
              "  <thead>\n",
              "    <tr style=\"text-align: right;\">\n",
              "      <th></th>\n",
              "      <th>age</th>\n",
              "      <th>sex</th>\n",
              "      <th>on_thyroxine</th>\n",
              "      <th>query_on_thyroxine</th>\n",
              "      <th>on_antithyroid_medication</th>\n",
              "      <th>sick</th>\n",
              "      <th>pregnant</th>\n",
              "      <th>thyroid_surgery</th>\n",
              "      <th>I131_treatment</th>\n",
              "      <th>query_hypothyroid</th>\n",
              "      <th>query_hyperthyroid</th>\n",
              "      <th>lithium</th>\n",
              "      <th>goitre</th>\n",
              "      <th>tumor</th>\n",
              "      <th>hypopituitary</th>\n",
              "      <th>psych</th>\n",
              "      <th>TSH</th>\n",
              "      <th>T3</th>\n",
              "      <th>TT4</th>\n",
              "      <th>T4U</th>\n",
              "      <th>FTI</th>\n",
              "      <th>Target</th>\n",
              "    </tr>\n",
              "  </thead>\n",
              "  <tbody>\n",
              "    <tr>\n",
              "      <th>0</th>\n",
              "      <td>0.29</td>\n",
              "      <td>0</td>\n",
              "      <td>0</td>\n",
              "      <td>0</td>\n",
              "      <td>0</td>\n",
              "      <td>0</td>\n",
              "      <td>0</td>\n",
              "      <td>0</td>\n",
              "      <td>0</td>\n",
              "      <td>0</td>\n",
              "      <td>0</td>\n",
              "      <td>0</td>\n",
              "      <td>0</td>\n",
              "      <td>0</td>\n",
              "      <td>0</td>\n",
              "      <td>0</td>\n",
              "      <td>0.00610</td>\n",
              "      <td>0.028</td>\n",
              "      <td>0.111</td>\n",
              "      <td>0.131</td>\n",
              "      <td>0.08500</td>\n",
              "      <td>2</td>\n",
              "    </tr>\n",
              "    <tr>\n",
              "      <th>1</th>\n",
              "      <td>0.32</td>\n",
              "      <td>0</td>\n",
              "      <td>0</td>\n",
              "      <td>0</td>\n",
              "      <td>0</td>\n",
              "      <td>0</td>\n",
              "      <td>0</td>\n",
              "      <td>0</td>\n",
              "      <td>0</td>\n",
              "      <td>0</td>\n",
              "      <td>0</td>\n",
              "      <td>0</td>\n",
              "      <td>0</td>\n",
              "      <td>0</td>\n",
              "      <td>0</td>\n",
              "      <td>0</td>\n",
              "      <td>0.00130</td>\n",
              "      <td>0.019</td>\n",
              "      <td>0.084</td>\n",
              "      <td>0.078</td>\n",
              "      <td>0.10700</td>\n",
              "      <td>3</td>\n",
              "    </tr>\n",
              "    <tr>\n",
              "      <th>2</th>\n",
              "      <td>0.35</td>\n",
              "      <td>0</td>\n",
              "      <td>0</td>\n",
              "      <td>0</td>\n",
              "      <td>0</td>\n",
              "      <td>0</td>\n",
              "      <td>0</td>\n",
              "      <td>0</td>\n",
              "      <td>0</td>\n",
              "      <td>0</td>\n",
              "      <td>0</td>\n",
              "      <td>0</td>\n",
              "      <td>0</td>\n",
              "      <td>0</td>\n",
              "      <td>0</td>\n",
              "      <td>0</td>\n",
              "      <td>0.00000</td>\n",
              "      <td>0.031</td>\n",
              "      <td>0.239</td>\n",
              "      <td>0.100</td>\n",
              "      <td>0.23900</td>\n",
              "      <td>3</td>\n",
              "    </tr>\n",
              "    <tr>\n",
              "      <th>3</th>\n",
              "      <td>0.21</td>\n",
              "      <td>0</td>\n",
              "      <td>0</td>\n",
              "      <td>0</td>\n",
              "      <td>0</td>\n",
              "      <td>0</td>\n",
              "      <td>0</td>\n",
              "      <td>0</td>\n",
              "      <td>0</td>\n",
              "      <td>0</td>\n",
              "      <td>0</td>\n",
              "      <td>0</td>\n",
              "      <td>0</td>\n",
              "      <td>0</td>\n",
              "      <td>0</td>\n",
              "      <td>0</td>\n",
              "      <td>0.00100</td>\n",
              "      <td>0.018</td>\n",
              "      <td>0.087</td>\n",
              "      <td>0.088</td>\n",
              "      <td>0.09900</td>\n",
              "      <td>3</td>\n",
              "    </tr>\n",
              "    <tr>\n",
              "      <th>4</th>\n",
              "      <td>0.22</td>\n",
              "      <td>0</td>\n",
              "      <td>0</td>\n",
              "      <td>0</td>\n",
              "      <td>0</td>\n",
              "      <td>1</td>\n",
              "      <td>0</td>\n",
              "      <td>0</td>\n",
              "      <td>0</td>\n",
              "      <td>0</td>\n",
              "      <td>0</td>\n",
              "      <td>0</td>\n",
              "      <td>0</td>\n",
              "      <td>0</td>\n",
              "      <td>0</td>\n",
              "      <td>0</td>\n",
              "      <td>0.00040</td>\n",
              "      <td>0.022</td>\n",
              "      <td>0.134</td>\n",
              "      <td>0.135</td>\n",
              "      <td>0.09900</td>\n",
              "      <td>3</td>\n",
              "    </tr>\n",
              "    <tr>\n",
              "      <th>5</th>\n",
              "      <td>0.22</td>\n",
              "      <td>0</td>\n",
              "      <td>0</td>\n",
              "      <td>0</td>\n",
              "      <td>0</td>\n",
              "      <td>0</td>\n",
              "      <td>0</td>\n",
              "      <td>0</td>\n",
              "      <td>0</td>\n",
              "      <td>0</td>\n",
              "      <td>0</td>\n",
              "      <td>0</td>\n",
              "      <td>0</td>\n",
              "      <td>0</td>\n",
              "      <td>0</td>\n",
              "      <td>0</td>\n",
              "      <td>0.00160</td>\n",
              "      <td>0.020</td>\n",
              "      <td>0.123</td>\n",
              "      <td>0.113</td>\n",
              "      <td>0.10900</td>\n",
              "      <td>3</td>\n",
              "    </tr>\n",
              "    <tr>\n",
              "      <th>6</th>\n",
              "      <td>0.39</td>\n",
              "      <td>0</td>\n",
              "      <td>0</td>\n",
              "      <td>0</td>\n",
              "      <td>0</td>\n",
              "      <td>0</td>\n",
              "      <td>0</td>\n",
              "      <td>0</td>\n",
              "      <td>0</td>\n",
              "      <td>0</td>\n",
              "      <td>1</td>\n",
              "      <td>0</td>\n",
              "      <td>0</td>\n",
              "      <td>0</td>\n",
              "      <td>0</td>\n",
              "      <td>0</td>\n",
              "      <td>0.00160</td>\n",
              "      <td>0.036</td>\n",
              "      <td>0.133</td>\n",
              "      <td>0.144</td>\n",
              "      <td>0.09300</td>\n",
              "      <td>3</td>\n",
              "    </tr>\n",
              "    <tr>\n",
              "      <th>7</th>\n",
              "      <td>0.77</td>\n",
              "      <td>1</td>\n",
              "      <td>0</td>\n",
              "      <td>0</td>\n",
              "      <td>0</td>\n",
              "      <td>0</td>\n",
              "      <td>0</td>\n",
              "      <td>0</td>\n",
              "      <td>0</td>\n",
              "      <td>0</td>\n",
              "      <td>0</td>\n",
              "      <td>0</td>\n",
              "      <td>0</td>\n",
              "      <td>0</td>\n",
              "      <td>0</td>\n",
              "      <td>0</td>\n",
              "      <td>0.00081</td>\n",
              "      <td>0.020</td>\n",
              "      <td>0.080</td>\n",
              "      <td>0.096</td>\n",
              "      <td>0.08316</td>\n",
              "      <td>3</td>\n",
              "    </tr>\n",
              "    <tr>\n",
              "      <th>8</th>\n",
              "      <td>0.23</td>\n",
              "      <td>0</td>\n",
              "      <td>0</td>\n",
              "      <td>0</td>\n",
              "      <td>0</td>\n",
              "      <td>0</td>\n",
              "      <td>0</td>\n",
              "      <td>0</td>\n",
              "      <td>0</td>\n",
              "      <td>0</td>\n",
              "      <td>0</td>\n",
              "      <td>0</td>\n",
              "      <td>0</td>\n",
              "      <td>0</td>\n",
              "      <td>0</td>\n",
              "      <td>0</td>\n",
              "      <td>0.00025</td>\n",
              "      <td>0.014</td>\n",
              "      <td>0.113</td>\n",
              "      <td>0.096</td>\n",
              "      <td>0.11746</td>\n",
              "      <td>3</td>\n",
              "    </tr>\n",
              "    <tr>\n",
              "      <th>9</th>\n",
              "      <td>0.23</td>\n",
              "      <td>0</td>\n",
              "      <td>0</td>\n",
              "      <td>0</td>\n",
              "      <td>0</td>\n",
              "      <td>0</td>\n",
              "      <td>0</td>\n",
              "      <td>0</td>\n",
              "      <td>0</td>\n",
              "      <td>0</td>\n",
              "      <td>0</td>\n",
              "      <td>0</td>\n",
              "      <td>0</td>\n",
              "      <td>0</td>\n",
              "      <td>0</td>\n",
              "      <td>0</td>\n",
              "      <td>0.00260</td>\n",
              "      <td>0.011</td>\n",
              "      <td>0.104</td>\n",
              "      <td>0.104</td>\n",
              "      <td>0.09900</td>\n",
              "      <td>3</td>\n",
              "    </tr>\n",
              "  </tbody>\n",
              "</table>\n",
              "</div>"
            ],
            "text/plain": [
              "    age  sex  on_thyroxine  query_on_thyroxine  ...    TT4    T4U      FTI  Target\n",
              "0  0.29    0             0                   0  ...  0.111  0.131  0.08500       2\n",
              "1  0.32    0             0                   0  ...  0.084  0.078  0.10700       3\n",
              "2  0.35    0             0                   0  ...  0.239  0.100  0.23900       3\n",
              "3  0.21    0             0                   0  ...  0.087  0.088  0.09900       3\n",
              "4  0.22    0             0                   0  ...  0.134  0.135  0.09900       3\n",
              "5  0.22    0             0                   0  ...  0.123  0.113  0.10900       3\n",
              "6  0.39    0             0                   0  ...  0.133  0.144  0.09300       3\n",
              "7  0.77    1             0                   0  ...  0.080  0.096  0.08316       3\n",
              "8  0.23    0             0                   0  ...  0.113  0.096  0.11746       3\n",
              "9  0.23    0             0                   0  ...  0.104  0.104  0.09900       3\n",
              "\n",
              "[10 rows x 22 columns]"
            ]
          },
          "metadata": {}
        },
        {
          "output_type": "display_data",
          "data": {
            "text/plain": [
              "age                          float64\n",
              "sex                            int64\n",
              "on_thyroxine                   int64\n",
              "query_on_thyroxine             int64\n",
              "on_antithyroid_medication      int64\n",
              "sick                           int64\n",
              "pregnant                       int64\n",
              "thyroid_surgery                int64\n",
              "I131_treatment                 int64\n",
              "query_hypothyroid              int64\n",
              "query_hyperthyroid             int64\n",
              "lithium                        int64\n",
              "goitre                         int64\n",
              "tumor                          int64\n",
              "hypopituitary                  int64\n",
              "psych                          int64\n",
              "TSH                          float64\n",
              "T3                           float64\n",
              "TT4                          float64\n",
              "T4U                          float64\n",
              "FTI                          float64\n",
              "Target                         int64\n",
              "dtype: object"
            ]
          },
          "metadata": {}
        }
      ]
    },
    {
      "cell_type": "markdown",
      "metadata": {
        "papermill": {
          "duration": 0.05313,
          "end_time": "2021-03-26T17:20:07.698580",
          "exception": false,
          "start_time": "2021-03-26T17:20:07.645450",
          "status": "completed"
        },
        "tags": [],
        "id": "lGyyUHDTZUD0"
      },
      "source": [
        "### I don't have 'measured' attributes, the 'TBG' and the 'referral_source' attributes. I should create the 'measured' attributes basing on the other columns."
      ]
    },
    {
      "cell_type": "code",
      "metadata": {
        "execution": {
          "iopub.execute_input": "2021-03-26T17:20:07.808946Z",
          "iopub.status.busy": "2021-03-26T17:20:07.808249Z",
          "iopub.status.idle": "2021-03-26T17:20:07.820082Z",
          "shell.execute_reply": "2021-03-26T17:20:07.820707Z"
        },
        "papermill": {
          "duration": 0.068274,
          "end_time": "2021-03-26T17:20:07.820840",
          "exception": false,
          "start_time": "2021-03-26T17:20:07.752566",
          "status": "completed"
        },
        "tags": [],
        "colab": {
          "base_uri": "https://localhost:8080/",
          "height": 151
        },
        "id": "1j-ppVa0ZUD0",
        "outputId": "528a95fd-9064-44f1-eade-879a3d743fcf"
      },
      "source": [
        "target1 = pd.Series(ann_test[ann_test.columns[-1]].values)\n",
        "display(target1.value_counts())\n",
        "target2 = pd.Series(ann_train[ann_train.columns[-1]].values)\n",
        "display(target2.value_counts())"
      ],
      "execution_count": 17,
      "outputs": [
        {
          "output_type": "display_data",
          "data": {
            "text/plain": [
              "3    3178\n",
              "2     177\n",
              "1      73\n",
              "dtype: int64"
            ]
          },
          "metadata": {}
        },
        {
          "output_type": "display_data",
          "data": {
            "text/plain": [
              "3    3488\n",
              "2     191\n",
              "1      93\n",
              "dtype: int64"
            ]
          },
          "metadata": {}
        }
      ]
    },
    {
      "cell_type": "markdown",
      "metadata": {
        "papermill": {
          "duration": 0.054306,
          "end_time": "2021-03-26T17:20:07.929379",
          "exception": false,
          "start_time": "2021-03-26T17:20:07.875073",
          "status": "completed"
        },
        "tags": [],
        "id": "smqunKvqZUD1"
      },
      "source": [
        "### Looking at the distribuition of the values for the 'Target' attribute, we can understand that:\n",
        "* 3 is referring to the 'negative' class\n",
        "* 2 is referring to the 'hypothyroid' class\n",
        "* 1 is referring to the 'hyperthyroid' class\n",
        "\n",
        "### I should analyze the distribuition of the sex attribute in the other datasets to understand how I should treat it in the 'ann' series:"
      ]
    },
    {
      "cell_type": "code",
      "metadata": {
        "execution": {
          "iopub.execute_input": "2021-03-26T17:20:08.042278Z",
          "iopub.status.busy": "2021-03-26T17:20:08.041646Z",
          "iopub.status.idle": "2021-03-26T17:20:08.057975Z",
          "shell.execute_reply": "2021-03-26T17:20:08.058562Z"
        },
        "papermill": {
          "duration": 0.074916,
          "end_time": "2021-03-26T17:20:08.058719",
          "exception": false,
          "start_time": "2021-03-26T17:20:07.983803",
          "status": "completed"
        },
        "tags": [],
        "colab": {
          "base_uri": "https://localhost:8080/",
          "height": 168
        },
        "id": "-Up7RgMeZUD2",
        "outputId": "7ff256b4-aa4e-455e-a572-ed99d8658547"
      },
      "source": [
        "print(\"Sex thyroid0387 1=F,0=M:\")\n",
        "sex_series1 = pd.Series(thyroid0387[thyroid0387.columns[1]].values)\n",
        "display(sex_series1.value_counts())\n",
        "print(\"Sick-euthyroid:\")\n",
        "sex_series2 = pd.Series(sick_euthyroid[sick_euthyroid.columns[2]].values)\n",
        "display(sex_series2.value_counts())"
      ],
      "execution_count": 18,
      "outputs": [
        {
          "output_type": "stream",
          "name": "stdout",
          "text": [
            "Sex thyroid0387 1=F,0=M:\n"
          ]
        },
        {
          "output_type": "display_data",
          "data": {
            "text/plain": [
              "1.0    6073\n",
              "0.0    2792\n",
              "dtype: int64"
            ]
          },
          "metadata": {}
        },
        {
          "output_type": "stream",
          "name": "stdout",
          "text": [
            "Sick-euthyroid:\n"
          ]
        },
        {
          "output_type": "display_data",
          "data": {
            "text/plain": [
              "F    2003\n",
              "M     800\n",
              "?      67\n",
              "dtype: int64"
            ]
          },
          "metadata": {}
        }
      ]
    },
    {
      "cell_type": "markdown",
      "metadata": {
        "papermill": {
          "duration": 0.062956,
          "end_time": "2021-03-26T17:20:08.185483",
          "exception": false,
          "start_time": "2021-03-26T17:20:08.122527",
          "status": "completed"
        },
        "tags": [],
        "id": "e_fDeDBQZUD3"
      },
      "source": [
        "### So, there are more female than male patients in these datasets. Looking at the \"ann\" series I got:"
      ]
    },
    {
      "cell_type": "code",
      "metadata": {
        "execution": {
          "iopub.execute_input": "2021-03-26T17:20:08.306752Z",
          "iopub.status.busy": "2021-03-26T17:20:08.306047Z",
          "iopub.status.idle": "2021-03-26T17:20:08.314033Z",
          "shell.execute_reply": "2021-03-26T17:20:08.314637Z"
        },
        "papermill": {
          "duration": 0.073114,
          "end_time": "2021-03-26T17:20:08.314798",
          "exception": false,
          "start_time": "2021-03-26T17:20:08.241684",
          "status": "completed"
        },
        "tags": [],
        "colab": {
          "base_uri": "https://localhost:8080/",
          "height": 118
        },
        "id": "rXWmVEI2ZUD3",
        "outputId": "ae7065d2-1165-429b-a2e7-9046b433a837"
      },
      "source": [
        "sex1 = pd.Series(ann_test[ann_test.columns[1]].values)\n",
        "display(sex1.value_counts())\n",
        "sex2 = pd.Series(ann_train[ann_train.columns[1]].values)\n",
        "display(sex2.value_counts())"
      ],
      "execution_count": 19,
      "outputs": [
        {
          "output_type": "display_data",
          "data": {
            "text/plain": [
              "0    2380\n",
              "1    1048\n",
              "dtype: int64"
            ]
          },
          "metadata": {}
        },
        {
          "output_type": "display_data",
          "data": {
            "text/plain": [
              "0    2629\n",
              "1    1143\n",
              "dtype: int64"
            ]
          },
          "metadata": {}
        }
      ]
    },
    {
      "cell_type": "markdown",
      "metadata": {
        "papermill": {
          "duration": 0.057017,
          "end_time": "2021-03-26T17:20:08.429166",
          "exception": false,
          "start_time": "2021-03-26T17:20:08.372149",
          "status": "completed"
        },
        "tags": [],
        "id": "udvVSJAiZUD4"
      },
      "source": [
        "### I can assume that '0' refers to female patients and '1' refers to male patients. Another important things to do is to multply for 100 all the continuos and numerical attributes and to add the 'measured' attributes."
      ]
    },
    {
      "cell_type": "code",
      "metadata": {
        "execution": {
          "iopub.execute_input": "2021-03-26T17:20:08.568929Z",
          "iopub.status.busy": "2021-03-26T17:20:08.557788Z",
          "iopub.status.idle": "2021-03-26T17:20:08.576403Z",
          "shell.execute_reply": "2021-03-26T17:20:08.575757Z"
        },
        "papermill": {
          "duration": 0.088699,
          "end_time": "2021-03-26T17:20:08.576532",
          "exception": false,
          "start_time": "2021-03-26T17:20:08.487833",
          "status": "completed"
        },
        "tags": [],
        "colab": {
          "base_uri": "https://localhost:8080/"
        },
        "id": "mFKKw1tQZUD5",
        "outputId": "ff4be379-8434-43fa-d386-b2810270484a"
      },
      "source": [
        "for column in ann_train.columns:\n",
        "    listOfValues=set(ann_train[column])\n",
        "    print(column,\": \",listOfValues)"
      ],
      "execution_count": 20,
      "outputs": [
        {
          "output_type": "stream",
          "name": "stdout",
          "text": [
            "age :  {0.73, 0.24, 0.47, 0.69, 0.48, 0.76, 0.5, 0.25, 0.26, 0.51, 0.75, 0.23, 0.22, 0.54, 0.79, 0.21, 0.63, 0.38, 0.13, 0.88, 0.72, 0.42, 0.18, 0.43, 0.44, 0.19, 0.2, 0.45, 0.46, 0.41, 0.94, 0.15, 0.16, 0.17, 0.55, 0.8, 0.39, 0.89, 0.14, 0.515, 0.57, 0.82, 0.64, 0.85, 0.67, 0.59, 0.58, 0.84, 0.92, 0.68, 0.35, 0.6, 0.93, 0.11, 0.77, 0.27, 0.52, 0.91, 0.61, 0.86, 0.36, 0.7, 0.1, 0.08, 0.56, 0.81, 0.65, 0.4, 0.9, 0.49, 0.74, 0.83, 0.34, 0.29, 0.3, 0.31, 0.32, 0.33, 0.07, 0.06, 0.05, 0.04, 0.53, 0.78, 0.28, 0.62, 0.37, 0.12, 0.87, 0.71, 0.02, 0.01, 0.66}\n",
            "sex :  {0, 1}\n",
            "on_thyroxine :  {0, 1}\n",
            "query_on_thyroxine :  {0, 1}\n",
            "on_antithyroid_medication :  {0, 1}\n",
            "sick :  {0, 1}\n",
            "pregnant :  {0, 1}\n",
            "thyroid_surgery :  {0, 1}\n",
            "I131_treatment :  {0, 1}\n",
            "query_hypothyroid :  {0, 1}\n",
            "query_hyperthyroid :  {0, 1}\n",
            "lithium :  {0, 1}\n",
            "goitre :  {0, 1}\n",
            "tumor :  {0, 1}\n",
            "hypopituitary :  {0, 1}\n",
            "psych :  {0, 1}\n",
            "TSH :  {0.139, 0.0, 0.46799999999999997, 0.14300000000000002, 0.478, 0.00061, 0.53, 0.11699999999999999, 0.00044, 0.0061, 0.00027, 0.0041, 0.00088, 0.0001, 0.0007099999999999999, 0.009590000000000001, 0.109, 0.00054, 0.0082, 0.0062, 0.00037, 0.00098, 0.0022, 0.0264, 0.0002, 0.099, 0.00081, 2.9999999999999997e-05, 0.00064, 0.0063, 0.0184, 0.23, 0.0305, 0.0043, 0.10300000000000001, 0.00047000000000000004, 0.23600000000000002, 0.0023, 0.0144, 0.0003, 0.00091, 0.00979, 0.00013000000000000002, 0.00074, 0.0064, 0.00057, 0.0044, 0.08900000000000001, 0.0024, 0.0004, 0.00101, 0.009890000000000001, 0.00022999999999999998, 0.00084, 0.0085, 0.0065, 5.9999999999999995e-05, 0.0045, 0.00067, 0.0018899999999999998, 0.0025, 0.0005, 0.061, 0.065, 0.47200000000000003, 0.188, 0.44, 0.00033, 0.0009400000000000001, 0.17800000000000002, 0.0066, 0.00016, 0.0046, 0.0007700000000000001, 0.051, 0.055, 0.0026, 0.0006, 0.01209, 0.047, 0.00809, 0.043, 0.00043, 0.045, 0.040999999999999995, 0.0067, 0.00026000000000000003, 0.0008699999999999999, 0.086, 0.0027, 9e-05, 0.0007, 0.039, 0.0068, 0.031, 0.028999999999999998, 0.0048, 0.035, 0.16, 0.00419, 0.0009699999999999999, 0.0028, 0.00036, 0.00018999999999999998, 0.0008, 0.19899999999999998, 0.025, 0.027000000000000003, 0.023, 2e-05, 0.00063, 0.00829, 0.01029, 0.021, 0.0069, 0.019, 0.00045999999999999996, 0.0049, 0.0029, 0.017, 0.015, 0.00029, 0.0009, 0.013000000000000001, 0.00011999999999999999, 0.011000000000000001, 0.00073, 0.00839, 0.006999999999999999, 0.009000000000000001, 0.00056, 0.005, 0.003, 0.00039, 0.001, 0.165, 0.126, 0.4, 0.11599999999999999, 0.00022, 0.0008300000000000001, 5e-05, 0.0071, 0.00066, 0.0051, 0.0031, 0.00049, 0.0011, 0.10800000000000001, 0.00032, 0.00093, 0.00859, 0.0092, 0.0072, 0.00015, 0.0007599999999999999, 0.0052, 0.0032, 0.0012, 0.00042, 0.0073, 0.00025, 0.098, 0.1, 0.08199999999999999, 0.00469, 0.0020800000000000003, 0.00086, 0.0033, 0.0053, 0.014790000000000001, 8e-05, 0.0013, 0.0006900000000000001, 0.0114, 0.0005200000000000001, 0.008790000000000001, 0.0074, 0.00035, 0.0009599999999999999, 0.0054, 0.0034, 0.078, 0.00018, 0.00079, 0.0014, 0.08, 0.076, 0.033, 1e-05, 0.00062, 0.00889, 0.0095, 0.0075, 0.00045, 0.0055, 0.0035, 0.00028, 0.0008900000000000001, 0.0015, 0.07, 0.183, 0.057999999999999996, 0.00072, 0.06, 0.066, 0.0076, 0.00055, 0.0056, 0.0036, 0.00037999999999999997, 0.00099, 0.0016, 0.00021, 0.011090000000000001, 0.00082, 0.0097, 0.046, 0.052000000000000005, 4e-05, 0.0077, 0.00065, 0.00909, 0.054000000000000006, 0.0057, 0.05, 0.0037, 0.00047999999999999996, 0.0017, 0.042, 0.04, 0.044000000000000004, 0.038, 0.00031, 0.0009199999999999999, 0.0078, 0.00014, 0.00075, 0.032, 0.036000000000000004, 0.03, 0.027999999999999997, 0.151, 0.0038, 0.00058, 0.0058, 0.034, 0.0018, 0.00041, 0.0010199999999999999, 0.024, 0.026000000000000002, 0.009290000000000001, 0.00023999999999999998, 0.00085, 0.0079, 0.02, 0.0059, 0.022000000000000002, 0.0039, 7e-05, 0.016, 0.018000000000000002, 0.0019, 0.013999999999999999, 0.0006799999999999999, 0.145, 0.00573, 0.0005099999999999999, 0.012, 0.01, 0.00939, 0.00033999999999999997, 0.008, 0.00095, 0.006, 0.00016999999999999999, 0.004, 0.00078, 0.002}\n",
            "T3 :  {0.0469, 0.062, 0.067, 0.061, 0.0096, 0.06, 0.1059, 0.037000000000000005, 0.066, 0.07, 0.051, 0.0419, 0.053, 0.055, 0.057, 0.0208, 0.048, 0.05, 0.043, 0.040999999999999995, 0.045, 0.054000000000000006, 0.085, 0.049, 0.046, 0.039, 0.038, 0.04, 0.044000000000000004, 0.052000000000000005, 0.03, 0.028999999999999998, 0.032, 0.027999999999999997, 0.036000000000000004, 0.033, 0.031, 0.034, 0.0174, 0.035, 0.0144, 0.024, 0.026000000000000002, 0.023, 0.025, 0.027000000000000003, 0.02, 0.022000000000000002, 0.019, 0.015, 0.017, 0.016, 0.018000000000000002, 0.013999999999999999, 0.073, 0.076, 0.071, 0.013000000000000001, 0.012, 0.011000000000000001, 0.01, 0.008, 0.0206, 0.009000000000000001, 0.006999999999999999, 0.006, 0.005, 0.004, 0.003, 0.002, 0.001, 0.0005}\n",
            "TT4 :  {0.14300000000000002, 0.139, 0.121, 0.129, 0.256, 0.252, 0.133, 0.125, 0.11699999999999999, 0.135, 0.162, 0.037000000000000005, 0.25, 0.244, 0.289, 0.031, 0.14800000000000002, 0.273, 0.068, 0.193, 0.115, 0.113, 0.11900000000000001, 0.12300000000000001, 0.107, 0.109, 0.09699999999999999, 0.105, 0.111, 0.10099999999999999, 0.23199999999999998, 0.261, 0.17300000000000001, 0.099, 0.087, 0.095, 0.10300000000000001, 0.091, 0.23, 0.21, 0.22, 0.214, 0.204, 0.175, 0.212, 0.16899999999999998, 0.161, 0.075, 0.08900000000000001, 0.077, 0.073, 0.085, 0.083, 0.081, 0.079, 0.09300000000000001, 0.071, 0.198, 0.03, 0.155, 0.272, 0.067, 0.237, 0.10400000000000001, 0.063, 0.18, 0.061, 0.16399999999999998, 0.069, 0.301, 0.2, 0.192, 0.184, 0.196, 0.17800000000000002, 0.223, 0.19399999999999998, 0.0058, 0.059000000000000004, 0.051, 0.053, 0.055, 0.057, 0.43, 0.092, 0.217, 0.047, 0.040999999999999995, 0.045, 0.24600000000000002, 0.043, 0.174, 0.049, 0.166, 0.21899999999999997, 0.203, 0.039, 0.248, 0.16, 0.035, 0.205, 0.146, 0.168, 0.158, 0.156, 0.142, 0.15, 0.18600000000000003, 0.152, 0.17, 0.0048, 0.154, 0.028999999999999998, 0.19899999999999998, 0.191, 0.023, 0.027000000000000003, 0.025, 0.021, 0.14, 0.019, 0.0029, 0.015, 0.017, 0.222, 0.013000000000000001, 0.011000000000000001, 0.253, 0.003, 0.165, 0.12, 0.128, 0.124, 0.136, 0.122, 0.255, 0.13, 0.14400000000000002, 0.134, 0.11199999999999999, 0.16699999999999998, 0.034, 0.11599999999999999, 0.233, 0.027999999999999997, 0.11800000000000001, 0.102, 0.114, 0.11, 0.106, 0.065, 0.03375, 0.235, 0.17600000000000002, 0.08199999999999999, 0.18899999999999997, 0.096, 0.086, 0.098, 0.094, 0.09, 0.1, 0.10800000000000001, 0.207, 0.258, 0.127, 0.172, 0.036000000000000004, 0.209, 0.201, 0.076, 0.08, 0.078, 0.08800000000000001, 0.084, 0.09158999999999999, 0.033, 0.0095, 0.195, 0.24, 0.19699999999999998, 0.064, 0.18100000000000002, 0.11118, 0.07400000000000001, 0.066, 0.06, 0.07, 0.179, 0.187, 0.055999999999999994, 0.07200000000000001, 0.062, 0.138, 0.226, 0.263, 0.183, 0.057999999999999996, 0.37200000000000005, 0.132, 0.257, 0.177, 0.05, 0.052000000000000005, 0.054000000000000006, 0.048, 0.046, 0.20600000000000002, 0.126, 0.163, 0.044000000000000004, 0.038, 0.042, 0.04, 0.153, 0.157, 0.13699999999999998, 0.159, 0.149, 0.151, 0.147, 0.141, 0.032, 0.171, 0.239, 0.231, 0.024, 0.188, 0.022000000000000002, 0.225, 0.145, 0.013999999999999999, 0.016, 0.018000000000000002, 0.182, 0.012, 0.01, 0.21100000000000002, 0.131, 0.006, 0.004, 0.213, 0.002}\n",
            "T4U :  {0.133, 0.131, 0.125, 0.135, 0.14300000000000002, 0.121, 0.129, 0.139, 0.127, 0.23199999999999998, 0.156, 0.068, 0.193, 0.109, 0.10099999999999999, 0.11900000000000001, 0.12300000000000001, 0.09699999999999999, 0.115, 0.113, 0.107, 0.111, 0.055999999999999994, 0.099, 0.095, 0.091, 0.087, 0.10300000000000001, 0.19399999999999998, 0.21, 0.13, 0.16899999999999998, 0.036000000000000004, 0.075, 0.08900000000000001, 0.073, 0.085, 0.071, 0.09300000000000001, 0.079, 0.083, 0.081, 0.077, 0.061, 0.065, 0.069, 0.182, 0.067, 0.174, 0.184, 0.188, 0.063, 0.18, 0.057, 0.13699999999999998, 0.049, 0.047, 0.040999999999999995, 0.203, 0.166, 0.142, 0.168, 0.146, 0.17600000000000002, 0.15, 0.162, 0.031, 0.158, 0.152, 0.154, 0.066, 0.025, 0.019, 0.14, 0.134, 0.179, 0.171, 0.128, 0.11599999999999999, 0.12, 0.11199999999999999, 0.122, 0.126, 0.136, 0.124, 0.14800000000000002, 0.132, 0.153, 0.102, 0.11, 0.114, 0.147, 0.141, 0.10800000000000001, 0.096, 0.08199999999999999, 0.09, 0.10400000000000001, 0.092, 0.1, 0.086, 0.098, 0.094, 0.17, 0.161, 0.201, 0.076, 0.078, 0.08, 0.084, 0.08800000000000001, 0.14400000000000002, 0.19699999999999998, 0.07, 0.07400000000000001, 0.064, 0.062, 0.057999999999999996, 0.16699999999999998, 0.177, 0.07200000000000001, 0.175, 0.06, 0.138, 0.183, 0.052000000000000005, 0.05, 0.054000000000000006, 0.048, 0.046, 0.038, 0.027999999999999997, 0.157, 0.155, 0.149, 0.163, 0.17300000000000001, 0.151, 0.145, 0.159, 0.165}\n",
            "FTI :  {0.11699999999999999, 0.125, 0.09375, 0.242, 0.133, 0.109, 0.10099999999999999, 0.11692999999999999, 0.08567999999999999, 0.13103, 0.19399999999999998, 0.21, 0.218, 0.085, 0.09300000000000001, 0.077, 0.069, 0.061, 0.053, 0.11794, 0.08669, 0.037000000000000005, 0.162, 0.17800000000000002, 0.146, 0.154, 0.17, 0.0915, 0.028999999999999998, 0.14112, 0.18600000000000003, 0.021, 0.10987000000000001, 0.013000000000000001, 0.13, 0.11895, 0.122, 0.247, 0.0877, 0.138, 0.114, 0.106, 0.11087999999999999, 0.01347, 0.207, 0.223, 0.19899999999999998, 0.08199999999999999, 0.098, 0.09, 0.215, 0.0054, 0.07400000000000001, 0.191, 0.16699999999999998, 0.066, 0.057999999999999996, 0.175, 0.183, 0.05, 0.042, 0.159, 0.034, 0.151, 0.14314000000000002, 0.026000000000000002, 0.018000000000000002, 0.01, 0.002, 0.244, 0.135, 0.127, 0.14300000000000002, 0.1129, 0.08165, 0.1754, 0.111, 0.11900000000000001, 0.10482999999999999, 0.07357999999999999, 0.07792, 0.17640999999999998, 0.14515999999999998, 0.095, 0.10300000000000001, 0.087, 0.228, 0.204, 0.13608, 0.22, 0.071, 0.079, 0.08266, 0.11391, 0.0085, 0.172, 0.16399999999999998, 0.188, 0.18, 0.196, 0.063, 0.055, 0.10584, 0.10089, 0.047, 0.21899999999999997, 0.039, 0.156, 0.12787, 0.13709000000000002, 0.0028, 0.015, 0.006999999999999999, 0.14800000000000002, 0.249, 0.1381, 0.10685, 0.14, 0.265, 0.124, 0.132, 0.11599999999999999, 0.281, 0.07492, 0.13003, 0.092, 0.10800000000000001, 0.217, 0.1, 0.209, 0.17035999999999998, 0.076, 0.084, 0.07661, 0.045360000000000004, 0.16899999999999998, 0.06792999999999999, 0.185, 0.201, 0.06, 0.177, 0.068, 0.052000000000000005, 0.06854, 0.09979, 0.00909, 0.161, 0.027999999999999997, 0.153, 0.13699999999999998, 0.145, 0.036000000000000004, 0.14012, 0.029830000000000002, 0.04637, 0.02, 0.07762000000000001, 0.004, 0.121, 0.129, 0.1008, 0.06955, 0.395, 0.105, 0.09699999999999999, 0.113, 0.07192, 0.0909, 0.222, 0.214, 0.08900000000000001, 0.081, 0.073, 0.10181, 0.198, 0.182, 0.065, 0.174, 0.20600000000000002, 0.19, 0.057, 0.049, 0.06493, 0.040999999999999995, 0.00914, 0.166, 0.15, 0.142, 0.158, 0.033, 0.13407, 0.14817, 0.16532, 0.10282000000000001, 0.017, 0.00839, 0.009000000000000001, 0.134, 0.09475, 0.126, 0.28300000000000003, 0.0635, 0.03225, 0.251, 0.22699999999999998, 0.29100000000000004, 0.235, 0.102, 0.10382999999999999, 0.11, 0.11800000000000001, 0.07692, 0.094, 0.086, 0.078, 0.06451, 0.062, 0.312, 0.187, 0.203, 0.195, 0.445, 0.07, 0.179, 0.054000000000000006, 0.046, 0.155, 0.147, 0.163, 0.171, 0.013999999999999999, 0.09677000000000001, 0.131, 0.23199999999999998, 0.349, 0.0887, 0.139, 0.05745, 0.11995, 0.28, 0.22399999999999998, 0.12300000000000001, 0.115, 0.107, 0.07392, 0.09777999999999999, 0.03528, 0.18345999999999998, 0.091, 0.099, 0.083, 0.075, 0.08971, 0.21600000000000003, 0.067, 0.184, 0.2, 0.06692999999999999, 0.051, 0.059000000000000004, 0.09879, 0.043, 0.00558, 0.10489000000000001, 0.035, 0.152, 0.16, 0.17600000000000002, 0.168, 0.027000000000000003, 0.03249, 0.019, 0.011000000000000001, 0.003, 0.136, 0.11199999999999999, 0.237, 0.128, 0.253, 0.11207, 0.12, 0.612, 0.14400000000000002, 0.245, 0.12297999999999999, 0.07458, 0.11688, 0.09172999999999999, 0.18899999999999997, 0.10400000000000001, 0.205, 0.221, 0.096, 0.19699999999999998, 0.14615999999999998, 0.11490999999999998, 0.213, 0.08, 0.08800000000000001, 0.08366, 0.00889, 0.055999999999999994, 0.07200000000000001, 0.36200000000000004, 0.27399999999999997, 0.064, 0.0076, 0.061489999999999996, 0.048, 0.09274, 0.10189, 0.04, 0.17300000000000001, 0.165, 0.141, 0.18100000000000002, 0.032, 0.149, 0.157, 0.02217, 0.024, 0.08467000000000001, 0.11592000000000001, 0.016}\n",
            "Target :  {1, 2, 3}\n"
          ]
        }
      ]
    },
    {
      "cell_type": "code",
      "metadata": {
        "execution": {
          "iopub.execute_input": "2021-03-26T17:20:08.706945Z",
          "iopub.status.busy": "2021-03-26T17:20:08.706295Z",
          "iopub.status.idle": "2021-03-26T17:20:09.183282Z",
          "shell.execute_reply": "2021-03-26T17:20:09.182614Z"
        },
        "papermill": {
          "duration": 0.548771,
          "end_time": "2021-03-26T17:20:09.183393",
          "exception": false,
          "start_time": "2021-03-26T17:20:08.634622",
          "status": "completed"
        },
        "tags": [],
        "colab": {
          "base_uri": "https://localhost:8080/",
          "height": 487
        },
        "id": "jaub40nNZUD6",
        "outputId": "07576183-4586-4dec-f17f-e6e417b69ed8"
      },
      "source": [
        "ann = pd.concat([ann_train,ann_test], ignore_index = True)\n",
        "ann['sex'] = ann['sex'].map({0:'F',1:'M'})\n",
        "ann['Target'] = ann['Target'].map({3:'negative',2:'hypothyroid',1:'hyperthyroid'})\n",
        "\n",
        "continuos_attributes = ['age','TSH','T3','TT4','T4U','FTI']\n",
        "for attribute in continuos_attributes:\n",
        "    ann[attribute] = ann[attribute] * 100\n",
        "\n",
        "def fillNewAttributes(row,attribute):\n",
        "    if row[attribute] > 0:\n",
        "        return 'y'\n",
        "    else:\n",
        "        return 'n'\n",
        "\n",
        "ann['TSH_measured'] = ann.apply(lambda row: fillNewAttributes(row,'TSH'), axis=1)\n",
        "ann['T3_measured'] = ann.apply(lambda row: fillNewAttributes(row,'T3'), axis=1)\n",
        "ann['TT4_measured'] = ann.apply(lambda row: fillNewAttributes(row,'TT4'), axis=1)\n",
        "ann['T4U_measured'] = ann.apply(lambda row: fillNewAttributes(row,'T4U'), axis=1)\n",
        "ann['FTI_measured'] = ann.apply(lambda row: fillNewAttributes(row,'FTI'), axis=1)\n",
        "display(ann.dtypes)"
      ],
      "execution_count": 21,
      "outputs": [
        {
          "output_type": "display_data",
          "data": {
            "text/plain": [
              "age                          float64\n",
              "sex                           object\n",
              "on_thyroxine                   int64\n",
              "query_on_thyroxine             int64\n",
              "on_antithyroid_medication      int64\n",
              "sick                           int64\n",
              "pregnant                       int64\n",
              "thyroid_surgery                int64\n",
              "I131_treatment                 int64\n",
              "query_hypothyroid              int64\n",
              "query_hyperthyroid             int64\n",
              "lithium                        int64\n",
              "goitre                         int64\n",
              "tumor                          int64\n",
              "hypopituitary                  int64\n",
              "psych                          int64\n",
              "TSH                          float64\n",
              "T3                           float64\n",
              "TT4                          float64\n",
              "T4U                          float64\n",
              "FTI                          float64\n",
              "Target                        object\n",
              "TSH_measured                  object\n",
              "T3_measured                   object\n",
              "TT4_measured                  object\n",
              "T4U_measured                  object\n",
              "FTI_measured                  object\n",
              "dtype: object"
            ]
          },
          "metadata": {}
        }
      ]
    },
    {
      "cell_type": "markdown",
      "metadata": {
        "papermill": {
          "duration": 0.059787,
          "end_time": "2021-03-26T17:20:09.302047",
          "exception": false,
          "start_time": "2021-03-26T17:20:09.242260",
          "status": "completed"
        },
        "tags": [],
        "id": "MjD04QRiZUD7"
      },
      "source": [
        "### Now I can merge all the datasets in one:"
      ]
    },
    {
      "cell_type": "code",
      "metadata": {
        "execution": {
          "iopub.execute_input": "2021-03-26T17:20:09.426057Z",
          "iopub.status.busy": "2021-03-26T17:20:09.424775Z",
          "iopub.status.idle": "2021-03-26T17:20:09.468528Z",
          "shell.execute_reply": "2021-03-26T17:20:09.468005Z"
        },
        "papermill": {
          "duration": 0.107892,
          "end_time": "2021-03-26T17:20:09.468644",
          "exception": false,
          "start_time": "2021-03-26T17:20:09.360752",
          "status": "completed"
        },
        "tags": [],
        "colab": {
          "base_uri": "https://localhost:8080/",
          "height": 554
        },
        "id": "tpdEUAjfZUD8",
        "outputId": "a69a9517-eaed-429b-fcb5-d5d575e8ebaf"
      },
      "source": [
        "data = pd.concat([allDataset,thyroid0387,hypothyroid,sick_euthyroid,ann], ignore_index = True)\n",
        "display(data.shape)\n",
        "display(data.dtypes)"
      ],
      "execution_count": 22,
      "outputs": [
        {
          "output_type": "display_data",
          "data": {
            "text/plain": [
              "(19786, 30)"
            ]
          },
          "metadata": {}
        },
        {
          "output_type": "display_data",
          "data": {
            "text/plain": [
              "age                          object\n",
              "sex                          object\n",
              "on_thyroxine                 object\n",
              "query_on_thyroxine           object\n",
              "on_antithyroid_medication    object\n",
              "sick                         object\n",
              "pregnant                     object\n",
              "thyroid_surgery              object\n",
              "I131_treatment               object\n",
              "query_hypothyroid            object\n",
              "query_hyperthyroid           object\n",
              "lithium                      object\n",
              "goitre                       object\n",
              "tumor                        object\n",
              "hypopituitary                object\n",
              "psych                        object\n",
              "TSH_measured                 object\n",
              "TSH                          object\n",
              "T3_measured                  object\n",
              "T3                           object\n",
              "TT4_measured                 object\n",
              "TT4                          object\n",
              "T4U_measured                 object\n",
              "T4U                          object\n",
              "FTI_measured                 object\n",
              "FTI                          object\n",
              "TBG_measured                 object\n",
              "TBG                          object\n",
              "referral_source              object\n",
              "Target                       object\n",
              "dtype: object"
            ]
          },
          "metadata": {}
        }
      ]
    },
    {
      "cell_type": "markdown",
      "metadata": {
        "papermill": {
          "duration": 0.059871,
          "end_time": "2021-03-26T17:20:09.591408",
          "exception": false,
          "start_time": "2021-03-26T17:20:09.531537",
          "status": "completed"
        },
        "tags": [],
        "id": "a1HD9ynTZUD9"
      },
      "source": [
        "# Part 2: Data pre processing\n",
        "### I will start the data pre processing observing the set of possible values for each attribute:"
      ]
    },
    {
      "cell_type": "code",
      "metadata": {
        "execution": {
          "iopub.execute_input": "2021-03-26T17:20:09.737527Z",
          "iopub.status.busy": "2021-03-26T17:20:09.719363Z",
          "iopub.status.idle": "2021-03-26T17:20:09.811002Z",
          "shell.execute_reply": "2021-03-26T17:20:09.811781Z"
        },
        "papermill": {
          "duration": 0.160881,
          "end_time": "2021-03-26T17:20:09.811967",
          "exception": false,
          "start_time": "2021-03-26T17:20:09.651086",
          "status": "completed"
        },
        "tags": [],
        "colab": {
          "base_uri": "https://localhost:8080/"
        },
        "id": "P4vqhAHXZUD9",
        "outputId": "973d7399-8938-492e-91f7-12d7459f27c5"
      },
      "source": [
        "for column in data.columns:\n",
        "    listOfValues=set(data[column])\n",
        "    print(column,\": \",listOfValues)"
      ],
      "execution_count": 23,
      "outputs": [
        {
          "output_type": "stream",
          "name": "stdout",
          "text": [
            "age :  {1, 2, 3, '23', 5, 6, 7, 8, 9, 10, 11, 12, 13, 14, 15, 16, 17, 18, 19, '36', 21, 20, 23, 24, 25, 26, 27, 28, 29, 30, 31, 32, 33, 34, 35, 36, 37, 38, 39, 40, 41, 42, 43, 44, 45, 46, 47, 48, 49, 50, '60', 51, 53, 54, 55, 56, 52, 58, 59, 60, 61, 62, 63, 64, 65, 66, 67, 68, 69, 70, 71, 72, 73, 74, 75, 76, '87', 77, 79, 80, '51', 78, 83, '75', '18', 85, 82, 88, 86, 90, 84, 92, 89, 87, 93, 91, 97, 94, 95, '78', 7.000000000000001, '14', 4, '2', 22, '50', '84', '27', '30', '43', '68', '33', '45', '71', '53', '9', '69', '12', '7', '85', '5', '54', '73', '72', '82', '55', '61', '13', '17', 14.000000000000002, '49', '21', '19', '32', '35', '47', '8', '83', '10', '39', '81', '98', 51.5, '80', 52.190000000000005, '64', 55.00000000000001, '63', '46', '42', '11', 56.99999999999999, 56.00000000000001, '59', 57, 57.99999999999999, '6', '15', '34', '25', '48', '62', '20', '90', '77', '28', '44', '26', '31', '57', '22', '76', 28.000000000000004, '40', 28.999999999999996, '65', '79', 81, '1', '56', '4', '58', '74', '86', '24', '37', '88', '16', 455, '92', '38', '?', '67', '41', 65511, 65512, '66', '97', '70', '52', 65526, '29'}\n",
            "sex :  {0.0, 1.0, nan, nan, nan, nan, nan, nan, nan, nan, nan, nan, nan, nan, nan, nan, nan, nan, nan, nan, nan, nan, nan, nan, nan, nan, 'F', nan, nan, nan, nan, nan, nan, nan, nan, nan, nan, nan, nan, nan, nan, nan, nan, nan, nan, nan, nan, nan, nan, nan, nan, nan, nan, nan, nan, nan, nan, nan, nan, nan, nan, nan, nan, nan, nan, nan, nan, nan, nan, nan, nan, nan, nan, nan, nan, nan, nan, nan, nan, nan, nan, nan, nan, nan, nan, nan, nan, '?', nan, nan, nan, nan, nan, nan, nan, nan, nan, nan, nan, nan, nan, nan, nan, nan, nan, nan, nan, nan, nan, nan, nan, nan, nan, nan, nan, nan, nan, nan, nan, nan, nan, nan, nan, nan, nan, nan, nan, nan, nan, nan, nan, nan, nan, nan, nan, nan, nan, nan, nan, nan, nan, nan, nan, nan, nan, nan, nan, nan, nan, nan, nan, nan, nan, nan, nan, nan, nan, nan, nan, nan, nan, nan, nan, nan, nan, nan, nan, nan, nan, nan, nan, nan, nan, nan, nan, nan, nan, nan, nan, nan, nan, nan, nan, nan, nan, nan, nan, nan, nan, nan, nan, nan, nan, nan, nan, nan, nan, nan, nan, nan, nan, nan, nan, nan, nan, nan, nan, nan, nan, nan, nan, nan, nan, nan, nan, nan, nan, nan, nan, nan, nan, nan, nan, nan, nan, nan, nan, nan, nan, nan, nan, nan, nan, nan, nan, nan, nan, nan, nan, nan, nan, nan, nan, nan, nan, nan, nan, nan, nan, nan, nan, nan, nan, nan, nan, nan, nan, nan, nan, nan, nan, nan, nan, nan, nan, nan, nan, nan, nan, nan, nan, nan, nan, nan, nan, nan, nan, nan, nan, nan, nan, nan, nan, nan, nan, nan, nan, nan, nan, nan, nan, nan, nan, nan, nan, nan, nan, nan, nan, nan, nan, 'M', nan, nan, nan, nan, nan, nan, nan, nan, nan, nan}\n",
            "on_thyroxine :  {0, 1, 'f', 't'}\n",
            "query_on_thyroxine :  {0, 1, 'f', 't'}\n",
            "on_antithyroid_medication :  {0, 1, 'f', 't'}\n",
            "sick :  {0, 1, 'f', 't'}\n",
            "pregnant :  {0, 1, 'f', 't'}\n",
            "thyroid_surgery :  {0, 1, 'f', 't'}\n",
            "I131_treatment :  {nan, 1, 0, 'f', 't'}\n",
            "query_hypothyroid :  {0, 1, 'f', 't'}\n",
            "query_hyperthyroid :  {0, 1, 'f', 't'}\n",
            "lithium :  {0, 1, 'f', 't'}\n",
            "goitre :  {0, 1, 'f', 't'}\n",
            "tumor :  {0, 1, 'f', 't'}\n",
            "hypopituitary :  {nan, 0, 1, 'f', 't'}\n",
            "psych :  {nan, 0, 1, 'f', 't'}\n",
            "TSH_measured :  {'y', 'f', 't', 'n'}\n",
            "TSH :  {0.79, '7.3', 2.5, 3.2, '23', 0.25, 6.1, 4.7, 7.000000000000001, 1.479, 2.7, '0.50', '6.50', '6.20', 1.0, 2.0, '0.93', 9.8, 10.0, 3.0, 12.6, 16.0, 4.0, '0.03', 15.1, 4.5, '178', 18.3, 5.5, 23.0, 23.6, '8.10', 6.5, '0.23', 0.75, 1.5, 0.5, '0.19', 0.0, '252', 6.0, 40.0, '9.70', 8.0, 44.0, '0.43', 46.8, 47.2, '9.80', 47.8, '138', '4.10', 43.6, 53.0, 49.4, 46.0, 50.0, '6.80', 0.093, 0.08499999999999999, 0.101, '1.1', '2.20', '51', '0.40', 16.5, '18', 17.0, '0.9', '8.8', '11.1', '0.3', '0.73', '2', '10.299999', '0.085', '5.8', '7.40', '7.1', '27', '3.1', '68', '0.60', 0.16999999999999998, 0.07700000000000001, '3.2', 0.069, 0.061, 5.0, '430', '4.60', '53', '9.5', '2.3', '2.4', '0.31', 0.045, '54', '0.98', '4.40', '82', '3.8', 0.037, '176', '11.099999', '14.40', '235', 0.029, '125', '0.15', 8.5, 0.9890000000000001, '21', '9.8', '0.4', 0.021, '0.54', 0.41900000000000004, '0.65', '400', '5.1', 0.013000000000000001, 3.3000000000000003, 0.005, '1.8', '0.005', '0.29', '8.299999', '11.60', 0.13, 0.63, 0.59, 0.67, 0.38, 0.33999999999999997, 0.5499999999999999, 0.7100000000000001, 0.11399999999999999, '1.60', '2.60', '440', '170', '63', '14.90', 0.77, '0.97', 0.52, '0.52', '1.03', '15', 0.44999999999999996, 0.95, '9.50', '0.91', '8.799999', '0.7', '0.47', 0.09, 0.098, '20', '0.96', 14.099999999999998, '0.94', '77', '3.50', '8.40', '0.10', '4.80', '19.199999', '26', 0.074, 0.082, '0.55', '9.099999', '1.3', '0.22', 0.3, 0.066, '0.125', '143', '7.60', '40', 0.058, '0.46', '65', 4.6, 4.1, 5.1, 5.6, '0.58', '6.7', '0.1', 0.05, '0.05', 7.6, '11.9', '56', '16.50', '151', 8.6, '0.78', '1.6', '0.79', '0.70', '2.80', 0.042, 0.033999999999999996, 9.6, 10.6, '86', 11.6, '1.50', 3.6000000000000005, 0.026000000000000002, '?', '6.5', '16.5', '3.20', 6.6000000000000005, 0.018000000000000002, 0.573, '0.24', '4.50', 0.01, '7.30', 0.002, 0.26, 0.76, 0.6799999999999999, 0.97, '260', 1.3, 0.8, 0.51, 0.72, 0.9390000000000001, 1.0290000000000001, '8.599999', '9.10', '36', '30.5', '3.10', '9.6', '165', '0.055', '4.90', '0.35', '60', '2.90', '0.14', '7.80', '5.3', 0.22, 0.54, 0.095, 0.087, 0.10300000000000001, '0.83', 13.100000000000001, 13.600000000000001, 16.6, 17.6, '6.4', '4.8', '11.599999', '7.9', 0.071, 0.079, 19.1, 1.4, 1.9, 1.15, '0.13', 3.9, 6.2, 0.9290000000000002, 19.2, '0.025', '33', 0.38999999999999996, 0.43, 0.18, 0.063, '13.299999', '1.9', '9', 0.055, '393', '0.82', '9.40', '7', '0.64', '0.72', '109', '73', '0.12', '9.799999', '0.56', '0.77', 0.039, 0.04700000000000001, '2.8', '199', '4.1', 0.13999999999999999, 0.031, '17', '139', '49', '1.12', '11.40', 0.023, '1.20', '0.75', '35', 0.015, '47', '8', '16.799999', '1.02', 0.006999999999999999, '8.6', '10', '39', '0.71', '98', 0.64, 0.6, '80', '0.035', '96', 0.5599999999999999, 0.8290000000000001, '4.7', '198', '10.30', '42', '46', '236', '6.6', '1.90', '0.02', '6', 1.209, '10.3', '2.50', 8.2, '0.66', 0.889, '34', '13.2', '8.2', '0.16', '6.30', '0.105', 11.7, '0.57', 0.1, 0.092, 1.7000000000000002, '8.099999', '140', 2.2, '0.255', '0.045', '3.30', 4.2, 17.2, 17.7, 5.2, 6.7, '0.44', '3.7', '6.10', 0.084, '9.9', '6.40', 0.06799999999999999, 0.076, 19.7, '8.7', '7.6', 1.6789999999999998, '8.60', 0.74, '5.5', 25.2, 0.06, '9.60', 0.31, 0.35000000000000003, 0.9199999999999999, '478', '7.70', '116', '3.60', '472', '4.9', '166', 0.052000000000000005, '2.1', '5.2', '4.4', '6.60', 0.044000000000000004, '19.20', '1.4', '18.4', '118', 0.027999999999999997, 0.036000000000000004, '0.42', '0.34', '5.73', '8.5', 0.02, '0.88', '0.92', '8.50', 0.011999999999999999, '41', '0.065', '8.80', 0.004, '29', 0.22999999999999998, 1.1, 0.9590000000000001, 0.48, 3.1, 2.4, 1.6, 2.6, 1.8000000000000003, 0.27, 2.1, 2.9, '7.90', '0.06', '10.7', '0.08', 0.09699999999999999, '126', 3.5000000000000004, '9.3', '0.95', '3.40', 0.08099999999999999, '5.4', 0.909, '288', '436', 0.073, 0.08900000000000001, '8.1', '0.99', '0.20', '8.20', 0.839, '14', '3.4', '11.4', '50', '30', '8.90', '0', '1.80', 0.11199999999999999, 0.19, 0.44, 0.065, 0.056999999999999995, '45', '114', '5.9', '2.40', '0.80', '188', '3', 0.049, '5', 0.69, '2.2', '0.37', '14.4', '2.6', '131', 1.44, '7.8', '0.33', '55', 0.041, '8.3', 0.8699999999999999, '13.30', '61', '26.4', 0.15, '13', 0.033, 39.3, '0.48', 2.3, 2.8, '6.70', 0.025, 3.05, 3.8, '0.85', '117', '15.3', 4.3, 4.8, 0.016999999999999998, '19', '32', 5.8, 5.3, '15.30', '145', 7.8, 7.3, '0.04', '4.6', 0.009000000000000001, '0.25', 0.001, 0.4, 0.36, 0.61, 0.8790000000000001, 0.469, 0.65, 0.7799999999999999, 0.10199999999999998, '0.2', '150', '7.50', '3.3', '8.9', '468', '177', '460', '0.69', '59', '17.40', 0.11, 6.800000000000001, '0.11', '0.095', '1.10', '8.4', '0.09', '2.9', '100', '141', '7.7', 10.8, 10.3, '48', 11.8, '0.30', 0.086, '62', 14.3, '0.86', 17.8, '28', '5.50', '3.9', 18.8, '44', 0.06999999999999999, 0.09400000000000001, '89', 0.078, 19.8, '0.76', '0.59', '4.3', '31', '3.6', '183', '213', '57', '2.70', '22', '76', '8.30', 0.27999999999999997, 0.32, 0.859, 0.062, 1.109, '0.89', '3.70', '9.20', 0.054, '1.04', '0.87', '160', '13.7', 0.046, 0.8500000000000001, '13.20', '136', '58', 0.038, 0.53, '74', '4.70', '0.67', '106', '6.3', '88', '0.5', '37', 0.03, '0.27', '11.5', 0.45999999999999996, '200', '38', 0.022000000000000002, '67', '0.135', '0.26', 0.013999999999999999, '1.83', '70', '0.115', 0.005999999999999999, '0.90', '2.10', 0.24, '0.74', 0.8200000000000001, '9.2', 0.49, 0.7, 0.8089999999999999, 1.2, 0.9000000000000001, 1.1900000000000002, '4', '7.5', '4.2', '17.4', '0.53', '9.1', '9.7', '0.51', '12', 0.099, 0.091, '103', 0.232, '92', '0.68', '191', '1.7', 16.4, 0.075, 19.9, '78', '6.1', '4.5', '5.80', '216', '0.21', '3.5', '2.30', '0.38', '43', 0.20800000000000002, '5.20', '14.30', 0.2, 0.08300000000000002, 0.05099999999999999, '71', '1.05', 0.067, '0.81', '2.7', '0.62', '6.2', '0.015', 3.4000000000000004, '1.70', '197', 4.4, 4.9, 5.4, 5.9, '9.90', '85', 0.043, '5.90', 8.9, '172', '0.45', 9.9, 0.034999999999999996, 10.9, 11.4, '500', 0.16, '0.63', 1.37, '7.10', 0.027, '6.9', '0.84', '0.49', 0.019, '6.8', '0.39', 0.73, 7.400000000000001, '99', 0.011000000000000001, '5.10', '3.80', '14.8', '9.4', '1.01', 0.0029999999999999996, '230', '0.61', '0.17', 0.37, 0.979, '0.28', 0.12, 0.62, '153', 1.8399999999999999, 0.41000000000000003, '192', 0.66, '1.5', '0.18', '3.90', '4.30', '11', '8.70', 0.09599999999999999, '164', '7.4', '25', '4.01', 0.18899999999999997, '0.32', 13.900000000000002, 0.10400000000000001, '1.2', '90', '530', '5.6', 0.08, 0.08800000000000001, '4.20', '0.6', '12.099999', '10.70', 3.7000000000000006, '0.075', '0.01', 0.58, '2.5', '14.799999', '0.36', '1.40', 0.29, 0.33, 0.064, 0.07200000000000001, 0.055999999999999994, '0.41', 0.047999999999999994, '14.299999', '108', '494', '15.299999', '1', '5.60', '7.2', '9.599999', '1.14', 0.04, '5.7', '24', 0.032, '1.30', '6.90', '16', 14.499999999999998, '0.07', 0.023999999999999997, '9.299999', 0.016, 1.1400000000000001, '66', 2.64, 0.008, '52', 0.5700000000000001, '0.8'}\n",
            "T3_measured :  {'y', 'f', 't', 'n'}\n",
            "T3 :  {'2.10', '7.3', 1.5, 3.0, 2.4, 1.7000000000000002, 2.6, 1.6, 2.3, 2.0, 2.9, '4', '0.50', '6.20', 2.5, '8.599999', '0.93', 8.5, 10.59, 18.0, 13.29, 4.0, 4.5, 0.9299999999999999, '4.2', 5.0, 5.5, '3.10', '8.10', 1.0, 0.5, 6.0, 6.5, '4.90', 9.5, '9.80', 3.5000000000000004, '4.10', '2.90', 5.9, '5.3', '3.40', '1.1', '0.83', '2.20', '1.7', '5.4', '0.40', '18', '4.8', '6.4', '0.9', '10.6', '0.3', '0.20', 7.000000000000001, '6.1', 1.4, 1.9, '3.4', '4.5', '2', 3.9, 0.9000000000000001, '3.5', '7.1', '2.30', '8.90', '3.1', '0', '1.80', '0.60', 0.2, '5.20', '3.2', '13.299999', '5.9', '4.60', '10.20', 2.08, '1.9', '2.7', 2.01, '6.2', 3.4000000000000004, '9.5', '1.70', '2.3', '2.40', '2.4', '0.80', 4.6899999999999995, 5.4, 4.9, '3', 4.4, '7', 6.9, '5', 6.4, '4.40', '2.2', 0.69, 1.44, '2.6', '3.8', '2.8', '4.1', '6.9', 2.8, '6.70', 3.8, 0.8, '1.20', 4.8, 1.3, 4.3, '0.4', '6.8', 4.19, 5.3, '8', 7.3, 1.8000000000000003, '5.1', '4.6', '5.10', '3.80', 3.3000000000000003, '1.8', 0.6, 0.4, 0.83, '1.60', '4.7', '0.2', '1.5', '2.60', '3.3', '8.9', '3.90', '4.30', '6.6', '0.69', '1.90', 6.800000000000001, '6', '1.10', '2.50', '2.9', 0.7, 1.2, '0.7', '0.30', 0.1, '1.2', '5.30', '8.099999', '3.50', 2.2, 2.7, '4.80', 3.2, '3.30', '5.50', '3.9', '5.6', 5.7, 5.2, 6.2, '6.10', '3.7', '1.44', '4.20', 6.7, 1.7399999999999998, '0.6', '7.6', 2.06, '4.3', '3.6', '8.60', 3.7000000000000006, '5.5', '1.3', '2.70', '10.599999', '2.5', '1.40', 0.3, '7.60', '3.70', '3.60', 4.1, 4.6, '4.9', 5.1, 5.6, '1', '5.60', '6.7', '0.1', 6.1, '2.1', '0.05', '5.2', '4.4', 1.1, 0.05, 7.6, 7.1, '1.6', '0.70', '2.80', '6.60', 3.1, '1.4', '5.7', '4.70', '0.5', 0.96, '1.30', '1.50', 3.6000000000000005, '8.5', '?', '6.5', '3.20', 6.6000000000000005, '4.50', '7.30', '0.8', '0.90'}\n",
            "TT4_measured :  {'y', 'f', 't', 'n'}\n",
            "TT4 :  {0.5, 1.0, 2.8, 3.2, '23', 5.0, 6.3, 7.7, 8.6, 8.7, 10.2, 7.3, 12.0, 13.900000000000002, 14.3, 12.8, 12.4, 9.8, 9.4, 11.3, 11.4, 13.600000000000001, 20.7, 16.8, 18.0, 18.9, '178', 25.5, 25.6, 25.2, 30.099999999999998, '8.10', 6.0, 25.8, 6.5, 5.5, 7.5, 1.5, 37.2, '252', 39.5, 8.5, '9.70', 8.0, 43.0, 38.6, 9.0, 9.5, 41.0, '138', '4.10', 10.0, 10.5, 11.0, 11.5, 2.5, 2.0, 60.0, 12.5, '206', 13.0, 13.5, 15.0, 15.5, '51', 16.0, 3.0, 16.5, 3.375, '18', 17.0, 17.5, 18.5, '292', 19.5, 19.0, 7.000000000000001, 20.0, 20.5, '210', '228', 21.0, '2', 4.5, '133', 22.0, '5.8', 22.5, 4.0, 23.0, 23.5, '27', 24.0, 24.5, '68', '410', 25.0, '107', '430', '53', '9.5', '2.3', 0.25, '54', '72', '82', '157', '174', '426', '176', '235', 14.000000000000002, '125', '21', '372', 0.41900000000000004, '225', 1.8000000000000003, '283', '83', '128', '81', '254', '63', '170', '272', '91', '15', '296', '155', '20', 14.099999999999998, '77', '185', '101', 0.3, '143', '7.60', '105', '40', 28.000000000000004, '121', '65', 4.6, 4.1, '79', 5.6, 5.1, '102', 6.1, 7.6, 7.1, '56', '151', 8.1, '104', '237', 9.1, 9.6, 10.6, 10.1, '86', 11.118, 11.6, 11.1, 12.1, 12.6, '386', '246', 14.6, 15.6, 15.1, 3.6000000000000005, '?', 6.6000000000000005, '123', '7.30', 1.3, '260', '134', '168', '163', '173', '36', '129', '169', '165', '4.06', '144', 9.158999999999999, '60', '2.90', '158', '5.3', '111', 13.100000000000001, '226', 16.1, 16.6, 17.1, '4.8', 17.6, 18.6, 18.1, 19.6, 19.1, '600', 20.6, 20.1, 1.9, 21.1, 21.6, 22.6, 22.1, 23.1, 23.6, 24.6, '209', '175', '33', '218', 26.1, '245', '9', '69', '109', '73', '94', '207', '199', '4.1', 13.699999999999998, '17', '139', '181', '49', '161', '35', '47', '8.6', '256', '10', '39', '98', 0.6, 0.406, '80', '96', '198', '115', '215', '46', '42', '236', '6.6', '6', 8.2, 9.7, 9.2, '34', 10.7, 11.2, 11.7, 12.2, 12.7, '238', 1.7000000000000002, 14.2, 14.7, '140', 15.7, 15.2, '273', 2.2, 2.7, 16.7, 16.2, 4.7, 17.2, 4.2, 17.7, 5.2, 18.7, 5.7, 18.2, 6.2, 19.7, 19.2, 6.7, 20.2, '7.6', 21.7, 21.2, 22.2, '8.60', 23.2, 23.7, 25.7, '214', '146', '187', '116', '202', 29.2, '159', '166', '211', 7.200000000000001, '269', '6.60', '118', '258', 13.200000000000001, '95', '275', '41', '29', 0.48, 1.4, 2.9, 3.9, 3.3000000000000003, '232', 3.7000000000000006, 3.5000000000000004, 2.1, 3.1, 1.6, 2.4, 3.121, '184', '194', '126', '154', '189', '395', '253', '87', '122', '203', '201', 0.839, '8.1', '14', '50', '84', '30', '114', '45', 27.200000000000003, '186', '195', '188', '3', '5', '131', '152', '55', '219', '61', '13', '156', 2.3, 15.299999999999999, 3.8, '117', 4.8, 4.3, '19', '32', 5.3, 5.8, '162', '145', 7.8, '208', 0.4, '150', '239', '7.50', '177', '120', '59', 6.800000000000001, '8.4', 8.3, 8.8, '141', '2.9', '100', 9.3, 9.663, 10.8, 10.3, '135', '48', 11.8, 12.3, '62', 13.3, 13.8, '5.30', '289', 15.8, 16.3, 17.3, '28', 17.8, '3.9', 18.3, 18.8, '44', 19.8, 19.3, '89', 20.3, 20.8, 21.3, '31', 22.3, '183', '242', '57', '213', 23.3, 23.8, 22.8, 24.8, '22', '76', 25.3, 26.3, 27.3, '132', '241', '160', '257', 1.1, '333', '136', '58', '74', '106', '205', '37', '88', 14.800000000000002, '200', '38', '278', '247', '67', '97', '70', '223', '263', '234', 0.95, 1.2, '224', '4', '7.5', '4.2', '248', '9.7', '180', '12', '220', '103', '92', 14.899999999999999, '191', '75', 16.4, '359', 16.9, '112', '250', 17.9, 17.4, 18.4, '268', 19.9, 19.4, '78', 20.9, 20.4, '301', 21.4, '119', '450', 21.9, 22.4, '216', '217', '2.30', 23.9, '43', 23.4, 24.4, 24.9, 0.2, '71', 27.800000000000004, 28.9, '190', 3.4000000000000004, 4.4, '197', 4.9, 5.9, 5.4, '130', '85', 6.9, 6.4, 7.9, '261', 8.9, 8.4, '172', 9.9, 10.4, 10.9, '142', '196', 11.9, 11.329000000000002, 12.9, '148', 13.4, 15.9, 15.4, '110', '193', 7.400000000000001, '99', '149', '147', '230', '113', 0.58, '267', '153', '192', '167', '64', '127', '308', '3.90', '11', '179', '171', '164', '93', '25', '231', 14.400000000000002, '90', '240', '244', '280', '204', '302', '2.5', 0.29, '287', '124', '108', '137', '396', '222', '255', '212', '24', '182', '16', '221', 14.499999999999998, '249', '66', '52', '282', '233'}\n",
            "T4U_measured :  {'y', 'f', 't', 'n'}\n",
            "T4U :  {1.7000000000000002, 2.8, 3.6000000000000005, 4.9, 5.8, 6.4, 7.000000000000001, '1.47', 8.2, 9.0, '0.50', 10.4, 13.3, 13.100000000000001, 10.9, '0.93', 12.8, 10.2, 11.6, 12.0, 15.7, 16.6, 15.5, 17.5, 17.7, 18.2, 5.0, 19.4, 23.2, 21.0, 6.0, 6.5, 5.5, 7.5, '0.19', 8.5, 8.0, 9.5, 10.0, 11.0, 11.5, 2.5, 12.5, '1.84', 13.5, 13.0, '1.1', 15.0, '0.40', 16.5, 16.0, 17.0, '0.9', 18.0, 19.5, '0.3', 20.0, '2.12', '1.73', '0.73', 4.5, 21.5, '2', '1.67', '1.33', '0.60', '1.53', '0.31', '1.71', '0.98', '1.77', 14.000000000000002, '0.4', '0.54', '0.65', '1.8', '0.29', '1.37', '1.07', '0.97', '0.52', '1.03', '0.91', '0.7', '0.47', '0.96', '2.16', 14.099999999999998, '0.94', '1.15', '1.68', '1.44', '0.55', '1.06', '1.31', '1.3', '1.55', '1.74', '0.46', 4.1, 4.6, 5.6, 5.1, '1.38', '0.58', 6.1, 7.1, 7.6, 8.6, 8.1, '0.78', '2.21', 9.6, '0.79', '1.6', '0.70', 9.1, '1.45', 10.1, 11.1, 12.6, 12.1, '1.24', '1.50', 14.6, 15.1, '1.78', 15.6, '?', '1.11', 6.6000000000000005, '1.23', '1.29', '1.79', '1.36', '1.61', '1.43', '0.35', '1.58', '1.39', '1.88', '1.75', 13.600000000000001, '0.83', 16.1, 17.6, 17.1, 18.1, '1.34', 20.1, 21.6, '0.82', '0.72', '0.64', '0.56', '0.77', '1.54', '2.32', 13.699999999999998, '1.72', '1.12', '1.20', '1.57', '0.75', '1.65', '1.02', '0.71', '1.56', 8.7, '1.32', '0.66', 9.2, 9.7, 10.7, 11.2, 12.2, 12.7, '1.08', '0.57', 14.2, 14.7, 15.2, 3.2, 16.7, 16.2, 4.7, 4.2, 5.2, 5.7, '1.63', 18.7, '1.49', 19.7, '0.44', 6.2, 6.7, 7.7, 20.2, '1.52', 7.200000000000001, '1.4', '1.35', 13.200000000000001, '0.42', '0.34', '1.26', '0.88', '0.92', '1.95', 1.9, 3.1, 3.7000000000000006, '1.19', '1.28', '0.95', '0.99', '0.20', '1.22', '2.03', '0', '1.80', '1.66', '0.80', '1.64', '0.37', '0.33', '1.51', '2.15', '0.48', 15.299999999999999, 3.8, '0.85', 4.8, '2.01', '1.18', 6.3, 7.8, 7.3, '1.16', '1.09', '0.25', '0.2', '0.69', 6.800000000000001, '1.10', 8.3, 8.8, 9.3, 9.8, 10.8, 10.3, 11.3, '1.94', '0.30', 12.3, 13.8, '1.81', 14.3, '0.86', 15.8, 16.3, 16.8, 17.3, 17.8, 18.3, 18.8, 19.3, 20.3, '0.76', '0.59', 23.3, '0.89', '1.87', '1.04', '0.87', '1.17', '1.42', '0.67', '0.5', '0.27', '1.59', 14.800000000000002, '1.48', '1.97', '1.83', '0.90', '0.74', '1.46', '0.53', '0.51', 14.899999999999999, '2.33', '0.68', '1.7', 16.9, 16.4, 17.4, 17.9, '1.25', 18.4, 18.9, '0.38', '1.05', '0.81', '0.62', '1.70', 4.4, 5.4, 6.9, 7.9, '1.93', 8.4, 8.9, '1.13', '0.45', 9.9, 9.4, 11.9, 11.4, 12.4, 12.9, '2.02', '0.63', 13.4, '1.82', '0.84', 15.9, 15.4, '0.49', 7.400000000000001, '1.01', '0.61', '0.17', '0.28', '1.89', '1.5', '1.27', '1.96', '0.32', 13.900000000000002, '1.2', 14.400000000000002, '0.944', '1.86', '0.6', '0.36', '1.40', '0.41', '1.21', '1', '1.14', '1.62', '1.76', '1.69', '1.41', '1.30', 14.499999999999998, '0.8'}\n",
            "FTI_measured :  {'y', 'f', 't', 'n'}\n",
            "FTI :  {0.54, 1.0, 2.8, 3.4000000000000004, '23', 5.8, 6.6000000000000005, 7.8, 8.5, 8.0, 10.8, 11.0, 12.3, 12.1, 14.6, 15.299999999999999, 9.7, 9.8, 11.5, 11.1, 12.6, 12.4, 13.699999999999998, 21.7, 17.7, 24.4, '178', 18.2, 28.300000000000004, 22.2, 22.7, 6.0, 6.5, 5.5, 31.2, 27.399999999999995, 7.5, 7.7620000000000005, 34.9, 39.5, 36.2, 35.6, 36.9, 37.8, 44.5, 9.5, 9.0, 9.375, 9.274000000000001, '138', 10.5, 10.0, 10.088999999999999, 9.875, 10.082999999999998, 2.0, 11.225999999999999, 54.6, 2.5, 11.018, 12.0, 61.199999999999996, 12.5, 64.2, '206', 13.5, 13.0, 14.137, 15.0, 15.5, 15.695999999999998, '51', 15.488, 16.0, 16.5, '18', 17.5, '281', 17.0, 18.0, 18.5, 18.399, '292', 19.5, 19.0, 19.542, 7.000000000000001, 20.5, 20.0, 7.457999999999999, '4.15', '228', '210', 4.0, '2', 21.0, '133', '650', 21.5, 22.0, 4.5, 23.5, '27', '3.1', 24.5, '68', '485', 25.5, '107', 5.0, 26.5, '53', '2.4', 1.5, '299', 0.25, 0.5, '54', 32.5, '72', '82', '157', '174', 10.107000000000001, 10.290999999999999, '176', 12.784999999999998, 12.577, '235', 14.000000000000002, '125', '21', '370', '362', 1.8000000000000003, '83', '128', '81', '274', '8.299999', 0.5579999999999999, '254', 0.5499999999999999, '63', '170', '229', 7.172000000000001, '272', 8.523, '91', '15', 10.041, 11.434000000000001, '155', '881', '20', 14.099999999999998, '8.40', '77', 3.2489999999999997, '26', '185', '101', 7.392, '9.099999', 0.3, '634', '143', '105', '40', 28.000000000000004, '121', '65', 4.6, 4.1, '79', 5.1, 5.6, '102', 6.1, 6.35, 6.493, 7.1, 7.6, 7.380000000000001, '56', '151', 8.6, 8.1, 8.731, '104', '237', 9.475, '3.84', '2.80', 9.1, 9.6, 10.6, '305', 10.1, '86', 11.6, 10.987, 11.088, 11.642000000000001, '246', 14.112, 15.1, 15.6, 3.6000000000000005, '?', '550', 6.451, '123', 0.76, 1.3, 0.909, '134', '168', '163', '334', '173', '36', '129', '169', '165', 8.165, '144', 8.939, 9.777999999999999, '60', 10.189, 11.207, 11.29, '158', 12.265999999999998, 12.058, 12.552, '111', 13.600000000000001, 13.100000000000001, '226', 14.515999999999998, 14.015999999999998, 16.6, '227', 16.1, 17.6, 17.1, 17.641, 17.54, 18.6, 18.1, 19.1, 19.6, 7.796, 20.6, 1.4, 1.9, 20.1, 21.6, 2.9, '262', 2.4, 21.1, 22.1, 22.6, 23.6, 23.1, 24.1, '209', '175', 25.1, '33', '218', 26.6, '245', 28.1, '9', '69', '271', '7', 32.1, '109', '73', 8.266, '94', 8.004, 9.879, '695', 9.677000000000001, 9.623, '207', 11.391, '2.8', '199', 13.409, '347', '17', '139', '181', 14.314000000000002, '49', '161', '35', '47', 7.492, '321', 4.6370000000000005, 2.983, '256', '10', '39', '98', 0.914, 0.8290000000000001, '80', '96', '356', '198', '115', '215', '46', '42', '236', '6.6', '325', '6', 8.2, 8.7, 8.212, 9.2, 9.562999999999999, '34', 10.2, 10.7, 10.706, 11.2, 11.7, 12.7, 12.2, 12.474, 13.617, '238', 1.7000000000000002, 14.7, 14.2, 14.760000000000002, '140', 15.2, 15.7, '273', 2.7, 3.2, 16.2, 16.7, 2.2, 4.2, 17.2, 4.7, 5.2, 18.7, 5.7, 6.2, 19.7, 6.7, 19.2, 7.7, 20.7, 7.587000000000001, '233', 20.2, '8.7', '7.6', '839', '5.5', 23.2, 23.7, 24.7, 24.2, 0.31, '214', '146', '187', '116', '202', 29.100000000000005, 29.7, '264', 21.516999999999996, '159', '166', '211', 7.200000000000001, '6.60', '1.4', '428', 11.490999999999998, 11.688, '118', '258', 13.200000000000001, 14.615999999999998, '546', '266', '369', '345', '8.5', '95', '354', '8.50', '702', '41', '259', '612', '29', 0.8500000000000001, 1.1, 2.6, 3.5000000000000004, 2.1, '232', 3.7000000000000006, 1.347, 3.528, 3.3000000000000003, 3.225, 2.217, 3.9, '184', 5.509, '194', '126', '154', 8.366, 9.771, '189', '395', 10.914000000000001, 10.878, 11.122, 12.680999999999997, '3.40', 13.003, '253', 15.384, '87', '5.4', '122', 18.503, '203', '288', 6.854, '201', 0.839, 6.692999999999999, '298', 20.061999999999998, '14', '3.4', '519', '50', '84', '8.90', '0', '470', 0.38399999999999995, 26.200000000000003, '114', '45', '186', 29.799999999999997, '188', '195', '3', 6.955, '5', 7.068, '131', 33.2, 8.467, 8.568, '152', '55', 9.979000000000001, 9.937, 10.08, 10.181, 10.187, '219', 11.693, '61', 11.592, 11.400999999999998, 11.33, '13', '156', 2.3, 15.592, 3.8, '117', 4.8, 4.3, '32', '19', 5.3, 5.925, 6.3, '162', '145', 7.3, '208', 0.4, 0.485, '150', '239', '7.50', '8.9', '177', '120', '59', 6.800000000000001, '8.4', '741', 8.3, 8.77, 8.8, '141', '100', 9.3, 8.669, 10.3, 10.383, 10.282, 10.669, 10.395, '48', '135', 11.3, 11.8, 11.895, 12.8, 11.794, 11.745999999999999, 11.776, '62', 13.8, 13.3, 13.407, 14.3, 14.449000000000002, 15.8, 16.3, 16.8, 16.532, 17.3, '28', 17.8, '5.50', 18.8, 18.3, '44', 19.8, 19.3, '89', 7.739999999999999, 20.3, 21.3, 21.8, '31', 22.8, '183', '242', '57', '213', 22.3, 23.8, 23.3, 24.3, '22', '76', 25.3, 25.8, 0.27999999999999997, 26.8, 27.3, '132', '241', '291', '312', '160', '257', '349', 1.6, '136', 8.627, '58', 9.728, 3.1, '74', '106', '205', '88', '37', 13.097, 14.800000000000002, '200', '38', '247', '67', '290', '97', '70', '223', '263', 0.7, 0.889, 0.9000000000000001, 11.538, '224', 0.24, 1.2, 0.8699999999999999, 0.44999999999999996, '4', '7.5', 6.792999999999999, 7.692, 7.192, '9.1', '248', 9.043, '378', 11.954, '180', '12', '220', '103', 13.103000000000002, '92', 13.305, 14.899999999999999, 14.817, '191', '75', 16.4, '359', 16.9, '112', 16.216, '250', 17.4, 17.9, 17.567, 16.424, 18.4, 18.9, 17.359, '268', 19.4, 19.9, 19.125999999999998, '78', 20.9, 20.4, '4.5', '119', '450', 21.4, 21.9, 22.4, '216', '852', '217', '3.5', 23.9, '43', 24.9, 25.4, 0.2, '71', 28.800000000000004, '190', '297', 4.9, '197', '329', 5.9, 5.4, '85', '130', 6.9, 6.4, 32.9, 7.9, 7.531000000000001, 33.4, 8.4, 8.9, '172', '265', 9.4, 9.9, 9.15, 10.9, 10.482999999999999, '142', 10.4, '196', 11.4, 11.9, 12.9, 12.787, 12.162, '148', 13.4, 15.4, 15.9, 5.745, '110', '193', 7.400000000000001, 7.358, 7.483, '99', '149', '711', '147', '113', 51.9, '153', '192', '332', '64', '167', '127', '308', '11', '179', '171', '8.70', '164', 8.971, 8.870000000000001, 8.315999999999999, 8.108, 9.09, '93', '482', 10.489, '25', 10.584, 10.602, 11.995000000000001, '231', 12.370000000000001, '445', 13.900000000000002, 13.608, 13.721, '355', 14.400000000000002, '90', 15.072, '240', '244', 17.035999999999998, 18.346, 19.334, '280', '204', '2.5', '4.85', 25.900000000000002, '316', '1.40', 0.415, 26.400000000000002, 28.999999999999996, '124', 3.042, '108', '137', '7.2', 6.548, 7.661, '642', 9.173, 9.667, 10.685, 10.81, '222', '255', '212', '24', 12.298, 13.81, '182', '243', 13.709000000000001, '16', '221', '7.20', 14.499999999999998, 14.011999999999999, 14.864000000000003, 15.28, 14.249999999999998, '249', 4.5360000000000005, 6.149, '251', '615', 7.792000000000001, '66', '52', '283', '337'}\n",
            "TBG_measured :  {nan, 'y', 'f', 't', 'n'}\n",
            "TBG :  {nan, '23', '36', '3.10', '12', '51', '122', '18', '14', '50', '27', '43', '3.1', '30', '0', '33', '45', '114', '190', '53', '69', '54', '72', '13', '17', '9.30', '0.15', '49', '21', '19', '32', '35', '110', '47', '10', '39', '80', '96', '63', '46', '11', '8.4', '100', '15', '34', '25', '135', '48', '8.799999', '20', '90', '8.40', '28', '44', '26', '31', '22', '116', '40', '108', '65', '4.9', '0.1', '9.599999', '86', '106', '24', '37', '16', '200', '38', '9.299999', '?', '8.50', '41', '52', '7.30', '29'}\n",
            "referral_source :  {nan, 'STMW', 'SVHC', 'SVHD', 'SVI', 'WEST', 'other'}\n",
            "Target :  {'hypothyroid', 'negative', 'hyperthyroid'}\n"
          ]
        }
      ]
    },
    {
      "cell_type": "markdown",
      "metadata": {
        "papermill": {
          "duration": 0.060143,
          "end_time": "2021-03-26T17:20:09.934002",
          "exception": false,
          "start_time": "2021-03-26T17:20:09.873859",
          "status": "completed"
        },
        "tags": [],
        "id": "u0DpG8CKZUD-"
      },
      "source": [
        "### Sometimes '?' has been used  instead of 'nan', so before counting how many nans are present, I need to do a substitoution:"
      ]
    },
    {
      "cell_type": "code",
      "metadata": {
        "execution": {
          "iopub.execute_input": "2021-03-26T17:20:10.075990Z",
          "iopub.status.busy": "2021-03-26T17:20:10.068471Z",
          "iopub.status.idle": "2021-03-26T17:20:10.268517Z",
          "shell.execute_reply": "2021-03-26T17:20:10.267861Z"
        },
        "papermill": {
          "duration": 0.274073,
          "end_time": "2021-03-26T17:20:10.268636",
          "exception": false,
          "start_time": "2021-03-26T17:20:09.994563",
          "status": "completed"
        },
        "tags": [],
        "colab": {
          "base_uri": "https://localhost:8080/"
        },
        "id": "mVXO7qrtZUD-",
        "outputId": "58776e1d-1df2-495d-9a20-9a297bb5ee88"
      },
      "source": [
        "data=data.replace({\"?\":np.NAN})\n",
        "data.isna().sum()"
      ],
      "execution_count": 24,
      "outputs": [
        {
          "output_type": "execute_result",
          "data": {
            "text/plain": [
              "age                            409\n",
              "sex                            394\n",
              "on_thyroxine                     0\n",
              "query_on_thyroxine               0\n",
              "on_antithyroid_medication        0\n",
              "sick                             0\n",
              "pregnant                         0\n",
              "thyroid_surgery                  0\n",
              "I131_treatment                3021\n",
              "query_hypothyroid                0\n",
              "query_hyperthyroid               0\n",
              "lithium                          0\n",
              "goitre                           0\n",
              "tumor                            0\n",
              "hypopituitary                 3021\n",
              "psych                         3021\n",
              "TSH_measured                     0\n",
              "TSH                           1321\n",
              "T3_measured                      0\n",
              "T3                            3372\n",
              "TT4_measured                     0\n",
              "TT4                            696\n",
              "T4U_measured                     0\n",
              "T4U                           1083\n",
              "FTI_measured                     0\n",
              "FTI                           1075\n",
              "TBG_measured                  7200\n",
              "TBG                          19174\n",
              "referral_source              10221\n",
              "Target                           0\n",
              "dtype: int64"
            ]
          },
          "metadata": {},
          "execution_count": 24
        }
      ]
    },
    {
      "cell_type": "markdown",
      "metadata": {
        "papermill": {
          "duration": 0.061263,
          "end_time": "2021-03-26T17:20:10.391554",
          "exception": false,
          "start_time": "2021-03-26T17:20:10.330291",
          "status": "completed"
        },
        "tags": [],
        "id": "Hd7s3fjUZUD_"
      },
      "source": [
        "### The 'TBG', 'referral_source' and 'TBG_measured' attributes have too many nan values, I have to drop them. Let's try to drop the 'sex' attribute too:"
      ]
    },
    {
      "cell_type": "code",
      "metadata": {
        "execution": {
          "iopub.execute_input": "2021-03-26T17:20:10.520411Z",
          "iopub.status.busy": "2021-03-26T17:20:10.519319Z",
          "iopub.status.idle": "2021-03-26T17:20:10.539842Z",
          "shell.execute_reply": "2021-03-26T17:20:10.540338Z"
        },
        "papermill": {
          "duration": 0.087728,
          "end_time": "2021-03-26T17:20:10.540492",
          "exception": false,
          "start_time": "2021-03-26T17:20:10.452764",
          "status": "completed"
        },
        "tags": [],
        "id": "_i4Gx4gsZUD_"
      },
      "source": [
        "del data['TBG']\n",
        "del data['referral_source']\n",
        "del data['TBG_measured']\n",
        "del data['sex']"
      ],
      "execution_count": 25,
      "outputs": []
    },
    {
      "cell_type": "markdown",
      "metadata": {
        "papermill": {
          "duration": 0.06071,
          "end_time": "2021-03-26T17:20:10.662681",
          "exception": false,
          "start_time": "2021-03-26T17:20:10.601971",
          "status": "completed"
        },
        "tags": [],
        "id": "mS8gKEtyZUD_"
      },
      "source": [
        "### I can have maximum nine nan values in a row, so I will drop all the rows wtih more than five nan values because they present very few data and aren't good enough for the classification:"
      ]
    },
    {
      "cell_type": "code",
      "metadata": {
        "execution": {
          "iopub.execute_input": "2021-03-26T17:20:10.842745Z",
          "iopub.status.busy": "2021-03-26T17:20:10.841726Z",
          "iopub.status.idle": "2021-03-26T17:20:10.906989Z",
          "shell.execute_reply": "2021-03-26T17:20:10.907487Z"
        },
        "papermill": {
          "duration": 0.182322,
          "end_time": "2021-03-26T17:20:10.907644",
          "exception": false,
          "start_time": "2021-03-26T17:20:10.725322",
          "status": "completed"
        },
        "tags": [],
        "colab": {
          "base_uri": "https://localhost:8080/"
        },
        "id": "b4jHLKz7ZUD_",
        "outputId": "5bc42be5-b260-432e-f790-94a87014f751"
      },
      "source": [
        "data.dropna(axis = 0, thresh = 20, inplace = True)\n",
        "data.isna().sum()"
      ],
      "execution_count": 26,
      "outputs": [
        {
          "output_type": "execute_result",
          "data": {
            "text/plain": [
              "age                           380\n",
              "on_thyroxine                    0\n",
              "query_on_thyroxine              0\n",
              "on_antithyroid_medication       0\n",
              "sick                            0\n",
              "pregnant                        0\n",
              "thyroid_surgery                 0\n",
              "I131_treatment               2773\n",
              "query_hypothyroid               0\n",
              "query_hyperthyroid              0\n",
              "lithium                         0\n",
              "goitre                          0\n",
              "tumor                           0\n",
              "hypopituitary                2773\n",
              "psych                        2773\n",
              "TSH_measured                    0\n",
              "TSH                          1074\n",
              "T3_measured                     0\n",
              "T3                           3125\n",
              "TT4_measured                    0\n",
              "TT4                           448\n",
              "T4U_measured                    0\n",
              "T4U                           835\n",
              "FTI_measured                    0\n",
              "FTI                           828\n",
              "Target                          0\n",
              "dtype: int64"
            ]
          },
          "metadata": {},
          "execution_count": 26
        }
      ]
    },
    {
      "cell_type": "markdown",
      "metadata": {
        "papermill": {
          "duration": 0.061512,
          "end_time": "2021-03-26T17:20:11.031029",
          "exception": false,
          "start_time": "2021-03-26T17:20:10.969517",
          "status": "completed"
        },
        "tags": [],
        "id": "kNKO8blCZUEA"
      },
      "source": [
        "### For the classification is important that the dataset only has numerical attributes, so I have to encode the categorical values into numerical values:"
      ]
    },
    {
      "cell_type": "code",
      "metadata": {
        "execution": {
          "iopub.execute_input": "2021-03-26T17:20:11.210721Z",
          "iopub.status.busy": "2021-03-26T17:20:11.209966Z",
          "iopub.status.idle": "2021-03-26T17:20:11.635247Z",
          "shell.execute_reply": "2021-03-26T17:20:11.634457Z"
        },
        "papermill": {
          "duration": 0.542502,
          "end_time": "2021-03-26T17:20:11.635376",
          "exception": false,
          "start_time": "2021-03-26T17:20:11.092874",
          "status": "completed"
        },
        "tags": [],
        "colab": {
          "base_uri": "https://localhost:8080/",
          "height": 470
        },
        "id": "qpBZG9syZUEA",
        "outputId": "9777b28a-3942-41e0-acdb-b0d3f188b09f"
      },
      "source": [
        "data = data.replace({\"t\":1,\"f\":0, \"y\":1, \"n\":0, \"hypothyroid\":1, \"negative\":0,\"hyperthyroid\":2, \"F\":1, \"M\":0})\n",
        "display(data.dtypes)"
      ],
      "execution_count": 27,
      "outputs": [
        {
          "output_type": "display_data",
          "data": {
            "text/plain": [
              "age                           object\n",
              "on_thyroxine                   int64\n",
              "query_on_thyroxine             int64\n",
              "on_antithyroid_medication      int64\n",
              "sick                           int64\n",
              "pregnant                       int64\n",
              "thyroid_surgery                int64\n",
              "I131_treatment               float64\n",
              "query_hypothyroid              int64\n",
              "query_hyperthyroid             int64\n",
              "lithium                        int64\n",
              "goitre                         int64\n",
              "tumor                          int64\n",
              "hypopituitary                float64\n",
              "psych                        float64\n",
              "TSH_measured                   int64\n",
              "TSH                           object\n",
              "T3_measured                    int64\n",
              "T3                            object\n",
              "TT4_measured                   int64\n",
              "TT4                           object\n",
              "T4U_measured                   int64\n",
              "T4U                           object\n",
              "FTI_measured                   int64\n",
              "FTI                           object\n",
              "Target                         int64\n",
              "dtype: object"
            ]
          },
          "metadata": {}
        }
      ]
    },
    {
      "cell_type": "code",
      "metadata": {
        "execution": {
          "iopub.execute_input": "2021-03-26T17:20:11.785101Z",
          "iopub.status.busy": "2021-03-26T17:20:11.766778Z",
          "iopub.status.idle": "2021-03-26T17:20:11.837738Z",
          "shell.execute_reply": "2021-03-26T17:20:11.838220Z"
        },
        "papermill": {
          "duration": 0.140075,
          "end_time": "2021-03-26T17:20:11.838368",
          "exception": false,
          "start_time": "2021-03-26T17:20:11.698293",
          "status": "completed"
        },
        "tags": [],
        "colab": {
          "base_uri": "https://localhost:8080/",
          "height": 470
        },
        "id": "h25QsL4AZUEB",
        "outputId": "75a0e352-12d2-4610-ead4-f46ed88bece3"
      },
      "source": [
        "cols = data.columns[data.dtypes.eq('object')]\n",
        "data[cols] = data[cols].apply(pd.to_numeric, errors='coerce')\n",
        "display(data.dtypes)"
      ],
      "execution_count": 28,
      "outputs": [
        {
          "output_type": "display_data",
          "data": {
            "text/plain": [
              "age                          float64\n",
              "on_thyroxine                   int64\n",
              "query_on_thyroxine             int64\n",
              "on_antithyroid_medication      int64\n",
              "sick                           int64\n",
              "pregnant                       int64\n",
              "thyroid_surgery                int64\n",
              "I131_treatment               float64\n",
              "query_hypothyroid              int64\n",
              "query_hyperthyroid             int64\n",
              "lithium                        int64\n",
              "goitre                         int64\n",
              "tumor                          int64\n",
              "hypopituitary                float64\n",
              "psych                        float64\n",
              "TSH_measured                   int64\n",
              "TSH                          float64\n",
              "T3_measured                    int64\n",
              "T3                           float64\n",
              "TT4_measured                   int64\n",
              "TT4                          float64\n",
              "T4U_measured                   int64\n",
              "T4U                          float64\n",
              "FTI_measured                   int64\n",
              "FTI                          float64\n",
              "Target                         int64\n",
              "dtype: object"
            ]
          },
          "metadata": {}
        }
      ]
    },
    {
      "cell_type": "code",
      "metadata": {
        "id": "qzxmIKZjoe_i"
      },
      "source": [
        "data.to_csv('total_dataset.csv')"
      ],
      "execution_count": 45,
      "outputs": []
    },
    {
      "cell_type": "markdown",
      "metadata": {
        "papermill": {
          "duration": 0.062896,
          "end_time": "2021-03-26T17:20:11.964377",
          "exception": false,
          "start_time": "2021-03-26T17:20:11.901481",
          "status": "completed"
        },
        "tags": [],
        "id": "GYd5g-_AZUEB"
      },
      "source": [
        "# Part 3: training of the classifiers\n",
        "### Before the training starts, I have to find the attributes most related to the target:"
      ]
    },
    {
      "cell_type": "code",
      "metadata": {
        "colab": {
          "base_uri": "https://localhost:8080/"
        },
        "id": "if4WhgACbD-p",
        "outputId": "feba1226-9007-4a7b-adfd-d8c62ce3aeea"
      },
      "source": [
        "data.info()"
      ],
      "execution_count": 29,
      "outputs": [
        {
          "output_type": "stream",
          "name": "stdout",
          "text": [
            "<class 'pandas.core.frame.DataFrame'>\n",
            "Int64Index: 19538 entries, 0 to 19785\n",
            "Data columns (total 26 columns):\n",
            " #   Column                     Non-Null Count  Dtype  \n",
            "---  ------                     --------------  -----  \n",
            " 0   age                        19158 non-null  float64\n",
            " 1   on_thyroxine               19538 non-null  int64  \n",
            " 2   query_on_thyroxine         19538 non-null  int64  \n",
            " 3   on_antithyroid_medication  19538 non-null  int64  \n",
            " 4   sick                       19538 non-null  int64  \n",
            " 5   pregnant                   19538 non-null  int64  \n",
            " 6   thyroid_surgery            19538 non-null  int64  \n",
            " 7   I131_treatment             16765 non-null  float64\n",
            " 8   query_hypothyroid          19538 non-null  int64  \n",
            " 9   query_hyperthyroid         19538 non-null  int64  \n",
            " 10  lithium                    19538 non-null  int64  \n",
            " 11  goitre                     19538 non-null  int64  \n",
            " 12  tumor                      19538 non-null  int64  \n",
            " 13  hypopituitary              16765 non-null  float64\n",
            " 14  psych                      16765 non-null  float64\n",
            " 15  TSH_measured               19538 non-null  int64  \n",
            " 16  TSH                        18464 non-null  float64\n",
            " 17  T3_measured                19538 non-null  int64  \n",
            " 18  T3                         16413 non-null  float64\n",
            " 19  TT4_measured               19538 non-null  int64  \n",
            " 20  TT4                        19090 non-null  float64\n",
            " 21  T4U_measured               19538 non-null  int64  \n",
            " 22  T4U                        18703 non-null  float64\n",
            " 23  FTI_measured               19538 non-null  int64  \n",
            " 24  FTI                        18710 non-null  float64\n",
            " 25  Target                     19538 non-null  int64  \n",
            "dtypes: float64(9), int64(17)\n",
            "memory usage: 4.0 MB\n"
          ]
        }
      ]
    },
    {
      "cell_type": "code",
      "metadata": {
        "execution": {
          "iopub.execute_input": "2021-03-26T17:20:12.098098Z",
          "iopub.status.busy": "2021-03-26T17:20:12.097439Z",
          "iopub.status.idle": "2021-03-26T17:20:12.142637Z",
          "shell.execute_reply": "2021-03-26T17:20:12.141992Z"
        },
        "papermill": {
          "duration": 0.11519,
          "end_time": "2021-03-26T17:20:12.142746",
          "exception": false,
          "start_time": "2021-03-26T17:20:12.027556",
          "status": "completed"
        },
        "tags": [],
        "colab": {
          "base_uri": "https://localhost:8080/",
          "height": 134
        },
        "id": "1bw_wcnDZUEB",
        "outputId": "b6998c07-87b3-4cfc-c6cc-b68cde71e7e5"
      },
      "source": [
        "corr_values = abs(data[data.columns[0:]].corr()['Target'][:])\n",
        "corr_values = corr_values.drop('Target')\n",
        "corr_values = corr_values[corr_values > 0.04]\n",
        "display(corr_values)"
      ],
      "execution_count": 30,
      "outputs": [
        {
          "output_type": "display_data",
          "data": {
            "text/plain": [
              "on_thyroxine          0.082979\n",
              "query_hypothyroid     0.050792\n",
              "query_hyperthyroid    0.077351\n",
              "psych                 0.050080\n",
              "TSH                   0.252200\n",
              "FTI                   0.046015\n",
              "Name: Target, dtype: float64"
            ]
          },
          "metadata": {}
        }
      ]
    },
    {
      "cell_type": "markdown",
      "metadata": {
        "papermill": {
          "duration": 0.06375,
          "end_time": "2021-03-26T17:20:12.271444",
          "exception": false,
          "start_time": "2021-03-26T17:20:12.207694",
          "status": "completed"
        },
        "tags": [],
        "id": "TZaHtSobZUEC"
      },
      "source": [
        "### Another thing that I have to do is to divide the dataset into two sets: the training set and the testing set."
      ]
    },
    {
      "cell_type": "code",
      "metadata": {
        "colab": {
          "base_uri": "https://localhost:8080/"
        },
        "id": "KmtQMeBwr9bH",
        "outputId": "2d6825ae-abfe-4419-8b81-9321aa5dc64b"
      },
      "source": [
        "corr_values.index"
      ],
      "execution_count": 46,
      "outputs": [
        {
          "output_type": "execute_result",
          "data": {
            "text/plain": [
              "Index(['on_thyroxine', 'query_hypothyroid', 'query_hyperthyroid', 'psych',\n",
              "       'TSH', 'FTI'],\n",
              "      dtype='object')"
            ]
          },
          "metadata": {},
          "execution_count": 46
        }
      ]
    },
    {
      "cell_type": "code",
      "metadata": {
        "execution": {
          "iopub.execute_input": "2021-03-26T17:20:12.409170Z",
          "iopub.status.busy": "2021-03-26T17:20:12.408485Z",
          "iopub.status.idle": "2021-03-26T17:20:12.416212Z",
          "shell.execute_reply": "2021-03-26T17:20:12.415632Z"
        },
        "papermill": {
          "duration": 0.08075,
          "end_time": "2021-03-26T17:20:12.416324",
          "exception": false,
          "start_time": "2021-03-26T17:20:12.335574",
          "status": "completed"
        },
        "tags": [],
        "id": "z70F66ytZUEC"
      },
      "source": [
        "def holdout(dataframe):\n",
        "  x = dataframe[['age','on_thyroxine', 'query_hypothyroid', 'query_hyperthyroid', 'psych',\n",
        "       'TSH', 'FTI']]\n",
        "  y = dataframe['Target']\n",
        "  X_train, X_test, y_train, y_test = train_test_split(x, y, test_size=0.30, random_state=42) \n",
        "  return X_train, X_test, y_train, y_test\n",
        "\n",
        "X_train, X_test, y_train, y_test = holdout(data)"
      ],
      "execution_count": 47,
      "outputs": []
    },
    {
      "cell_type": "markdown",
      "metadata": {
        "papermill": {
          "duration": 0.063502,
          "end_time": "2021-03-26T17:20:12.543757",
          "exception": false,
          "start_time": "2021-03-26T17:20:12.480255",
          "status": "completed"
        },
        "tags": [],
        "id": "-5aupkvrZUEC"
      },
      "source": [
        "### Now I will define the classifiers that I'm going to use. I need some classifiers that are friendly with nan values:"
      ]
    },
    {
      "cell_type": "code",
      "metadata": {
        "colab": {
          "base_uri": "https://localhost:8080/",
          "height": 470
        },
        "id": "TBC14_kujaL3",
        "outputId": "71ebf842-5ec3-4444-da7b-f220ec7cac9f"
      },
      "source": [
        "data1 = data.interpolate(method = 'spline', order = 3)\n",
        "display(data1.isna().sum())"
      ],
      "execution_count": 32,
      "outputs": [
        {
          "output_type": "display_data",
          "data": {
            "text/plain": [
              "age                          0\n",
              "on_thyroxine                 0\n",
              "query_on_thyroxine           0\n",
              "on_antithyroid_medication    0\n",
              "sick                         0\n",
              "pregnant                     0\n",
              "thyroid_surgery              0\n",
              "I131_treatment               0\n",
              "query_hypothyroid            0\n",
              "query_hyperthyroid           0\n",
              "lithium                      0\n",
              "goitre                       0\n",
              "tumor                        0\n",
              "hypopituitary                0\n",
              "psych                        0\n",
              "TSH_measured                 0\n",
              "TSH                          0\n",
              "T3_measured                  0\n",
              "T3                           0\n",
              "TT4_measured                 0\n",
              "TT4                          0\n",
              "T4U_measured                 0\n",
              "T4U                          0\n",
              "FTI_measured                 0\n",
              "FTI                          0\n",
              "Target                       0\n",
              "dtype: int64"
            ]
          },
          "metadata": {}
        }
      ]
    },
    {
      "cell_type": "code",
      "metadata": {
        "id": "ZqOSybqIjd1G"
      },
      "source": [
        "classifiers1 = {\n",
        "    \"XGBClassifier\" : XGBClassifier(learning_rate=0.01),\n",
        "    \"CatBoostClassifier\" : CatBoostClassifier(max_depth=4,verbose=0),\n",
        "    \"Nearest Neighbors\" : KNeighborsClassifier(4),\n",
        "    \"Decision Tree\" : DecisionTreeClassifier(class_weight = 'balanced'),\n",
        "    \"Random Forest\": RandomForestClassifier(class_weight = 'balanced',random_state = 1),\n",
        "    \"ExtraTrees\": ExtraTreesClassifier(class_weight = 'balanced',random_state = 1),\n",
        "    \"MLPClassifier\": MLPClassifier(hidden_layer_sizes=(256,128,64,32),activation=\"relu\",random_state=1)\n",
        "}"
      ],
      "execution_count": 33,
      "outputs": []
    },
    {
      "cell_type": "code",
      "metadata": {
        "id": "AbBXTq9Hkz4K"
      },
      "source": [
        "def classification(classifiers, X_train, X_test, y_train, y_test):\n",
        "    # Creo un dataframe per visualizzare i risultati calcolati\n",
        "  res = pd.DataFrame(columns=[\"Classifier\", \n",
        "                                \"Accuracy\", \n",
        "                                \"Precision\", \n",
        "                                \"Recall\", \n",
        "                                \"FScore\"])\n",
        "  for name, clf in classifiers.items():\n",
        "            clf.fit(X_train, y_train)\n",
        "            y_pred = clf.predict(X_test)\n",
        "            pr, rc, fs, sup = metrics.precision_recall_fscore_support(y_test, y_pred, average='macro')\n",
        "            res = res.append({\"Classifier\": name,\"Accuracy\": round(metrics.accuracy_score(y_test, y_pred), 4),\n",
        "                              \"Precision\": round(pr, 4), \"Recall\":round(rc, 4), \"FScore\":round(fs, 4)}, ignore_index=True)\n",
        "            print(\"Confusion matrix for: \", name)\n",
        "            display(confusion_matrix(y_test, y_pred))\n",
        "  res.set_index(\"FScore\", inplace=True)\n",
        "  res.sort_values(by=\"FScore\", ascending=False, inplace=True)   \n",
        "  return res"
      ],
      "execution_count": 35,
      "outputs": []
    },
    {
      "cell_type": "code",
      "metadata": {
        "colab": {
          "base_uri": "https://localhost:8080/",
          "height": 883
        },
        "id": "w9o8UB9Bjin0",
        "outputId": "36b30751-43c4-4700-9409-daab4ee7b08e"
      },
      "source": [
        "corr_values = abs(data1[data1.columns[0:]].corr()['Target'][:])\n",
        "corr_values = corr_values.drop('Target')\n",
        "corr_values = corr_values[corr_values > 0.04]\n",
        "display(corr_values)\n",
        "\n",
        "X_train1, X_test1, y_train1, y_test1 = holdout(data1)\n",
        "\n",
        "display(classification(classifiers1,X_train1, X_test1, y_train1, y_test1))"
      ],
      "execution_count": 48,
      "outputs": [
        {
          "output_type": "display_data",
          "data": {
            "text/plain": [
              "on_thyroxine          0.082979\n",
              "query_hypothyroid     0.050792\n",
              "query_hyperthyroid    0.077351\n",
              "psych                 0.048771\n",
              "TSH                   0.219327\n",
              "FTI                   0.040752\n",
              "Name: Target, dtype: float64"
            ]
          },
          "metadata": {}
        },
        {
          "output_type": "stream",
          "name": "stdout",
          "text": [
            "Confusion matrix for:  XGBClassifier\n"
          ]
        },
        {
          "output_type": "display_data",
          "data": {
            "text/plain": [
              "array([[5167,  101,   11],\n",
              "       [ 123,  309,    1],\n",
              "       [  89,    9,   52]])"
            ]
          },
          "metadata": {}
        },
        {
          "output_type": "stream",
          "name": "stdout",
          "text": [
            "Confusion matrix for:  CatBoostClassifier\n"
          ]
        },
        {
          "output_type": "display_data",
          "data": {
            "text/plain": [
              "array([[5167,   88,   24],\n",
              "       [  25,  408,    0],\n",
              "       [  45,    1,  104]])"
            ]
          },
          "metadata": {}
        },
        {
          "output_type": "stream",
          "name": "stdout",
          "text": [
            "Confusion matrix for:  Nearest Neighbors\n"
          ]
        },
        {
          "output_type": "display_data",
          "data": {
            "text/plain": [
              "array([[5176,   97,    6],\n",
              "       [ 293,  139,    1],\n",
              "       [ 100,    6,   44]])"
            ]
          },
          "metadata": {}
        },
        {
          "output_type": "stream",
          "name": "stdout",
          "text": [
            "Confusion matrix for:  Decision Tree\n"
          ]
        },
        {
          "output_type": "display_data",
          "data": {
            "text/plain": [
              "array([[5160,   76,   43],\n",
              "       [  63,  368,    2],\n",
              "       [  42,    1,  107]])"
            ]
          },
          "metadata": {}
        },
        {
          "output_type": "stream",
          "name": "stdout",
          "text": [
            "Confusion matrix for:  Random Forest\n"
          ]
        },
        {
          "output_type": "display_data",
          "data": {
            "text/plain": [
              "array([[5170,   85,   24],\n",
              "       [  42,  391,    0],\n",
              "       [  47,    2,  101]])"
            ]
          },
          "metadata": {}
        },
        {
          "output_type": "stream",
          "name": "stdout",
          "text": [
            "Confusion matrix for:  ExtraTrees\n"
          ]
        },
        {
          "output_type": "display_data",
          "data": {
            "text/plain": [
              "array([[5175,   79,   25],\n",
              "       [  96,  337,    0],\n",
              "       [  55,    5,   90]])"
            ]
          },
          "metadata": {}
        },
        {
          "output_type": "stream",
          "name": "stdout",
          "text": [
            "Confusion matrix for:  MLPClassifier\n"
          ]
        },
        {
          "output_type": "display_data",
          "data": {
            "text/plain": [
              "array([[5162,  102,   15],\n",
              "       [ 217,  213,    3],\n",
              "       [  97,   19,   34]])"
            ]
          },
          "metadata": {}
        },
        {
          "output_type": "display_data",
          "data": {
            "text/html": [
              "<div>\n",
              "<style scoped>\n",
              "    .dataframe tbody tr th:only-of-type {\n",
              "        vertical-align: middle;\n",
              "    }\n",
              "\n",
              "    .dataframe tbody tr th {\n",
              "        vertical-align: top;\n",
              "    }\n",
              "\n",
              "    .dataframe thead th {\n",
              "        text-align: right;\n",
              "    }\n",
              "</style>\n",
              "<table border=\"1\" class=\"dataframe\">\n",
              "  <thead>\n",
              "    <tr style=\"text-align: right;\">\n",
              "      <th></th>\n",
              "      <th>Classifier</th>\n",
              "      <th>Accuracy</th>\n",
              "      <th>Precision</th>\n",
              "      <th>Recall</th>\n",
              "    </tr>\n",
              "    <tr>\n",
              "      <th>FScore</th>\n",
              "      <th></th>\n",
              "      <th></th>\n",
              "      <th></th>\n",
              "      <th></th>\n",
              "    </tr>\n",
              "  </thead>\n",
              "  <tbody>\n",
              "    <tr>\n",
              "      <th>0.8694</th>\n",
              "      <td>CatBoostClassifier</td>\n",
              "      <td>0.9688</td>\n",
              "      <td>0.8734</td>\n",
              "      <td>0.8715</td>\n",
              "    </tr>\n",
              "    <tr>\n",
              "      <th>0.8581</th>\n",
              "      <td>Random Forest</td>\n",
              "      <td>0.9659</td>\n",
              "      <td>0.8697</td>\n",
              "      <td>0.8519</td>\n",
              "    </tr>\n",
              "    <tr>\n",
              "      <th>0.8419</th>\n",
              "      <td>Decision Tree</td>\n",
              "      <td>0.9613</td>\n",
              "      <td>0.8370</td>\n",
              "      <td>0.8469</td>\n",
              "    </tr>\n",
              "    <tr>\n",
              "      <th>0.8148</th>\n",
              "      <td>ExtraTrees</td>\n",
              "      <td>0.9556</td>\n",
              "      <td>0.8516</td>\n",
              "      <td>0.7862</td>\n",
              "    </tr>\n",
              "    <tr>\n",
              "      <th>0.7270</th>\n",
              "      <td>XGBClassifier</td>\n",
              "      <td>0.9430</td>\n",
              "      <td>0.8369</td>\n",
              "      <td>0.6797</td>\n",
              "    </tr>\n",
              "    <tr>\n",
              "      <th>0.6173</th>\n",
              "      <td>MLPClassifier</td>\n",
              "      <td>0.9227</td>\n",
              "      <td>0.7447</td>\n",
              "      <td>0.5655</td>\n",
              "    </tr>\n",
              "    <tr>\n",
              "      <th>0.6013</th>\n",
              "      <td>Nearest Neighbors</td>\n",
              "      <td>0.9142</td>\n",
              "      <td>0.7889</td>\n",
              "      <td>0.5316</td>\n",
              "    </tr>\n",
              "  </tbody>\n",
              "</table>\n",
              "</div>"
            ],
            "text/plain": [
              "                Classifier  Accuracy  Precision  Recall\n",
              "FScore                                                 \n",
              "0.8694  CatBoostClassifier    0.9688     0.8734  0.8715\n",
              "0.8581       Random Forest    0.9659     0.8697  0.8519\n",
              "0.8419       Decision Tree    0.9613     0.8370  0.8469\n",
              "0.8148          ExtraTrees    0.9556     0.8516  0.7862\n",
              "0.7270       XGBClassifier    0.9430     0.8369  0.6797\n",
              "0.6173       MLPClassifier    0.9227     0.7447  0.5655\n",
              "0.6013   Nearest Neighbors    0.9142     0.7889  0.5316"
            ]
          },
          "metadata": {}
        }
      ]
    },
    {
      "cell_type": "code",
      "metadata": {
        "colab": {
          "base_uri": "https://localhost:8080/"
        },
        "id": "05Zxcc3qk_AN",
        "outputId": "03587f2b-deba-4ca7-d4d7-b925c94dd2a0"
      },
      "source": [
        "model=RandomForestClassifier(class_weight = 'balanced',random_state = 1)\n",
        "model.fit(X_train1,y_train1)"
      ],
      "execution_count": 49,
      "outputs": [
        {
          "output_type": "execute_result",
          "data": {
            "text/plain": [
              "RandomForestClassifier(bootstrap=True, ccp_alpha=0.0, class_weight='balanced',\n",
              "                       criterion='gini', max_depth=None, max_features='auto',\n",
              "                       max_leaf_nodes=None, max_samples=None,\n",
              "                       min_impurity_decrease=0.0, min_impurity_split=None,\n",
              "                       min_samples_leaf=1, min_samples_split=2,\n",
              "                       min_weight_fraction_leaf=0.0, n_estimators=100,\n",
              "                       n_jobs=None, oob_score=False, random_state=1, verbose=0,\n",
              "                       warm_start=False)"
            ]
          },
          "metadata": {},
          "execution_count": 49
        }
      ]
    },
    {
      "cell_type": "code",
      "metadata": {
        "colab": {
          "base_uri": "https://localhost:8080/"
        },
        "id": "m8Iml2R6lGJw",
        "outputId": "7819c522-94e0-46e8-b098-42bddc333a4d"
      },
      "source": [
        "fet=[]\n",
        "fet.append(int(40))\n",
        "fet.append(int(0))\n",
        "fet.append(int(0))\n",
        "fet.append(int(0))\n",
        "fet.append(float(0))\n",
        "fet.append(float(0.003))\n",
        "fet.append(float(0))\n",
        "model.predict([np.array(fet)])"
      ],
      "execution_count": 50,
      "outputs": [
        {
          "output_type": "execute_result",
          "data": {
            "text/plain": [
              "array([0])"
            ]
          },
          "metadata": {},
          "execution_count": 50
        }
      ]
    },
    {
      "cell_type": "code",
      "metadata": {
        "id": "MMHNsY8Ll-FE"
      },
      "source": [
        "import _pickle\n",
        "_pickle.dump(model,open('model.pkl','wb'))"
      ],
      "execution_count": 51,
      "outputs": []
    },
    {
      "cell_type": "markdown",
      "metadata": {
        "papermill": {
          "duration": 0.101813,
          "end_time": "2021-03-26T17:27:24.465392",
          "exception": false,
          "start_time": "2021-03-26T17:27:24.363579",
          "status": "completed"
        },
        "tags": [],
        "id": "hWR9KcRJZUEL"
      },
      "source": [
        "# Part 4: Final Discussion\n",
        "### The final dataset that I got is very umbalanced, that's true, but it's normal because only a small percentage of the world population suffers of thyroid disease. Nevertheless, thanks to a good pre-elaboration of the data, I got some very accurate classifiers, that have a good FScore too. I could handle the nan values beacause the results didn't get much worse, and even with the normalization and the discretization they didn't change that much. After having balanced the normalized dataset, we got the best results of the notebook, this means that the work that had been done before was pretty good. In the future, it would be interesting to continue these studies hoping to use more data."
      ]
    },
    {
      "cell_type": "code",
      "metadata": {
        "id": "OIT6J5O7l7Qn"
      },
      "source": [
        ""
      ],
      "execution_count": null,
      "outputs": []
    }
  ]
}